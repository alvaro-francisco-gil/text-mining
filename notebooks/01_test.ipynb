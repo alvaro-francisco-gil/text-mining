{
 "cells": [
  {
   "cell_type": "code",
   "execution_count": 23,
   "metadata": {},
   "outputs": [],
   "source": [
    "import kagglehub\n",
    "import time, os, collections"
   ]
  },
  {
   "cell_type": "code",
   "execution_count": 24,
   "metadata": {},
   "outputs": [],
   "source": [
    "ptb_path = kagglehub.dataset_download(\"aliakay8/penn-treebank-dataset\")"
   ]
  },
  {
   "cell_type": "code",
   "execution_count": 25,
   "metadata": {},
   "outputs": [
    {
     "name": "stdout",
     "output_type": "stream",
     "text": [
      "C:\\Users\\alvar\\.cache\\kagglehub\\datasets\\aliakay8\\penn-treebank-dataset\\versions\\1\\ptbdataset\\ptb.test.txt\n",
      "C:\\Users\\alvar\\.cache\\kagglehub\\datasets\\aliakay8\\penn-treebank-dataset\\versions\\1\\ptbdataset\\ptb.train.txt\n",
      "C:\\Users\\alvar\\.cache\\kagglehub\\datasets\\aliakay8\\penn-treebank-dataset\\versions\\1\\ptbdataset\\ptb.valid.txt\n"
     ]
    }
   ],
   "source": [
    "for dirname, _, filenames in os.walk(ptb_path):\n",
    "    for filename in filenames:\n",
    "        print(os.path.join(dirname, filename))"
   ]
  },
  {
   "cell_type": "code",
   "execution_count": 26,
   "metadata": {},
   "outputs": [],
   "source": [
    "def read_words(filename):\n",
    "    with open(filename, \"r\", encoding=\"utf-8\", errors=\"replace\") as f:\n",
    "        return f.read().replace(\"\\n\", \"<eos>\").split()\n",
    "    \n",
    "def build_vocab(filename):\n",
    "    data = read_words(filename)\n",
    "    counter = collections.Counter(data)\n",
    "    count_pairs = sorted(counter.items(), key=lambda x: (-x[1], x[0]))\n",
    "    words, _ = zip(*count_pairs)\n",
    "    word_to_id = {word: i for i, word in enumerate(words)}\n",
    "    return word_to_id\n",
    "\n",
    "def file_to_word_ids(filename, word_to_id):\n",
    "    data = read_words(filename)\n",
    "    return [word_to_id[word] for word in data if word in word_to_id]"
   ]
  },
  {
   "cell_type": "code",
   "execution_count": 29,
   "metadata": {},
   "outputs": [
    {
     "data": {
      "text/plain": [
       "('C:\\\\Users\\\\alvar\\\\.cache\\\\kagglehub\\\\datasets\\\\aliakay8\\\\penn-treebank-dataset\\\\versions\\\\1\\\\ptbdataset\\\\ptb.train.txt',\n",
       " 'C:\\\\Users\\\\alvar\\\\.cache\\\\kagglehub\\\\datasets\\\\aliakay8\\\\penn-treebank-dataset\\\\versions\\\\1\\\\ptbdataset\\\\ptb.valid.txt',\n",
       " 'C:\\\\Users\\\\alvar\\\\.cache\\\\kagglehub\\\\datasets\\\\aliakay8\\\\penn-treebank-dataset\\\\versions\\\\1\\\\ptbdataset\\\\ptb.test.txt')"
      ]
     },
     "execution_count": 29,
     "metadata": {},
     "output_type": "execute_result"
    }
   ],
   "source": [
    "train_path = r\"C:\\Users\\alvar\\.cache\\kagglehub\\datasets\\aliakay8\\penn-treebank-dataset\\versions\\1\\ptbdataset\\ptb.train.txt\"\n",
    "valid_path = r\"C:\\Users\\alvar\\.cache\\kagglehub\\datasets\\aliakay8\\penn-treebank-dataset\\versions\\1\\ptbdataset\\ptb.valid.txt\"\n",
    "test_path= r\"C:\\Users\\alvar\\.cache\\kagglehub\\datasets\\aliakay8\\penn-treebank-dataset\\versions\\1\\ptbdataset\\ptb.test.txt\"\n",
    "train_path, valid_path, test_path"
   ]
  },
  {
   "cell_type": "code",
   "execution_count": 30,
   "metadata": {},
   "outputs": [],
   "source": [
    "def load_ptb_dataset():\n",
    "    \n",
    "    word_to_id = build_vocab(train_path)\n",
    "\n",
    "    train_data = file_to_word_ids(train_path, word_to_id)\n",
    "    valid_data = file_to_word_ids(valid_path, word_to_id)\n",
    "    test_data = file_to_word_ids(test_path, word_to_id)\n",
    "    vocab_size = len(word_to_id)\n",
    "\n",
    "    return train_data, valid_data, test_data, vocab_size, word_to_id\n",
    "\n",
    "train_data, valid_data, test_data, vocab_size, word_to_id = load_ptb_dataset()"
   ]
  },
  {
   "cell_type": "code",
   "execution_count": 31,
   "metadata": {},
   "outputs": [
    {
     "name": "stdout",
     "output_type": "stream",
     "text": [
      "Vocabulary size: 10000 Train data size: 929589 Valid data size: 73760 Test data size: 82430\n",
      "\n",
      "\n",
      "Sample word to id mapping: [('the', 0), ('<unk>', 1), ('<eos>', 2), ('N', 3), ('of', 4)]\n"
     ]
    }
   ],
   "source": [
    "print(f\"Vocabulary size: {vocab_size}\",f\"Train data size: {len(train_data)}\",\n",
    "f\"Valid data size: {len(valid_data)}\", f\"Test data size: {len(test_data)}\")\n",
    "print(f\"\\n\\nSample word to id mapping: {list(word_to_id.items())[:5]}\")"
   ]
  },
  {
   "cell_type": "code",
   "execution_count": 34,
   "metadata": {},
   "outputs": [
    {
     "data": {
      "text/plain": [
       "list"
      ]
     },
     "execution_count": 34,
     "metadata": {},
     "output_type": "execute_result"
    }
   ],
   "source": [
    "type(train_data)"
   ]
  },
  {
   "cell_type": "code",
   "execution_count": 32,
   "metadata": {},
   "outputs": [
    {
     "name": "stdout",
     "output_type": "stream",
     "text": [
      "['aer', 'banknote', 'berlitz', 'calloway', 'centrust', 'cluett', 'fromstein', 'gitano', 'guterman', 'hydro-quebec', 'ipo', 'kia', 'memotec', 'mlx', 'nahb', 'punts', 'rake', 'regatta', 'rubens', 'sim', 'snack-food', 'ssangyong', 'swapo', 'wachter', '<eos>', 'pierre', '<unk>', 'N', 'years', 'old', 'will', 'join', 'the', 'board', 'as', 'a', 'nonexecutive', 'director', 'nov.', 'N', '<eos>', 'mr.', '<unk>', 'is', 'chairman', 'of', '<unk>', 'n.v.', 'the', 'dutch', 'publishing', 'group', '<eos>', 'rudolph', '<unk>', 'N', 'years', 'old', 'and', 'former', 'chairman', 'of', 'consolidated', 'gold', 'fields', 'plc', 'was', 'named', 'a', 'nonexecutive', 'director', 'of', 'this', 'british', 'industrial', 'conglomerate', '<eos>', 'a', 'form', 'of', 'asbestos', 'once', 'used', 'to', 'make', 'kent', 'cigarette', 'filters', 'has', 'caused', 'a', 'high', 'percentage', 'of', 'cancer', 'deaths', 'among', 'a', 'group', 'of']\n"
     ]
    }
   ],
   "source": [
    "def id_to_word(id_list, word_to_id=word_to_id):\n",
    "    id_to_word_dict = {v: k for k, v in word_to_id.items()}\n",
    "    return [id_to_word_dict[id_] for id_ in id_list]\n",
    "\n",
    "print(id_to_word(train_data[0:100]))"
   ]
  },
  {
   "cell_type": "code",
   "execution_count": 33,
   "metadata": {},
   "outputs": [
    {
     "name": "stdout",
     "output_type": "stream",
     "text": [
      "[9970, 9971, 9972, 9974, 9975, 9976, 9980, 9981, 9982, 9983, 9984, 9986, 9987, 9988, 9989, 9991, 9992, 9993, 9994, 9995, 9996, 9997, 9998, 9999, 2, 9256, 1, 3, 72, 393, 33, 2133, 0, 146, 19, 6, 9207, 276, 407, 3, 2, 23, 1, 13, 141, 4, 1, 5465, 0, 3081, 1596, 96, 2, 7682, 1, 3, 72, 393, 8, 337, 141, 4, 2477, 657, 2170, 955, 24, 521, 6, 9207, 276, 4, 39, 303, 438, 3684, 2, 6, 942, 4, 3150, 496, 263, 5, 138, 6092, 4241, 6036, 30, 988, 6, 241, 760, 4, 1015, 2786, 211, 6, 96, 4]\n"
     ]
    }
   ],
   "source": [
    "print(train_data[0:100])"
   ]
  },
  {
   "cell_type": "code",
   "execution_count": null,
   "metadata": {},
   "outputs": [],
   "source": []
  },
  {
   "cell_type": "code",
   "execution_count": null,
   "metadata": {},
   "outputs": [],
   "source": []
  },
  {
   "cell_type": "code",
   "execution_count": null,
   "metadata": {},
   "outputs": [],
   "source": []
  },
  {
   "cell_type": "code",
   "execution_count": null,
   "metadata": {},
   "outputs": [],
   "source": []
  },
  {
   "cell_type": "code",
   "execution_count": null,
   "metadata": {},
   "outputs": [],
   "source": []
  },
  {
   "cell_type": "code",
   "execution_count": null,
   "metadata": {},
   "outputs": [],
   "source": []
  },
  {
   "cell_type": "code",
   "execution_count": null,
   "metadata": {},
   "outputs": [],
   "source": []
  },
  {
   "cell_type": "code",
   "execution_count": null,
   "metadata": {},
   "outputs": [],
   "source": []
  },
  {
   "cell_type": "code",
   "execution_count": null,
   "metadata": {},
   "outputs": [],
   "source": []
  }
 ],
 "metadata": {
  "kernelspec": {
   "display_name": "text_mining-F4nBXGac",
   "language": "python",
   "name": "python3"
  },
  "language_info": {
   "codemirror_mode": {
    "name": "ipython",
    "version": 3
   },
   "file_extension": ".py",
   "mimetype": "text/x-python",
   "name": "python",
   "nbconvert_exporter": "python",
   "pygments_lexer": "ipython3",
   "version": "3.11.7"
  }
 },
 "nbformat": 4,
 "nbformat_minor": 2
}
