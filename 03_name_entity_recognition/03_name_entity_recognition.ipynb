{
 "cells": [
  {
   "cell_type": "markdown",
   "metadata": {},
   "source": [
    "# Imports"
   ]
  },
  {
   "cell_type": "markdown",
   "metadata": {},
   "source": [
    "## Libraries"
   ]
  },
  {
   "cell_type": "code",
   "execution_count": 1,
   "metadata": {},
   "outputs": [
    {
     "name": "stdout",
     "output_type": "stream",
     "text": [
      "Torch version: 2.2.0+cu121\n",
      "CUDA available: True\n",
      "CUDA device name: NVIDIA GeForce RTX 4070 SUPER\n"
     ]
    }
   ],
   "source": [
    "from transformers import AutoTokenizer, AutoModelForTokenClassification, TokenClassificationPipeline\n",
    "from transformers import pipeline\n",
    "from datasets import load_dataset\n",
    "import openai\n",
    "import json\n",
    "import os\n",
    "import re\n",
    "import random\n",
    "import glob\n",
    "import ast\n",
    "import numpy as np\n",
    "import matplotlib.pyplot as plt\n",
    "\n",
    "from dotenv import load_dotenv\n",
    "load_dotenv()\n",
    "openai_api_key = os.getenv('OPENAI_API_KEY')\n",
    "openai.api_key = openai_api_key\n",
    "\n",
    "import torch\n",
    "print(\"Torch version:\", torch.__version__)\n",
    "print(\"CUDA available:\", torch.cuda.is_available())\n",
    "print(\"CUDA device name:\", torch.cuda.get_device_name(0) if torch.cuda.is_available() else \"No CUDA device detected\")\n",
    "\n",
    "import logging\n",
    "logging.basicConfig(level=logging.INFO, format='%(asctime)s - %(levelname)s - %(message)s')\n",
    "\n",
    "import pandas as pd\n",
    "# pd.set_option('display.max_colwidth', None)\n",
    "pd.set_option('display.max_rows', None)\n",
    "pd.set_option('display.max_columns', None)"
   ]
  },
  {
   "cell_type": "markdown",
   "metadata": {},
   "source": [
    "## Data"
   ]
  },
  {
   "cell_type": "code",
   "execution_count": 2,
   "metadata": {},
   "outputs": [
    {
     "name": "stdout",
     "output_type": "stream",
     "text": [
      "Train dataset length: 14041\n",
      "Test dataset length: 3453\n"
     ]
    }
   ],
   "source": [
    "dataset = load_dataset(\"conll2003\")\n",
    "\n",
    "train_dataset = dataset['train']\n",
    "test_dataset = dataset['test']\n",
    "print(\"Train dataset length:\", len(train_dataset))\n",
    "print(\"Test dataset length:\", len(test_dataset))"
   ]
  },
  {
   "cell_type": "code",
   "execution_count": 3,
   "metadata": {},
   "outputs": [
    {
     "name": "stdout",
     "output_type": "stream",
     "text": [
      "ner_tags: ['O', 'B-PER', 'I-PER', 'B-ORG', 'I-ORG', 'B-LOC', 'I-LOC', 'B-MISC', 'I-MISC']\n"
     ]
    }
   ],
   "source": [
    "features = train_dataset.features\n",
    "ner_tags = features['ner_tags'].feature.names\n",
    "\n",
    "print(\"ner_tags:\", ner_tags)"
   ]
  },
  {
   "cell_type": "code",
   "execution_count": 4,
   "metadata": {},
   "outputs": [
    {
     "name": "stdout",
     "output_type": "stream",
     "text": [
      "Example sentence: ['EU', 'rejects', 'German', 'call', 'to', 'boycott', 'British', 'lamb', '.']\n",
      "Example NER tags: [3, 0, 7, 0, 0, 0, 7, 0, 0]\n"
     ]
    }
   ],
   "source": [
    "train_tokens = train_dataset['tokens']\n",
    "train_ner_tags = train_dataset['ner_tags']\n",
    "\n",
    "test_tokens = test_dataset['tokens']\n",
    "test_ner_tags = test_dataset['ner_tags']\n",
    "\n",
    "example_sentence = train_tokens[0]\n",
    "example_ner_tags = train_ner_tags[0]\n",
    "\n",
    "print(\"Example sentence:\", example_sentence)\n",
    "print(\"Example NER tags:\", example_ner_tags)"
   ]
  },
  {
   "cell_type": "markdown",
   "metadata": {},
   "source": [
    "## Models"
   ]
  },
  {
   "cell_type": "markdown",
   "metadata": {},
   "source": [
    "### bert-base-NER"
   ]
  },
  {
   "cell_type": "code",
   "execution_count": 5,
   "metadata": {},
   "outputs": [
    {
     "name": "stderr",
     "output_type": "stream",
     "text": [
      "/opt/conda/lib/python3.11/site-packages/huggingface_hub/file_download.py:797: FutureWarning: `resume_download` is deprecated and will be removed in version 1.0.0. Downloads always resume when possible. If you want to force a new download, use `force_download=True`.\n",
      "  warnings.warn(\n",
      "Some weights of the model checkpoint at dslim/bert-base-NER were not used when initializing BertForTokenClassification: ['bert.pooler.dense.weight', 'bert.pooler.dense.bias']\n",
      "- This IS expected if you are initializing BertForTokenClassification from the checkpoint of a model trained on another task or with another architecture (e.g. initializing a BertForSequenceClassification model from a BertForPreTraining model).\n",
      "- This IS NOT expected if you are initializing BertForTokenClassification from the checkpoint of a model that you expect to be exactly identical (initializing a BertForSequenceClassification model from a BertForSequenceClassification model).\n",
      "Using /root/.cache/torch_extensions/py311_cu121 as PyTorch extensions root...\n",
      "Detected CUDA files, patching ldflags\n",
      "Failed to load CUDA kernels. Mra requires custom CUDA kernels. Please verify that compatible versions of PyTorch and CUDA Toolkit are installed: CUDA_HOME environment variable is not set. Please set it to your CUDA install root.\n"
     ]
    }
   ],
   "source": [
    "tokenizer = AutoTokenizer.from_pretrained(\"dslim/bert-base-NER\")\n",
    "model = AutoModelForTokenClassification.from_pretrained(\"dslim/bert-base-NER\")\n",
    "nlp = pipeline(\"ner\", model=model, tokenizer=tokenizer)"
   ]
  },
  {
   "cell_type": "code",
   "execution_count": 6,
   "metadata": {},
   "outputs": [],
   "source": [
    "def join_words(words):\n",
    "    sentence = \" \".join(words)\n",
    "    sentence = re.sub(r'\\s+([?.!,])', r'\\1', sentence)\n",
    "    return sentence.strip()"
   ]
  },
  {
   "cell_type": "code",
   "execution_count": 7,
   "metadata": {},
   "outputs": [
    {
     "name": "stdout",
     "output_type": "stream",
     "text": [
      "[{'entity': 'B-ORG', 'score': 0.9993412, 'index': 1, 'word': 'EU', 'start': 0, 'end': 2}, {'entity': 'B-MISC', 'score': 0.99967873, 'index': 3, 'word': 'German', 'start': 11, 'end': 17}, {'entity': 'B-MISC', 'score': 0.99961346, 'index': 7, 'word': 'British', 'start': 34, 'end': 41}]\n"
     ]
    }
   ],
   "source": [
    "example_string_sentence = join_words(example_sentence)\n",
    "ner_results = nlp(example_string_sentence)\n",
    "print(ner_results)"
   ]
  },
  {
   "cell_type": "markdown",
   "metadata": {},
   "source": [
    "### gpt-4o-mini"
   ]
  },
  {
   "cell_type": "code",
   "execution_count": 8,
   "metadata": {},
   "outputs": [
    {
     "name": "stdout",
     "output_type": "stream",
     "text": [
      "Hello! I'm just a program, so I don't have feelings, but I'm here and ready to help you. How can I assist you today?\n"
     ]
    }
   ],
   "source": [
    "response = openai.ChatCompletion.create(\n",
    "    model=\"gpt-4o-mini\",\n",
    "    messages=[\n",
    "        {\"role\": \"user\", \"content\": \"Hello, how are you?\"}\n",
    "    ]\n",
    ")\n",
    "\n",
    "# Print the response\n",
    "print(response.choices[0].message.content)"
   ]
  },
  {
   "cell_type": "markdown",
   "metadata": {},
   "source": [
    "# Processing"
   ]
  },
  {
   "cell_type": "markdown",
   "metadata": {},
   "source": [
    "## BERT"
   ]
  },
  {
   "cell_type": "code",
   "execution_count": 9,
   "metadata": {},
   "outputs": [],
   "source": [
    "def convert_ner_results_to_tags(ner_results, text, ner_tags):\n",
    "    # Split text into words, handling all punctuation\n",
    "    words = []\n",
    "    for word in text.split():\n",
    "        # Check if word ends with any punctuation\n",
    "        if any(word.endswith(p) for p in '.,!?:;()[]{}\"\\'-') and len(word) > 1:\n",
    "            # Split word and punctuation\n",
    "            words.append(word[:-1])\n",
    "            words.append(word[-1])\n",
    "        else:\n",
    "            words.append(word)\n",
    "    \n",
    "    # Initialize tags list with O (0) for all words\n",
    "    tags = [0] * len(words)\n",
    "    \n",
    "    # For each entity found\n",
    "    for result in ner_results:\n",
    "        # Find the word index from the result's index (subtract 1 since model uses 1-based indexing)\n",
    "        word_index = result['index'] - 1\n",
    "        # Convert entity type to numeric tag using position in ner_tags list\n",
    "        tag = ner_tags.index(result['entity']) if result['entity'] in ner_tags else 0\n",
    "        if word_index >= 0 and word_index < len(tags):\n",
    "            tags[word_index] = tag\n",
    "            \n",
    "    return tags"
   ]
  },
  {
   "cell_type": "code",
   "execution_count": 10,
   "metadata": {},
   "outputs": [],
   "source": [
    "def process_sentence_bert(sentence):\n",
    "    # Join words into a single string\n",
    "    string_sentence = join_words(sentence)\n",
    "    \n",
    "    # Get NER predictions from BERT model\n",
    "    ner_results = nlp(string_sentence)\n",
    "    \n",
    "    # Convert NER results to numeric tags\n",
    "    bert_tags = convert_ner_results_to_tags(ner_results, string_sentence, ner_tags)\n",
    "    \n",
    "    return bert_tags, ner_results"
   ]
  },
  {
   "cell_type": "code",
   "execution_count": 11,
   "metadata": {},
   "outputs": [
    {
     "name": "stdout",
     "output_type": "stream",
     "text": [
      "[3, 0, 7, 0, 0, 0, 7, 0, 0]\n"
     ]
    }
   ],
   "source": [
    "bert_prediction, raw_results = process_sentence_bert(example_sentence)\n",
    "print(bert_prediction)"
   ]
  },
  {
   "cell_type": "markdown",
   "metadata": {},
   "source": [
    "## LLM"
   ]
  },
  {
   "cell_type": "code",
   "execution_count": 12,
   "metadata": {},
   "outputs": [],
   "source": [
    "def extract_json(raw_output):\n",
    "    try:\n",
    "        # Use regex to extract the JSON array from the response\n",
    "        json_match = re.search(r'\\[.*\\]', raw_output, re.DOTALL)\n",
    "        if json_match:\n",
    "            return json_match.group(0)  # Return the matched JSON string\n",
    "        else:\n",
    "            raise ValueError(\"No JSON array found in the output.\")\n",
    "    except Exception as e:\n",
    "        raise ValueError(f\"Error extracting JSON: {e}\")\n",
    "\n",
    "\n",
    "def generate_examples(n, train_sentences, train_ground_truth_tags, shuffle=False, format_sentence=True):\n",
    "    \"\"\"\n",
    "    Generate example input for NER tagging with dynamic examples.\n",
    "\n",
    "    Parameters:\n",
    "      - n (int): Number of examples to include.\n",
    "      - train_sentences (list of list of str): List of tokenized sentences.\n",
    "      - train_ground_truth_tags (list of list of str): List of corresponding NER tags for each sentence.\n",
    "      - shuffle (bool): Whether to shuffle the examples before selecting.\n",
    "      - format_sentence (bool): Whether to format the example sentence as a single string.\n",
    "\n",
    "    Returns:\n",
    "      - str: Formatted string containing `n` examples in the desired format.\n",
    "    \"\"\"\n",
    "    # Define NER tag mapping\n",
    "    ner_tag_map = {\n",
    "        '0': 'O',\n",
    "        '1': 'B-PER',\n",
    "        '2': 'I-PER',\n",
    "        '3': 'B-ORG', \n",
    "        '4': 'I-ORG',\n",
    "        '5': 'B-LOC',\n",
    "        '6': 'I-LOC',\n",
    "        '7': 'B-MISC',\n",
    "        '8': 'I-MISC'\n",
    "    }\n",
    "    \n",
    "    # Pair sentences with their corresponding tags\n",
    "    examples = list(zip(train_sentences, train_ground_truth_tags))\n",
    "    \n",
    "    # Shuffle examples if specified\n",
    "    if shuffle:\n",
    "        random.shuffle(examples)\n",
    "    \n",
    "    # Select the first n examples\n",
    "    selected_examples = examples[:n]\n",
    "    \n",
    "    # Format the selected examples into the desired output structure\n",
    "    formatted_examples = []\n",
    "    for sentence, tags in selected_examples:\n",
    "        if format_sentence:\n",
    "            # Join tokens into a single formatted sentence\n",
    "            formatted_sentence = join_words(sentence)\n",
    "        else:\n",
    "            # Keep sentence as a list\n",
    "            formatted_sentence = sentence\n",
    "        \n",
    "        # Format each word-tag pair into JSON-like structure, converting numeric tags to labels\n",
    "        formatted_output = [\n",
    "            f'{{\"word\": \"{word}\", \"entity\": \"{ner_tag_map.get(str(tag), \"O\")}\"}}' \n",
    "            for word, tag in zip(sentence, tags)\n",
    "        ]\n",
    "        \n",
    "        # Combine sentence and tags into an example\n",
    "        formatted_example = (\n",
    "            f\"Sentence: \\\"{formatted_sentence}\\\" \"\n",
    "            f\"Output: [\"\n",
    "            + \",\".join(formatted_output) + \n",
    "            f\"]\"\n",
    "        )\n",
    "        \n",
    "        # Append to list of formatted examples\n",
    "        formatted_examples.append(formatted_example)\n",
    "    \n",
    "    # Join all formatted examples into a single string\n",
    "    example_input = \"\\n\\n\".join(formatted_examples)\n",
    "    \n",
    "    return example_input\n",
    "\n",
    "\n",
    "def ner_tag_sentence(sentence, train_sentences, train_ground_truth_tags, examples_provided=0, preprocess=False, track_responses=None, formatted_sentence=True):\n",
    "    \"\"\"\n",
    "    Perform NER tagging on a given sentence using provided training examples.\n",
    "\n",
    "    Parameters:\n",
    "      - sentence (str): The sentence to tag.\n",
    "      - train_sentences (list of list of str): List of tokenized sentences for training examples.\n",
    "      - train_ground_truth_tags (list of list of str): Corresponding NER tags for training sentences.\n",
    "      - examples_provided (int): Number of training examples to include in the prompt.\n",
    "      - preprocess (bool): Whether to preprocess the model's raw output.\n",
    "      - track_responses (list): Optional list to track responses from the model.\n",
    "      - formatted_sentence (bool): Whether to format sentences as strings.\n",
    "\n",
    "    Returns:\n",
    "      - dict: Parsed JSON response from the model or an error message.\n",
    "    \"\"\"\n",
    "    logging.debug(f\"NER tagging sentence: \\\"{sentence}\\\" with {examples_provided} examples.\")\n",
    "    \n",
    "    # Define the NER tags with their descriptions\n",
    "    ner_labels = {\n",
    "        \"O\": \"No entity\",\n",
    "        \"B-PER\": \"Beginning of person name\",\n",
    "        \"I-PER\": \"Inside of person name\", \n",
    "        \"B-ORG\": \"Beginning of organization\",\n",
    "        \"I-ORG\": \"Inside of organization\",\n",
    "        \"B-LOC\": \"Beginning of location\",\n",
    "        \"I-LOC\": \"Inside of location\",\n",
    "        \"B-MISC\": \"Beginning of miscellaneous entity\",\n",
    "        \"I-MISC\": \"Inside of miscellaneous entity\"\n",
    "    }\n",
    "\n",
    "    # Define reverse mapping from labels to IDs\n",
    "    label_to_id = {\n",
    "        'O': '0',\n",
    "        'B-PER': '1',\n",
    "        'I-PER': '2',\n",
    "        'B-ORG': '3',\n",
    "        'I-ORG': '4',\n",
    "        'B-LOC': '5',\n",
    "        'I-LOC': '6',\n",
    "        'B-MISC': '7',\n",
    "        'I-MISC': '8'\n",
    "    }\n",
    "\n",
    "    # Generate example input for the model\n",
    "    example_input = generate_examples(examples_provided, train_sentences, train_ground_truth_tags, shuffle=True, format_sentence=formatted_sentence)\n",
    "\n",
    "    # Construct the prompt with instructions for NER tagging\n",
    "    prompt = (\n",
    "        f\"Perform Named Entity Recognition (NER) tagging on the following sentence using these labels: {ner_labels}. \"\n",
    "        f\"These are examples of other sentences properly tagged: {example_input}\\n\\n\"\n",
    "        f\"Don't include any explanation, just output each word with its entity tag in JSON format of the following sentence.\\n\\nSentence: \\\"{sentence}\\\"\"\n",
    "    )\n",
    "    \n",
    "    logging.debug(f\"Constructed prompt:\\n{prompt}\")\n",
    "\n",
    "    try:\n",
    "        response = openai.ChatCompletion.create(\n",
    "            model=\"gpt-4o-mini\",\n",
    "            messages=[\n",
    "                {\"role\": \"user\", \"content\": prompt}\n",
    "            ]\n",
    "        )\n",
    "        \n",
    "        raw_output = response.choices[0].message.content.strip()\n",
    "        \n",
    "        logging.debug(f\"Raw output from model:\\n{raw_output}\")\n",
    "        \n",
    "        cleaned_output = extract_json(raw_output)\n",
    "        \n",
    "        try:\n",
    "            parsed_json = json.loads(cleaned_output)\n",
    "            # Convert entity labels back to IDs\n",
    "            for item in parsed_json:\n",
    "                item['entity'] = label_to_id.get(item['entity'], '0')\n",
    "            logging.debug(f\"Parsed JSON output:\\n{parsed_json}\")\n",
    "        except json.JSONDecodeError:\n",
    "            parsed_json = {\"error\": \"Response could not be parsed as JSON\", \"raw_output\": raw_output}\n",
    "            logging.error(\"Failed to parse JSON output.\")\n",
    "        \n",
    "        if track_responses is not None:\n",
    "            track_responses.append({\"raw_response\": raw_output, \"parsed_json\": parsed_json})\n",
    "        \n",
    "        return parsed_json\n",
    "    \n",
    "    except Exception as e:\n",
    "        logging.error(f\"Error during API call or processing: {e}\")\n",
    "        return {\"error\": str(e)}\n",
    "\n",
    "\n",
    "def process_sentence_llm(sentence, train_sentences, train_ground_truth_tags, examples_provided=0, format_sentence=True):\n",
    "    \"\"\"\n",
    "    Processes a sentence to extract NER tags while tracking responses.\n",
    "\n",
    "    Args:\n",
    "      - sentence (str): The input sentence to process.\n",
    "      - train_sentences (list of list of str): List of tokenized sentences for training examples.\n",
    "      - train_ground_truth_tags (list of list of str): Corresponding NER tags for training sentences.\n",
    "      - examples_provided (int): Number of training examples provided for context (default is 0).\n",
    "      - format_sentence (bool): Whether to format sentences as strings.\n",
    "\n",
    "    Returns:\n",
    "      - tuple: A tuple containing a list of NER tags (or an empty list if retrieval fails) \n",
    "               and the response log.\n",
    "    \"\"\"\n",
    "    responses_log = []  # Initialize the log\n",
    "\n",
    "    try:\n",
    "        if format_sentence:\n",
    "            sentence = join_words(sentence)\n",
    "\n",
    "        ner_tags_json = ner_tag_sentence(\n",
    "            sentence,\n",
    "            train_sentences,\n",
    "            train_ground_truth_tags,\n",
    "            track_responses=responses_log,\n",
    "            examples_provided=examples_provided,\n",
    "            formatted_sentence=format_sentence\n",
    "        )\n",
    "        \n",
    "        if isinstance(ner_tags_json, list) and all(isinstance(item, dict) and 'entity' in item for item in ner_tags_json):\n",
    "            model_prediction = [int(item['entity']) for item in ner_tags_json]  # Convert string IDs to integers\n",
    "        else:\n",
    "            model_prediction = []\n",
    "            logging.warning(f\"Unexpected structure for ner_tags_json: {ner_tags_json}\")\n",
    "    \n",
    "    except Exception as e:\n",
    "        model_prediction = []\n",
    "        logging.error(f\"Error processing sentence: {e}\")\n",
    "    \n",
    "    return model_prediction, responses_log"
   ]
  },
  {
   "cell_type": "code",
   "execution_count": 13,
   "metadata": {},
   "outputs": [
    {
     "name": "stdout",
     "output_type": "stream",
     "text": [
      "[3, 0, 5, 0, 0, 0, 5, 0, 0]\n"
     ]
    }
   ],
   "source": [
    "llm_prediction, llm_response = process_sentence_llm(example_sentence, train_tokens, train_ner_tags, examples_provided=3, format_sentence=False)\n",
    "print(llm_prediction)"
   ]
  },
  {
   "cell_type": "markdown",
   "metadata": {},
   "source": [
    "# Evaluation"
   ]
  },
  {
   "cell_type": "markdown",
   "metadata": {},
   "source": [
    "## Example"
   ]
  },
  {
   "cell_type": "code",
   "execution_count": 14,
   "metadata": {},
   "outputs": [
    {
     "name": "stdout",
     "output_type": "stream",
     "text": [
      "['EU', 'rejects', 'German', 'call', 'to', 'boycott', 'British', 'lamb', '.']\n"
     ]
    }
   ],
   "source": [
    "print(example_sentence)"
   ]
  },
  {
   "cell_type": "code",
   "execution_count": 15,
   "metadata": {},
   "outputs": [
    {
     "name": "stdout",
     "output_type": "stream",
     "text": [
      "[3, 0, 7, 0, 0, 0, 7, 0, 0]\n"
     ]
    }
   ],
   "source": [
    "print(example_ner_tags)"
   ]
  },
  {
   "cell_type": "code",
   "execution_count": 16,
   "metadata": {},
   "outputs": [
    {
     "name": "stdout",
     "output_type": "stream",
     "text": [
      "[3, 0, 7, 0, 0, 0, 7, 0, 0]\n"
     ]
    }
   ],
   "source": [
    "print(bert_prediction)"
   ]
  },
  {
   "cell_type": "code",
   "execution_count": 17,
   "metadata": {},
   "outputs": [
    {
     "name": "stdout",
     "output_type": "stream",
     "text": [
      "[3, 0, 5, 0, 0, 0, 5, 0, 0]\n"
     ]
    }
   ],
   "source": [
    "print(llm_prediction)"
   ]
  },
  {
   "cell_type": "markdown",
   "metadata": {},
   "source": [
    "## Full Test"
   ]
  },
  {
   "cell_type": "code",
   "execution_count": 18,
   "metadata": {},
   "outputs": [],
   "source": [
    "def evaluate_predictions(sentences, ground_truth_tags, model_type=\"bert\", train_data=None, examples_provided=None, format_sentence=False, output_csv=\"evaluation_results.csv\"):\n",
    "    \"\"\"\n",
    "    Evaluates predictions from either BERT or LLM model against ground truth POS tags and stores results in a CSV file.\n",
    "\n",
    "    Args:\n",
    "        sentences (list): A list of tokenized sentences.\n",
    "        ground_truth_tags (list): A list of ground truth POS tags corresponding to the sentences.\n",
    "        model_type (str): Type of model to evaluate (\"bert\" or \"llm\").\n",
    "        train_data (tuple): Tuple of (train_sentences, train_ground_truth_tags) for LLM context.\n",
    "        examples_provided (int): Number of examples provided to the LLM for context.\n",
    "        format_sentence (bool): Whether to format sentences as strings.\n",
    "        output_csv (str): Path to the CSV file where results will be stored.\n",
    "\n",
    "    Returns:\n",
    "        pd.DataFrame: A DataFrame containing evaluation results.\n",
    "    \"\"\"\n",
    "    # Initialize lists for DataFrame columns\n",
    "    total_words = []\n",
    "    raw_predictions = []\n",
    "    predictions = []\n",
    "    successes_list = []\n",
    "    prediction_lengths = []\n",
    "\n",
    "    # Define column names based on model type\n",
    "    model_prefix = f\"llm_{examples_provided}\" if model_type == \"llm\" else \"bert\"\n",
    "    columns = [\n",
    "        'sentences', 'ground_truth', 'total_words',\n",
    "        f'{model_prefix}_raw', f'{model_prefix}_prediction',\n",
    "        f'{model_prefix}_successes', f'{model_prefix}_prediction_length'\n",
    "    ]\n",
    "\n",
    "    # Check if the CSV file exists\n",
    "    if not os.path.exists(output_csv):\n",
    "        pd.DataFrame(columns=columns).to_csv(output_csv, index=False)\n",
    "\n",
    "    # Iterate through sentences and their corresponding ground truth tags\n",
    "    for sentence, true_tags in zip(sentences, ground_truth_tags):\n",
    "        total_words.append(len(sentence))\n",
    "\n",
    "        # Get predictions based on model type\n",
    "        if model_type == \"llm\":\n",
    "            if train_data is None:\n",
    "                raise ValueError(\"train_data must be provided for LLM evaluation\")\n",
    "            train_sentences, train_ground_truth_tags = train_data\n",
    "            prediction, raw = process_sentence_llm(\n",
    "                sentence,\n",
    "                train_sentences,\n",
    "                train_ground_truth_tags,\n",
    "                examples_provided=examples_provided,\n",
    "                format_sentence=format_sentence\n",
    "            )\n",
    "        else:  # BERT\n",
    "            prediction, raw = process_sentence_bert(sentence)\n",
    "\n",
    "        raw_predictions.append(raw)\n",
    "        predictions.append(prediction)\n",
    "        prediction_lengths.append(len(prediction))\n",
    "\n",
    "        # Calculate successes\n",
    "        successes = sum([1 for pred, true in zip(prediction, true_tags) if pred == true])\n",
    "        successes_list.append(successes)\n",
    "\n",
    "        # Append the current iteration's results to the CSV file\n",
    "        iteration_results = pd.DataFrame({\n",
    "            'sentences': [sentence],\n",
    "            'ground_truth': [true_tags],\n",
    "            'total_words': [len(sentence)],\n",
    "            f'{model_prefix}_raw': [raw],\n",
    "            f'{model_prefix}_prediction': [prediction],\n",
    "            f'{model_prefix}_successes': [successes],\n",
    "            f'{model_prefix}_prediction_length': [len(prediction)]\n",
    "        })\n",
    "\n",
    "        iteration_results.to_csv(output_csv, mode='a', header=False, index=False)\n",
    "\n",
    "    # Create final DataFrame\n",
    "    results = {\n",
    "        'sentences': sentences,\n",
    "        'ground_truth': ground_truth_tags,\n",
    "        'total_words': total_words,\n",
    "        f'{model_prefix}_raw': raw_predictions,\n",
    "        f'{model_prefix}_prediction': predictions,\n",
    "        f'{model_prefix}_successes': successes_list,\n",
    "        f'{model_prefix}_prediction_length': prediction_lengths\n",
    "    }\n",
    "\n",
    "    return pd.DataFrame(results)"
   ]
  },
  {
   "cell_type": "markdown",
   "metadata": {},
   "source": [
    "bert-base-NER"
   ]
  },
  {
   "cell_type": "code",
   "execution_count": 19,
   "metadata": {},
   "outputs": [
    {
     "data": {
      "text/plain": [
       "(3453, 7)"
      ]
     },
     "execution_count": 19,
     "metadata": {},
     "output_type": "execute_result"
    }
   ],
   "source": [
    "bert_results_file = \"/text-mining/03_name_entity_recognition/03_bert_results.csv\"\n",
    "bert_results = evaluate_predictions(test_tokens, test_ner_tags, model_type=\"bert\",output_csv=bert_results_file)\n",
    "bert_results = pd.read_csv(bert_results_file)\n",
    "bert_results.shape"
   ]
  },
  {
   "cell_type": "markdown",
   "metadata": {},
   "source": [
    "gpt-4o-mini"
   ]
  },
  {
   "cell_type": "code",
   "execution_count": 20,
   "metadata": {},
   "outputs": [],
   "source": [
    "format_sentence=False"
   ]
  },
  {
   "cell_type": "code",
   "execution_count": 21,
   "metadata": {},
   "outputs": [
    {
     "name": "stderr",
     "output_type": "stream",
     "text": [
      "2025-02-09 15:00:48,367 - ERROR - Failed to parse JSON output.\n",
      "2025-02-09 15:00:48,367 - WARNING - Unexpected structure for ner_tags_json: {'error': 'Response could not be parsed as JSON', 'raw_output': '[{\"word\": \"However\", \"entity\": \"O\"},{\"word\": \",\", \"entity\": \"O\"},{\"word\": \"we\", \"entity\": \"O\"},{\"word\": \"are\", \"entity\": \"O\"},{\"word\": \"assuming\", \"entity\": \"O\"},{\"word\": \"they\", \"entity\": \"O\"},{\"word\": \"are\", \"entity\": \"O\"},{\"word\": \"as\", \"entity\": \"O\"},{\"word\": \"a\", \"entity\": \"O\"},{\"word\": \"precaution\", \"entity\": \"O\"},{\"word\": \"for\", \"entity\": \"O\"},{\"word\": \"the\", \"entity\": \"O\"},{\"word\": \"time\", \"entity\": \"O\"},{\"word\": \"being\", \"entity\": \"O\"},{\"word\": \",\", \"entity\": \"O\"},{\"word\": \\'\"\\', \"entity\": \"O\"},{\"word\": \"a\", \"entity\": \"O\"},{\"word\": \"spokeswoman\", \"entity\": \"O\"},{\"word\": \"said\", \"entity\": \"O\"},{\"word\": \".\", \"entity\": \"O\"}]'}\n",
      "2025-02-09 15:21:22,647 - ERROR - Failed to parse JSON output.\n",
      "2025-02-09 15:21:22,648 - WARNING - Unexpected structure for ner_tags_json: {'error': 'Response could not be parsed as JSON', 'raw_output': '[{\"word\": \"[\\'\", \"entity\": \"O\"},{\"word\": \"I\", \"entity\": \"O\"},{\"word\": \"do\", \"entity\": \"O\"},{\"word\": \"n\\'t\", \"entity\": \"O\"},{\"word\": \"think\", \"entity\": \"O\"},{\"word\": \"they\", \"entity\": \"O\"},{\"word\": \"would\", \"entity\": \"O\"},{\"word\": \"do\", \"entity\": \"O\"},{\"word\": \"that\", \"entity\": \"O\"},{\"word\": \",\", \"entity\": \"O\"},{\"word\": \".\", \"entity\": \"O\"},{\"word\": \"\\'\"]\", \"entity\": \"O\"}]'}\n",
      "2025-02-09 15:23:33,578 - ERROR - Failed to parse JSON output.\n",
      "2025-02-09 15:23:33,578 - WARNING - Unexpected structure for ner_tags_json: {'error': 'Response could not be parsed as JSON', 'raw_output': '[{\"word\": \"\\\\\"\", \"entity\": \"O\"},{\"word\": \"Our\", \"entity\": \"O\"},{\"word\": \"countries\", \"entity\": \"O\"},{\"word\": \"\\'\"}{\"word\": \"leaders\", \"entity\": \"O\"},{\"word\": \"have\", \"entity\": \"O\"},{\"word\": \"agreed\", \"entity\": \"O\"},{\"word\": \"to\", \"entity\": \"O\"},{\"word\": \"meet\", \"entity\": \"O\"},{\"word\": \"in\", \"entity\": \"O\"},{\"word\": \"March\", \"entity\": \"O\"},{\"word\": \",\", \"entity\": \"O\"},{\"word\": \"1997\", \"entity\": \"O\"},{\"word\": \".\", \"entity\": \"O\"}]'}\n",
      "2025-02-09 15:27:52,592 - ERROR - Failed to parse JSON output.\n",
      "2025-02-09 15:27:52,593 - WARNING - Unexpected structure for ner_tags_json: {'error': 'Response could not be parsed as JSON', 'raw_output': '[{\"word\": \\'\"\\', \"entity\": \"O\"}, {\"word\": \"Falling\", \"entity\": \"O\"}, {\"word\": \"share\", \"entity\": \"O\"}, {\"word\": \"prices\", \"entity\": \"O\"}, {\"word\": \"in\", \"entity\": \"O\"}, {\"word\": \"New\", \"entity\": \"B-LOC\"}, {\"word\": \"York\", \"entity\": \"I-LOC\"}, {\"word\": \"do\", \"entity\": \"O\"}, {\"word\": \"n\\'t\", \"entity\": \"O\"}, {\"word\": \"hurt\", \"entity\": \"O\"}, {\"word\": \"Mexico\", \"entity\": \"B-LOC\"}, {\"word\": \"as\", \"entity\": \"O\"}, {\"word\": \"long\", \"entity\": \"O\"}, {\"word\": \"as\", \"entity\": \"O\"}, {\"word\": \"it\", \"entity\": \"O\"}, {\"word\": \"happens\", \"entity\": \"O\"}, {\"word\": \"gradually\", \"entity\": \"O\"}, {\"word\": \",\", \"entity\": \"O\"}, {\"word\": \"as\", \"entity\": \"O\"}, {\"word\": \"earlier\", \"entity\": \"O\"}, {\"word\": \"this\", \"entity\": \"O\"}, {\"word\": \"week\", \"entity\": \"O\"}, {\"word\": \".\", \"entity\": \"O\"}]'}\n",
      "2025-02-09 16:01:37,534 - ERROR - Failed to parse JSON output.\n",
      "2025-02-09 16:01:37,534 - WARNING - Unexpected structure for ner_tags_json: {'error': 'Response could not be parsed as JSON', 'raw_output': '[{\"word\": \"The\", \"entity\": \"O\"},{\"word\": \"five\", \"entity\": \"O\"},{\"word\": \"breeds\", \"entity\": \"O\"},{\"word\": \"credited\", \"entity\": \"O\"},{\"word\": \"with\", \"entity\": \"O\"},{\"word\": \"the\", \"entity\": \"O\"},{\"word\": \"most\", \"entity\": \"O\"},{\"word\": \"incidents\", \"entity\": \"O\"},{\"word\": \"were\", \"entity\": \"O\"},{\"word\": \"chow\", \"entity\": \"B-MISC\"},{\"word\": \"chows\", \"entity\": \"I-MISC\"},{\"word\": \",\", \"entity\": \"O\"},{\"word\": \"Rottweilers\", \"entity\": \"B-MISC\"},{\"word\": \",\", \"entity\": \"O\"},{\"word\": \"German\", \"entity\": \"B-MISC\"},{\"word\": \"shepherds\", \"entity\": \"I-MISC\"},{\"word\": \",\", \"entity\": \"O\"},{\"word\": \"cocker\", \"entity\": \"B-MISC\"},{\"word\": \"spaniels\", \"entity\": \"I-MISC\"},{\"word\": \"and\", \"entity\": \"O\"},{\"word\": \"Dalmatians\", \"entity\": \"B-MISC\"},{\"word\": \".\", \"entity\": \"O\"},{\"word\": \\'\"\\', \"entity\": \"O\"}]'}\n",
      "2025-02-09 16:23:35,504 - ERROR - Failed to parse JSON output.\n",
      "2025-02-09 16:23:35,505 - WARNING - Unexpected structure for ner_tags_json: {'error': 'Response could not be parsed as JSON', 'raw_output': '[{\"word\": \"Because\", \"entity\": \"O\"},{\"word\": \"they\", \"entity\": \"O\"},{\"word\": \"do\", \"entity\": \"O\"},{\"word\": \"n\\'t\", \"entity\": \"O\"},{\"word\": \"understand\", \"entity\": \"O\"},{\"word\": \"technology\", \"entity\": \"O\"},{\"word\": \",\", \"entity\": \"O\"},{\"word\": \"they\", \"entity\": \"O\"},{\"word\": \"fear\", \"entity\": \"O\"},{\"word\": \"the\", \"entity\": \"O\"},{\"word\": \"unknown\", \"entity\": \"O\"},{\"word\": \".\", \"entity\": \"O\"},{\"word\": \\'\"\\', \"entity\": \"O\"}]'}\n"
     ]
    },
    {
     "data": {
      "text/plain": [
       "(3453, 7)"
      ]
     },
     "execution_count": 21,
     "metadata": {},
     "output_type": "execute_result"
    }
   ],
   "source": [
    "examples_provided=1\n",
    "\n",
    "llm_results_file = f\"/text-mining/03_name_entity_recognition/03_llm_results_{examples_provided}_examples.csv\"\n",
    "llm_results = evaluate_predictions(test_tokens, test_ner_tags, model_type=\"llm\", train_data=(train_tokens, train_ner_tags), examples_provided=examples_provided, format_sentence=False, output_csv=llm_results_file)\n",
    "llm_results = pd.read_csv(llm_results_file)\n",
    "llm_results.shape"
   ]
  },
  {
   "cell_type": "code",
   "execution_count": 22,
   "metadata": {},
   "outputs": [
    {
     "name": "stderr",
     "output_type": "stream",
     "text": [
      "2025-02-09 18:19:39,092 - ERROR - Failed to parse JSON output.\n",
      "2025-02-09 18:19:39,092 - WARNING - Unexpected structure for ner_tags_json: {'error': 'Response could not be parsed as JSON', 'raw_output': '[{\"word\": \"\"\", \"entity\": \"O\"}, {\"word\": \"The\", \"entity\": \"O\"}, {\"word\": \"nomination\", \"entity\": \"O\"}, {\"word\": \"...\", \"entity\": \"O\"}]'}\n",
      "2025-02-09 18:25:22,524 - ERROR - Failed to parse JSON output.\n",
      "2025-02-09 18:25:22,524 - WARNING - Unexpected structure for ner_tags_json: {'error': 'Response could not be parsed as JSON', 'raw_output': '[{\"word\": \"\"\", \"entity\": \"O\"},{\"word\": \"I\", \"entity\": \"O\"},{\"word\": \"think\", \"entity\": \"O\"},{\"word\": \"Polish\", \"entity\": \"B-MISC\"},{\"word\": \"consumers\", \"entity\": \"O\"},{\"word\": \"in\", \"entity\": \"O\"},{\"word\": \"general\", \"entity\": \"O\"},{\"word\": \"are\", \"entity\": \"O\"},{\"word\": \"quite\", \"entity\": \"O\"},{\"word\": \"proud\", \"entity\": \"O\"},{\"word\": \"of\", \"entity\": \"O\"},{\"word\": \"their\", \"entity\": \"O\"},{\"word\": \"beers\", \"entity\": \"O\"},{\"word\": \"--\", \"entity\": \"O\"},{\"word\": \"and\", \"entity\": \"O\"},{\"word\": \"I\", \"entity\": \"O\"},{\"word\": \"\\'m\", \"entity\": \"O\"},{\"word\": \"speaking\", \"entity\": \"O\"},{\"word\": \"about\", \"entity\": \"O\"},{\"word\": \"all\", \"entity\": \"O\"},{\"word\": \"the\", \"entity\": \"O\"},{\"word\": \"brands\", \"entity\": \"O\"},{\"word\": \"--\", \"entity\": \"O\"},{\"word\": \"and\", \"entity\": \"O\"},{\"word\": \"as\", \"entity\": \"O\"},{\"word\": \"we\", \"entity\": \"O\"},{\"word\": \"make\", \"entity\": \"O\"},{\"word\": \"good\", \"entity\": \"O\"},{\"word\": \"beers\", \"entity\": \"O\"},{\"word\": \"...\", \"entity\": \"O\"}]'}\n",
      "2025-02-09 18:39:37,556 - ERROR - Failed to parse JSON output.\n",
      "2025-02-09 18:39:37,557 - WARNING - Unexpected structure for ner_tags_json: {'error': 'Response could not be parsed as JSON', 'raw_output': '[{\"word\": \"One\", \"entity\": \"O\"},{\"word\": \"would\", \"entity\": \"O\"},{\"word\": \"have\", \"entity\": \"O\"},{\"word\": \"to\", \"entity\": \"O\"},{\"word\": \"outbid\", \"entity\": \"O\"},{\"word\": \"by\", \"entity\": \"O\"},{\"word\": \"at\", \"entity\": \"O\"},{\"word\": \"least\", \"entity\": \"O\"},{\"word\": \"15\", \"entity\": \"O\"},{\"word\": \"percent\", \"entity\": \"O\"},{\"word\": \",\", \"entity\": \"O\"},{\"word\": \"but\", \"entity\": \"O\"},{\"word\": \"there\", \"entity\": \"O\"},{\"word\": \"is\", \"entity\": \"O\"},{\"word\": \"going\", \"entity\": \"O\"},{\"word\": \"to\", \"entity\": \"O\"},{\"word\": \"be\", \"entity\": \"O\"},{\"word\": \"a\", \"entity\": \"O\"},{\"word\": \"(\", \"entity\": \"O\"},{\"word\": \"Santa\", \"entity\": \"B-LOC\"},{\"word\": \"Fe\", \"entity\": \"I-LOC\"},{\"word\": \")\", \"entity\": \"O\"},{\"word\": \"deal\", \"entity\": \"O\"},{\"word\": \"with\", \"entity\": \"O\"},{\"word\": \"someone\", \"entity\": \"O\"},{\"word\": \",\", \"entity\": \"O\"},{\"word\": \\'\"\\', \"entity\": \"O\"},{\"word\": \"he\", \"entity\": \"O\"},{\"word\": \"said\", \"entity\": \"O\"},{\"word\": \".\", \"entity\": \"O\"}]'}\n",
      "2025-02-09 18:40:08,769 - ERROR - Failed to parse JSON output.\n",
      "2025-02-09 18:40:08,769 - WARNING - Unexpected structure for ner_tags_json: {'error': 'Response could not be parsed as JSON', 'raw_output': '[{\"word\": \"Two\", \"entity\": \"O\"},{\"word\": \"other\", \"entity\": \"O\"},{\"word\": \"arbs\", \"entity\": \"O\"},{\"word\": \"called\", \"entity\": \"O\"},{\"word\": \"Newmont\", \"entity\": \"B-ORG\"},{\"word\": \"\\'s\", \"entity\": \"O\"},{\"word\": \"move\", \"entity\": \"O\"},{\"word\": \"a\", \"entity\": \"O\"},{\"word\": \\'\"\\', \"entity\": \"O\"},{\"word\": \"a\", \"entity\": \"O\"},{\"word\": \"32\", \"entity\": \"O\"},{\"word\": \"cent\", \"entity\": \"O\"},{\"word\": \"bid\", \"entity\": \"O\"},{\"word\": \\'\"\\', \"entity\": \"O\"},{\"word\": \"because\", \"entity\": \"O\"},{\"word\": \"there\", \"entity\": \"O\"},{\"word\": \"is\", \"entity\": \"O\"},{\"word\": \"no\", \"entity\": \"O\"},{\"word\": \"formal\", \"entity\": \"O\"},{\"word\": \"tender\", \"entity\": \"O\"},{\"word\": \"offer\", \"entity\": \"O\"},{\"word\": \",\", \"entity\": \"O\"},{\"word\": \"only\", \"entity\": \"O\"},{\"word\": \"the\", \"entity\": \"O\"},{\"word\": \"proposal\", \"entity\": \"O\"},{\"word\": \"letter\", \"entity\": \"O\"},{\"word\": \\'\"\\', \"entity\": \"O\"},{\"word\": \"mailed\", \"entity\": \"O\"},{\"word\": \\'\"\\', \"entity\": \"O\"},{\"word\": \"to\", \"entity\": \"O\"},{\"word\": \"Santa\", \"entity\": \"B-LOC\"},{\"word\": \"Fe\", \"entity\": \"I-LOC\"},{\"word\": \"\\'s\", \"entity\": \"O\"},{\"word\": \"board\", \"entity\": \"O\"},{\"word\": \".\", \"entity\": \"O\"}]'}\n",
      "2025-02-09 18:42:41,459 - ERROR - Failed to parse JSON output.\n",
      "2025-02-09 18:42:41,459 - WARNING - Unexpected structure for ner_tags_json: {'error': 'Response could not be parsed as JSON', 'raw_output': '[{\"word\": \"And\", \"entity\": \"O\"},{\"word\": \"my\", \"entity\": \"O\"},{\"word\": \"mandate\", \"entity\": \"O\"},{\"word\": \"is\", \"entity\": \"O\"},{\"word\": \"also\", \"entity\": \"O\"},{\"word\": \"under\", \"entity\": \"O\"},{\"word\": \"Chapter\", \"entity\": \"O\"},{\"word\": \"Seven\", \"entity\": \"O\"},{\"word\": \"to\", \"entity\": \"O\"},{\"word\": \"operate\", \"entity\": \"O\"},{\"word\": \"in\", \"entity\": \"O\"},{\"word\": \"eastern\", \"entity\": \"O\"},{\"word\": \"Zaire\", \"entity\": \"B-LOC\"},{\"word\": \".\", \"entity\": \"O\"},{\"word\": \\'\"\\', \"entity\": \"O\"}]'}\n",
      "2025-02-09 18:47:45,910 - ERROR - Failed to parse JSON output.\n",
      "2025-02-09 18:47:45,911 - WARNING - Unexpected structure for ner_tags_json: {'error': 'Response could not be parsed as JSON', 'raw_output': '[{\"word\": \"Chirac\", \"entity\": \"B-PER\"},{\"word\": \"said\", \"entity\": \"O\"},{\"word\": \"Burkina\", \"entity\": \"B-LOC\"},{\"word\": \"Faso\", \"entity\": \"I-LOC\"},{\"word\": \"President\", \"entity\": \"O\"},{\"word\": \"Blaise\", \"entity\": \"B-PER\"},{\"word\": \"Compaore\", \"entity\": \"I-PER\"},{\"word\": \"would\", \"entity\": \"O\"},{\"word\": \"visit\", \"entity\": \"O\"},{\"word\": \"Bangui\", \"entity\": \"B-LOC\"},{\"word\": \\'\"\\', \"entity\": \"O\"},{\"word\": \"in\", \"entity\": \"O\"},{\"word\": \"the\", \"entity\": \"O\"},{\"word\": \"coming\", \"entity\": \"O\"},{\"word\": \"hours\", \"entity\": \"O\"},{\"word\": \\'\"\\', \"entity\": \"O\"},{\"word\": \"with\", \"entity\": \"O\"},{\"word\": \"the\", \"entity\": \"O\"},{\"word\": \"heads\", \"entity\": \"O\"},{\"word\": \"of\", \"entity\": \"O\"},{\"word\": \"state\", \"entity\": \"O\"},{\"word\": \"of\", \"entity\": \"O\"},{\"word\": \"Gabon\", \"entity\": \"B-LOC\"},{\"word\": \",\", \"entity\": \"O\"},{\"word\": \"Mali\", \"entity\": \"B-LOC\"},{\"word\": \"and\", \"entity\": \"O\"},{\"word\": \"Chad\", \"entity\": \"B-LOC\"},{\"word\": \"to\", \"entity\": \"O\"},{\"word\": \"try\", \"entity\": \"O\"},{\"word\": \"and\", \"entity\": \"O\"},{\"word\": \"establish\", \"entity\": \"O\"},{\"word\": \"dialogue\", \"entity\": \"O\"},{\"word\": \"between\", \"entity\": \"O\"},{\"word\": \"authorities\", \"entity\": \"O\"},{\"word\": \"and\", \"entity\": \"O\"},{\"word\": \"rebels\", \"entity\": \"O\"},{\"word\": \".\", \"entity\": \"O\"}]'}\n",
      "2025-02-09 18:50:54,737 - ERROR - Failed to parse JSON output.\n",
      "2025-02-09 18:50:54,737 - WARNING - Unexpected structure for ner_tags_json: {'error': 'Response could not be parsed as JSON', 'raw_output': '[{\"word\": \"The\", \"entity\": \"O\"},{\"word\": \"relations\", \"entity\": \"O\"},{\"word\": \"with\", \"entity\": \"O\"},{\"word\": \"the\", \"entity\": \"O\"},{\"word\": \"Vatican\", \"entity\": \"B-LOC\"},{\"word\": \"have\", \"entity\": \"O\"},{\"word\": \"also\", \"entity\": \"O\"},{\"word\": \"been\", \"entity\": \"O\"},{\"word\": \"soured\", \"entity\": \"O\"},{\"word\": \"by\", \"entity\": \"O\"},{\"word\": \"a\", \"entity\": \"O\"},{\"word\": \"recent\", \"entity\": \"O\"},{\"word\": \"relaxation\", \"entity\": \"O\"},{\"word\": \"of\", \"entity\": \"O\"},{\"word\": \"Poland\", \"entity\": \"B-LOC\"},{\"word\": \"\\'s\", \"entity\": \"O\"},{\"word\": \"anti-abortion\", \"entity\": \"O\"},{\"word\": \"rules\", \"entity\": \"O\"},{\"word\": \",\", \"entity\": \"O\"},{\"word\": \"which\", \"entity\": \"O\"},{\"word\": \"Kwasniewski\", \"entity\": \"B-PER\"},{\"word\": \"signed\", \"entity\": \"O\"},{\"word\": \"into\", \"entity\": \"O\"},{\"word\": \"law\", \"entity\": \"O\"},{\"word\": \"last\", \"entity\": \"O\"},{\"word\": \"month\", \"entity\": \"O\"},{\"word\":(\".\", \"entity\": \"O\"}]'}\n",
      "2025-02-09 18:51:13,114 - ERROR - Failed to parse JSON output.\n",
      "2025-02-09 18:51:13,114 - WARNING - Unexpected structure for ner_tags_json: {'error': 'Response could not be parsed as JSON', 'raw_output': '[{\"word\": \\'\"\\', \"entity\": \"O\"},{\"word\": \"Norilsk\", \"entity\": \"B-LOC\"},{\"word\": \"really\", \"entity\": \"O\"},{\"word\": \"is\", \"entity\": \"O\"},{\"word\": \"a\", \"entity\": \"O\"},{\"word\": \"big\", \"entity\": \"O\"},{\"word\": \"debtor\", \"entity\": \"O\"},{\"word\": \",\", \"entity\": \"O\"},{\"word\": \"both\", \"entity\": \"O\"},{\"word\": \"to\", \"entity\": \"O\"},{\"word\": \"the\", \"entity\": \"O\"},{\"word\": \"federal\", \"entity\": \"O\"},{\"word\": \"and\", \"entity\": \"O\"},{\"word\": \"regional\", \"entity\": \"O\"},{\"word\": \"budgets\", \"entity\": \"O\"},{\"word\": \",\", \"entity\": \"O\"},{\"word\": \\'\"\\', \"entity\": \"O\"},{\"word\": \"said\", \"entity\": \"O\"},{\"word\": \"Konstantin\", \"entity\": \"B-PER\"},{\"word\": \"Chernyshev\", \"entity\": \"I-PER\"},{\"word\": \",\", \"entity\": \"O\"},{\"word\": \"equities\", \"entity\": \"O\"},{\"word\": \"analyst\", \"entity\": \"O\"},{\"word\": \"at\", \"entity\": \"O\"},{\"word\": \"Moscow\", \"entity\": \"B-LOC\"},{\"word\": \"brokerage\", \"entity\": \"O\"},{\"word\": \"Rinaco\", \"entity\": \"B-ORG\"},{\"word\": \"Plus\", \"entity\": \"I-ORG\"},{\"word\": \"and\", \"entity\": \"O\"},{\"word\": \"a\", \"entity\": \"O\"},{\"word\": \"Norilsk\", \"entity\": \"B-LOC\"},{\"word\": \"watcher\", \"entity\": \"O\"},{\"word\": \".\", \"entity\": \"O\"},{\"word\": \\'\"\\', \"entity\": \"O\"}]'}\n",
      "2025-02-09 18:54:32,489 - ERROR - Failed to parse JSON output.\n",
      "2025-02-09 18:54:32,489 - WARNING - Unexpected structure for ner_tags_json: {'error': 'Response could not be parsed as JSON', 'raw_output': '[{\"word\": \"He\", \"entity\": \"O\"},{\"word\": \"told\", \"entity\": \"O\"},{\"word\": \"me\", \"entity\": \"O\"},{\"word\": \"that\", \"entity\": \"O\"},{\"word\": \"he\", \"entity\": \"O\"},{\"word\": \"had\", \"entity\": \"O\"},{\"word\": \"lost\", \"entity\": \"O\"},{\"word\": \"20\", \"entity\": \"O\"},{\"word\": \"kg\", \"entity\": \"O\"},{\"word\": \"(\", \"entity\": \"O\"},{\"word\": \"44\", \"entity\": \"O\"},{\"word\": \"lbs\", \"entity\": \"O\"},{\"word\": \")\", \"entity\": \"O\"},{\"word\": \"which\", \"entity\": \"O\"},{\"word\": \"is\", \"entity\": \"O\"},{\"word\": \"natural\", \"entity\": \"O\"},{\"word\": \"after\", \"entity\": \"O\"},{\"word\": \"such\", \"entity\": \"O\"},{\"word\": \"an\", \"entity\": \"O\"},{\"word\": \"operation\", \"entity\": \"O\"},{\"word\": \".\", \"entity\": \"O\"},{\"word\": \\'\"\\', \"entity\": \"O\"}]'}\n",
      "2025-02-09 18:59:37,158 - ERROR - Failed to parse JSON output.\n",
      "2025-02-09 18:59:37,158 - WARNING - Unexpected structure for ner_tags_json: {'error': 'Response could not be parsed as JSON', 'raw_output': '[{\"word\": \"Beauty\", \"entity\": \"B-MISC\"},{\"word\": \"ideals\", \"entity\": \"O\"},{\"word\": \"and\", \"entity\": \"O\"},{\"word\": \"cultures\", \"entity\": \"O\"},{\"word\": \"are\", \"entity\": \"O\"},{\"word\": \"different\", \"entity\": \"O\"},{\"word\": \"in\", \"entity\": \"O\"},{\"word\": \"every\", \"entity\": \"O\"},{\"word\": \"country\", \"entity\": \"B-LOC\"},{\"word\": \",\", \"entity\": \"O\"},{\"word\": \"\\'\", \"entity\": \"O\"},{\"word\": \\'\"\\', \"entity\": \"O\"}]'}\n",
      "2025-02-09 19:05:00,468 - ERROR - Failed to parse JSON output.\n",
      "2025-02-09 19:05:00,469 - WARNING - Unexpected structure for ner_tags_json: {'error': 'Response could not be parsed as JSON', 'raw_output': '[{\"word\": \"\"\", \"entity\": \"O\"},{\"word\": \"I\", \"entity\": \"O\"},{\"word\": \"sincerely\", \"entity\": \"O\"},{\"word\": \"believe\", \"entity\": \"O\"},{\"word\": \"that\", \"entity\": \"O\"},{\"word\": \"this\", \"entity\": \"O\"},{\"word\": \"unfortunate\", \"entity\": \"O\"},{\"word\": \"choice\", \"entity\": \"O\"},{\"word\": \"in\", \"entity\": \"O\"},{\"word\": \"giving\", \"entity\": \"O\"},{\"word\": \"the\", \"entity\": \"O\"},{\"word\": \"honour\", \"entity\": \"O\"},{\"word\": \"to\", \"entity\": \"O\"},{\"word\": \"such\", \"entity\": \"O\"},{\"word\": \"a\", \"entity\": \"O\"},{\"word\": \"controversial\", \"entity\": \"O\"},{\"word\": \"figure\", \"entity\": \"O\"},{\"word\": \"as\", \"entity\": \"O\"},{\"word\": \"Ramos\", \"entity\": \"B-PER\"},{\"word\": \"Horta\", \"entity\": \"I-PER\"},{\"word\": \"...\", \"entity\": \"O\"}]'}\n",
      "2025-02-09 19:13:48,133 - ERROR - Failed to parse JSON output.\n",
      "2025-02-09 19:13:48,134 - WARNING - Unexpected structure for ner_tags_json: {'error': 'Response could not be parsed as JSON', 'raw_output': '[{\"word\": \"Takao\", \"entity\": \"B-PER\"},{\"word\": \"Sakoh\", \"entity\": \"I-PER\"},{\"word\": \",\", \"entity\": \"O\"},{\"word\": \"first\", \"entity\": \"O\"},{\"word\": \"vice\", \"entity\": \"O\"},{\"word\": \"president\", \"entity\": \"O\"},{\"word\": \"at\", \"entity\": \"O\"},{\"word\": \"Union\", \"entity\": \"B-ORG\"},{\"word\": \"Bank\", \"entity\": \"I-ORG\"},{\"word\": \"of\", \"entity\": \"O\"},{\"word\": \"Switzerland\", \"entity\": \"B-LOC\"},{\"word\": \"in\", \"entity\": \"O\"},{\"word\": \"Tokyo\", \"entity\": \"B-LOC\"},{\"word\": \",\", \"entity\": \"O\"},{\"word\": \"said\", \"entity\": \"O\"},{\"word\": \":\", \"entity\": \"O\"},{\"word\": \"\"\", \"entity\": \"O\"},{\"word\": \"Maybe\", \"entity\": \"O\"},{\"word\": \"a\", \"entity\": \"O\"},{\"word\": \"dollar\", \"entity\": \"O\"},{\"word\": \"at\", \"entity\": \"O\"},{\"word\": \"104.50\", \"entity\": \"O\"},{\"word\": \"yen\", \"entity\": \"O\"},{\"word\": \"is\", \"entity\": \"O\"},{\"word\": \"not\", \"entity\": \"O\"},{\"word\": \"acceptable\", \"entity\": \"O\"},{\"word\": \"(\", \"entity\": \"O\"},{\"word\": \"to\", \"entity\": \"O\"},{\"word\": \"Sakakibara\", \"entity\": \"B-PER\"},{\"word\": \")\", \"entity\": \"O\"},{\"word\": \",\", \"entity\": \"O\"},{\"word\": \"but\", \"entity\": \"O\"},{\"word\": \"it\", \"entity\": \"O\"},{\"word\": \"may\", \"entity\": \"O\"},{\"word\": \"be\", \"entity\": \"O\"},{\"word\": \"okay\", \"entity\": \"O\"},{\"word\": \"at\", \"entity\": \"O\"},{\"word\": \"the\", \"entity\": \"O\"},{\"word\": \"current\", \"entity\": \"O\"},{\"word\": \"level\", \"entity\": \"O\"},{\"word\": \",\", \"entity\": \"O\"},{\"word\": \"at\", \"entity\": \"O\"},{\"word\": \"the\", \"entity\": \"O\"},{\"word\": \"lower\", \"entity\": \"O\"},{\"word\": \"end\", \"entity\": \"O\"},{\"word\": \"of\", \"entity\": \"O\"},{\"word\": \"112\", \"entity\": \"O\"},{\"word\": \"yen\", \"entity\": \"O\"},{\"word\": \".\", \"entity\": \"O\"},{\"word\": \"\"\", \"entity\": \"O\"}]'}\n",
      "2025-02-09 19:26:38,327 - ERROR - Failed to parse JSON output.\n",
      "2025-02-09 19:26:38,328 - WARNING - Unexpected structure for ner_tags_json: {'error': 'Response could not be parsed as JSON', 'raw_output': '[{\"word\": \"\"\", \"entity\": \"O\"},{\"word\": \"Weather\", \"entity\": \"B-MISC\"},{\"word\": \"forecasts\", \"entity\": \"O\"},{\"word\": \"have\", \"entity\": \"O\"},{\"word\": \"been\", \"entity\": \"O\"},{\"word\": \"sketchy\", \"entity\": \"O\"},{\"word\": \".\", \"entity\": \"O\"}]'}\n",
      "2025-02-09 19:49:53,337 - ERROR - Failed to parse JSON output.\n",
      "2025-02-09 19:49:53,337 - WARNING - Unexpected structure for ner_tags_json: {'error': 'Response could not be parsed as JSON', 'raw_output': '[{\"word\": \"There\", \"entity\": \"O\"},{\"word\": \"are\", \"entity\": \"O\"},{\"word\": \"lots\", \"entity\": \"O\"},{\"word\": \"of\", \"entity\": \"O\"},{\"word\": \"other\", \"entity\": \"O\"},{\"word\": \"things\", \"entity\": \"O\"},{\"word\": \"in\", \"entity\": \"O\"},{\"word\": \"this\", \"entity\": \"O\"},{\"word\": \"life\", \"entity\": \"O\"},{\"word\": \"I\", \"entity\": \"O\"},{\"word\": \"have\", \"entity\": \"O\"},{\"word\": \"n\\'t\", \"entity\": \"O\"},{\"word\": \"tried\", \"entity\": \"O\"},{\"word\": \"either\", \"entity\": \"O\"},{\"word\": \",\", \"entity\": \"O\"},{\"word\": \\'\"\\', \"entity\": \"O\"},{\"word\": \"he\", \"entity\": \"O\"},{\"word\": \"said\", \"entity\": \"O\"},{\"word\": \".\", \"entity\": \"O\"}]'}\n",
      "2025-02-09 20:22:25,328 - ERROR - Failed to parse JSON output.\n",
      "2025-02-09 20:22:25,329 - WARNING - Unexpected structure for ner_tags_json: {'error': 'Response could not be parsed as JSON', 'raw_output': '[{\"word\": \"A\", \"entity\": \"O\"},{\"word\": \"visit\", \"entity\": \"O\"},{\"word\": \"to\", \"entity\": \"O\"},{\"word\": \"India\", \"entity\": \"B-LOC\"},{\"word\": \"is\", \"entity\": \"O\"},{\"word\": \"always\", \"entity\": \"O\"},{\"word\": \"an\", \"entity\": \"O\"},{\"word\": \"intriguing\", \"entity\": \"O\"},{\"word\": \"experience\", \"entity\": \"O\"},{\"word\": \",\", \"entity\": \"O\"},{\"word\": \\'\"\\', \"entity\": \"O\"},{\"word\": \"Woolmer\", \"entity\": \"B-PER\"},{\"word\": \",\", \"entity\": \"O\"},{\"word\": \"now\", \"entity\": \"O\"},{\"word\": \"the\", \"entity\": \"O\"},{\"word\": \"South\", \"entity\": \"B-LOC\"},{\"word\": \"African\", \"entity\": \"I-LOC\"},{\"word\": \"coach\", \"entity\": \"O\"},{\"word\": \",\", \"entity\": \"O\"},{\"word\": \"said\", \"entity\": \"O\"},{\"word\": \"on\", \"entity\": \"O\"},{\"word\": \"Saturday\", \"entity\": \"O\"},{\"word\": \".\", \"entity\": \"O\"}]'}\n"
     ]
    },
    {
     "data": {
      "text/plain": [
       "(3453, 7)"
      ]
     },
     "execution_count": 22,
     "metadata": {},
     "output_type": "execute_result"
    }
   ],
   "source": [
    "examples_provided=3\n",
    "\n",
    "llm_results_file = f\"/text-mining/03_name_entity_recognition/03_llm_results_{examples_provided}_examples.csv\"\n",
    "llm_results = evaluate_predictions(test_tokens, test_ner_tags, model_type=\"llm\", train_data=(train_tokens, train_ner_tags), examples_provided=examples_provided, format_sentence=False, output_csv=llm_results_file)\n",
    "llm_results = pd.read_csv(llm_results_file)\n",
    "llm_results.shape"
   ]
  },
  {
   "cell_type": "markdown",
   "metadata": {},
   "source": [
    "# Results"
   ]
  },
  {
   "cell_type": "code",
   "execution_count": 23,
   "metadata": {},
   "outputs": [],
   "source": [
    "def plot_overall_accuracy(df, title=\"Overall Accuracy Comparison\"):\n",
    "    \"\"\"\n",
    "    Calculates overall accuracy for multiple models and plots a bar chart.\n",
    "\n",
    "    Args:\n",
    "        df (pd.DataFrame): A DataFrame with columns 'total_words' and '*_successes' for each model.\n",
    "        title (str): The title of the plot. Defaults to \"Overall Accuracy Comparison\".\n",
    "\n",
    "    Returns:\n",
    "        None: Displays a bar plot of overall accuracies.\n",
    "    \"\"\"\n",
    "    # Get total words\n",
    "    total_words = df['total_words'].sum()\n",
    "    \n",
    "    # Find all success columns\n",
    "    success_cols = [col for col in df.columns if col.endswith('_successes')]\n",
    "    \n",
    "    # Calculate accuracies for each model\n",
    "    accuracies = []\n",
    "    labels = []\n",
    "    for col in success_cols:\n",
    "        total_successes = df[col].sum()\n",
    "        accuracy = total_successes / total_words\n",
    "        accuracies.append(accuracy)\n",
    "        # Create label from column name (remove _successes)\n",
    "        model_name = col.replace('_successes', '').upper()\n",
    "        labels.append(f'{model_name} Accuracy')\n",
    "\n",
    "    # Plot the bar chart\n",
    "    plt.figure(figsize=(10, 6))  # Slightly wider to accommodate more bars\n",
    "    colors = plt.cm.tab20(np.linspace(0, 1, len(accuracies)))  # Generate colors based on number of models\n",
    "    plt.bar(labels, accuracies, color=colors)\n",
    "    \n",
    "    # Add labels and title\n",
    "    plt.ylabel('Accuracy')\n",
    "    plt.title(title)\n",
    "    \n",
    "    # Rotate labels if there are many models\n",
    "    if len(labels) > 3:\n",
    "        plt.xticks(rotation=45, ha='right')\n",
    "    \n",
    "    # Display the plot\n",
    "    plt.ylim(0, 1)  # Ensure y-axis is between 0 and 1 for accuracy\n",
    "    for i, acc in enumerate(accuracies):\n",
    "        plt.text(i, acc + 0.02, f\"{acc:.2%}\", ha='center', fontsize=12)\n",
    "    \n",
    "    plt.tight_layout()\n",
    "    plt.show()"
   ]
  },
  {
   "cell_type": "code",
   "execution_count": 24,
   "metadata": {},
   "outputs": [],
   "source": [
    "def plot_prediction_length_accuracy(df, title=\"Prediction Length Accuracy\"):\n",
    "    \"\"\"\n",
    "    Plots a bar chart comparing the prediction length accuracy for each model.\n",
    "    \n",
    "    Args:\n",
    "        df (pd.DataFrame): DataFrame containing prediction length columns and total_words\n",
    "        title (str): Title for the plot. Defaults to \"Prediction Length Accuracy\"\n",
    "        \n",
    "    Returns:\n",
    "        None: Displays a bar plot of prediction length accuracies\n",
    "    \"\"\"\n",
    "    # Get total number of samples\n",
    "    total_samples = len(df)\n",
    "    \n",
    "    # Find all prediction length columns\n",
    "    pred_length_cols = [col for col in df.columns if col.endswith('_prediction_length')]\n",
    "    \n",
    "    # Calculate accuracies\n",
    "    accuracies = []\n",
    "    labels = []\n",
    "    for col in pred_length_cols:\n",
    "        # Count how many predictions match total words\n",
    "        matches = (df[col] == df['total_words']).sum()\n",
    "        accuracy = matches / total_samples\n",
    "        accuracies.append(accuracy)\n",
    "        # Create label from column name\n",
    "        model_name = col.replace('_prediction_length', '').upper()\n",
    "        labels.append(f'{model_name}')\n",
    "    \n",
    "    # Plot the bar chart\n",
    "    plt.figure(figsize=(10, 6))\n",
    "    colors = plt.cm.tab20(np.linspace(0, 1, len(accuracies)))\n",
    "    plt.bar(labels, accuracies, color=colors)\n",
    "    \n",
    "    # Add labels and title\n",
    "    plt.ylabel('Accuracy')\n",
    "    plt.title(title)\n",
    "    \n",
    "    # Rotate labels if there are many models\n",
    "    if len(labels) > 3:\n",
    "        plt.xticks(rotation=45, ha='right')\n",
    "    \n",
    "    # Set y-axis limits and add percentage labels\n",
    "    plt.ylim(0, 1)\n",
    "    for i, acc in enumerate(accuracies):\n",
    "        plt.text(i, acc + 0.02, f\"{acc:.2%}\", ha='center', fontsize=12)\n",
    "    \n",
    "    plt.tight_layout()\n",
    "    plt.show()"
   ]
  },
  {
   "cell_type": "code",
   "execution_count": 25,
   "metadata": {},
   "outputs": [],
   "source": [
    "def load_and_merge_results(folder_path):\n",
    "    \"\"\"\n",
    "    Loads and merges all BERT and LLM results CSV files from a folder.\n",
    "    \n",
    "    Args:\n",
    "        folder_path (str): Path to folder containing the CSV files\n",
    "        \n",
    "    Returns:\n",
    "        pd.DataFrame: Merged results with duplicate columns removed\n",
    "    \"\"\"\n",
    "    # Get list of all CSV files in the folder\n",
    "    csv_files = glob.glob(f\"{folder_path}/*.csv\")\n",
    "    \n",
    "    # Separate BERT and LLM results files\n",
    "    bert_files = [f for f in csv_files if 'bert' in f.lower()]\n",
    "    llm_files = [f for f in csv_files if 'llm' in f.lower()]\n",
    "    \n",
    "    # Read BERT results\n",
    "    bert_results = pd.read_csv(bert_files[0])\n",
    "    \n",
    "    # Read and merge LLM results\n",
    "    llm_dfs = []\n",
    "    for f in llm_files:\n",
    "        df = pd.read_csv(f)\n",
    "        # Extract LLM number from filename (e.g. llm_1 or llm_3)\n",
    "        llm_num = f.split('_')[-2]\n",
    "        # Rename columns to include LLM number\n",
    "        df = df.rename(columns={\n",
    "            'llm_prediction': f'llm_{llm_num}_prediction',\n",
    "            'llm_successes': f'llm_{llm_num}_successes',\n",
    "            'llm_prediction_length': f'llm_{llm_num}_prediction_length'\n",
    "        })\n",
    "        llm_dfs.append(df)\n",
    "    \n",
    "    # Merge all results\n",
    "    results = bert_results\n",
    "    for llm_df in llm_dfs:\n",
    "        # Keep only the unique columns from LLM results\n",
    "        llm_cols = [col for col in llm_df.columns if col not in ['sentences', 'ground_truth', 'total_words']]\n",
    "        results = pd.merge(results, llm_df[llm_cols], left_index=True, right_index=True)\n",
    "            \n",
    "    return results"
   ]
  },
  {
   "cell_type": "code",
   "execution_count": 26,
   "metadata": {},
   "outputs": [
    {
     "data": {
      "text/plain": [
       "(3453, 15)"
      ]
     },
     "execution_count": 26,
     "metadata": {},
     "output_type": "execute_result"
    }
   ],
   "source": [
    "results = load_and_merge_results(\"/text-mining/03_name_entity_recognition/\")\n",
    "results.shape"
   ]
  },
  {
   "cell_type": "code",
   "execution_count": 27,
   "metadata": {},
   "outputs": [
    {
     "data": {
      "text/html": [
       "<div>\n",
       "<style scoped>\n",
       "    .dataframe tbody tr th:only-of-type {\n",
       "        vertical-align: middle;\n",
       "    }\n",
       "\n",
       "    .dataframe tbody tr th {\n",
       "        vertical-align: top;\n",
       "    }\n",
       "\n",
       "    .dataframe thead th {\n",
       "        text-align: right;\n",
       "    }\n",
       "</style>\n",
       "<table border=\"1\" class=\"dataframe\">\n",
       "  <thead>\n",
       "    <tr style=\"text-align: right;\">\n",
       "      <th></th>\n",
       "      <th>sentences</th>\n",
       "      <th>ground_truth</th>\n",
       "      <th>total_words</th>\n",
       "      <th>bert_raw</th>\n",
       "      <th>bert_prediction</th>\n",
       "      <th>bert_successes</th>\n",
       "      <th>bert_prediction_length</th>\n",
       "      <th>llm_1_raw</th>\n",
       "      <th>llm_1_prediction</th>\n",
       "      <th>llm_1_successes</th>\n",
       "      <th>llm_1_prediction_length</th>\n",
       "      <th>llm_3_raw</th>\n",
       "      <th>llm_3_prediction</th>\n",
       "      <th>llm_3_successes</th>\n",
       "      <th>llm_3_prediction_length</th>\n",
       "    </tr>\n",
       "  </thead>\n",
       "  <tbody>\n",
       "    <tr>\n",
       "      <th>0</th>\n",
       "      <td>['SOCCER', '-', 'JAPAN', 'GET', 'LUCKY', 'WIN'...</td>\n",
       "      <td>[0, 0, 5, 0, 0, 0, 0, 1, 0, 0, 0, 0]</td>\n",
       "      <td>12</td>\n",
       "      <td>[{'entity': 'B-MISC', 'score': 0.4801418, 'ind...</td>\n",
       "      <td>[0, 0, 0, 0, 0, 7, 6, 0, 0, 0, 1, 6]</td>\n",
       "      <td>6</td>\n",
       "      <td>12</td>\n",
       "      <td>[{'raw_response': '[{\"word\": \"SOCCER\", \"entity...</td>\n",
       "      <td>[0, 0, 5, 0, 0, 0, 0, 5, 0, 0, 0, 0]</td>\n",
       "      <td>11</td>\n",
       "      <td>12</td>\n",
       "      <td>[{'raw_response': '[{\"word\": \"SOCCER\", \"entity...</td>\n",
       "      <td>[7, 0, 5, 0, 0, 0, 0, 5, 0, 0, 0, 0]</td>\n",
       "      <td>10</td>\n",
       "      <td>12</td>\n",
       "    </tr>\n",
       "    <tr>\n",
       "      <th>1</th>\n",
       "      <td>['Nadim', 'Ladki']</td>\n",
       "      <td>[1, 2]</td>\n",
       "      <td>2</td>\n",
       "      <td>[{'entity': 'B-PER', 'score': 0.99730563, 'ind...</td>\n",
       "      <td>[1, 1]</td>\n",
       "      <td>1</td>\n",
       "      <td>2</td>\n",
       "      <td>[{'raw_response': '[{\"word\": \"Nadim\", \"entity\"...</td>\n",
       "      <td>[1, 2]</td>\n",
       "      <td>2</td>\n",
       "      <td>2</td>\n",
       "      <td>[{'raw_response': '[{\"word\": \"Nadim\", \"entity\"...</td>\n",
       "      <td>[1, 2]</td>\n",
       "      <td>2</td>\n",
       "      <td>2</td>\n",
       "    </tr>\n",
       "    <tr>\n",
       "      <th>2</th>\n",
       "      <td>['AL-AIN', ',', 'United', 'Arab', 'Emirates', ...</td>\n",
       "      <td>[5, 0, 5, 6, 6, 0]</td>\n",
       "      <td>6</td>\n",
       "      <td>[{'entity': 'B-LOC', 'score': 0.9976654, 'inde...</td>\n",
       "      <td>[5, 6, 6, 6, 0, 5]</td>\n",
       "      <td>2</td>\n",
       "      <td>6</td>\n",
       "      <td>[{'raw_response': '[{\"word\": \"AL-AIN\", \"entity...</td>\n",
       "      <td>[5, 0, 3, 4, 4, 0]</td>\n",
       "      <td>3</td>\n",
       "      <td>6</td>\n",
       "      <td>[{'raw_response': '[{\"word\":\"AL-AIN\",\"entity\":...</td>\n",
       "      <td>[5, 0, 3, 4, 4, 0]</td>\n",
       "      <td>3</td>\n",
       "      <td>6</td>\n",
       "    </tr>\n",
       "    <tr>\n",
       "      <th>3</th>\n",
       "      <td>['Japan', 'began', 'the', 'defence', 'of', 'th...</td>\n",
       "      <td>[5, 0, 0, 0, 0, 0, 7, 8, 0, 0, 0, 0, 0, 0, 0, ...</td>\n",
       "      <td>25</td>\n",
       "      <td>[{'entity': 'B-LOC', 'score': 0.9998572, 'inde...</td>\n",
       "      <td>[5, 0, 0, 0, 0, 0, 7, 8, 0, 0, 0, 0, 0, 0, 0, ...</td>\n",
       "      <td>21</td>\n",
       "      <td>25</td>\n",
       "      <td>[{'raw_response': '[{\"word\": \"Japan\", \"entity\"...</td>\n",
       "      <td>[5, 0, 0, 0, 0, 0, 7, 8, 0, 0, 0, 0, 0, 0, 0, ...</td>\n",
       "      <td>22</td>\n",
       "      <td>25</td>\n",
       "      <td>[{'raw_response': '[{\"word\": \"Japan\", \"entity\"...</td>\n",
       "      <td>[5, 0, 0, 0, 0, 0, 7, 8, 0, 0, 0, 0, 0, 0, 0, ...</td>\n",
       "      <td>23</td>\n",
       "      <td>25</td>\n",
       "    </tr>\n",
       "    <tr>\n",
       "      <th>4</th>\n",
       "      <td>['But', 'China', 'saw', 'their', 'luck', 'dese...</td>\n",
       "      <td>[0, 5, 0, 0, 0, 0, 0, 0, 0, 0, 0, 0, 0, 0, 0, ...</td>\n",
       "      <td>25</td>\n",
       "      <td>[{'entity': 'B-LOC', 'score': 0.9998673, 'inde...</td>\n",
       "      <td>[0, 5, 0, 0, 0, 0, 0, 0, 0, 0, 0, 0, 0, 0, 0, ...</td>\n",
       "      <td>24</td>\n",
       "      <td>25</td>\n",
       "      <td>[{'raw_response': '[{\"word\": \"But\", \"entity\": ...</td>\n",
       "      <td>[0, 5, 0, 0, 0, 0, 0, 0, 0, 0, 0, 0, 0, 0, 0, ...</td>\n",
       "      <td>25</td>\n",
       "      <td>25</td>\n",
       "      <td>[{'raw_response': '[{\"word\": \"But\", \"entity\": ...</td>\n",
       "      <td>[0, 5, 0, 0, 0, 0, 0, 0, 0, 0, 0, 0, 0, 0, 0, ...</td>\n",
       "      <td>25</td>\n",
       "      <td>25</td>\n",
       "    </tr>\n",
       "  </tbody>\n",
       "</table>\n",
       "</div>"
      ],
      "text/plain": [
       "                                           sentences  \\\n",
       "0  ['SOCCER', '-', 'JAPAN', 'GET', 'LUCKY', 'WIN'...   \n",
       "1                                 ['Nadim', 'Ladki']   \n",
       "2  ['AL-AIN', ',', 'United', 'Arab', 'Emirates', ...   \n",
       "3  ['Japan', 'began', 'the', 'defence', 'of', 'th...   \n",
       "4  ['But', 'China', 'saw', 'their', 'luck', 'dese...   \n",
       "\n",
       "                                        ground_truth  total_words  \\\n",
       "0               [0, 0, 5, 0, 0, 0, 0, 1, 0, 0, 0, 0]           12   \n",
       "1                                             [1, 2]            2   \n",
       "2                                 [5, 0, 5, 6, 6, 0]            6   \n",
       "3  [5, 0, 0, 0, 0, 0, 7, 8, 0, 0, 0, 0, 0, 0, 0, ...           25   \n",
       "4  [0, 5, 0, 0, 0, 0, 0, 0, 0, 0, 0, 0, 0, 0, 0, ...           25   \n",
       "\n",
       "                                            bert_raw  \\\n",
       "0  [{'entity': 'B-MISC', 'score': 0.4801418, 'ind...   \n",
       "1  [{'entity': 'B-PER', 'score': 0.99730563, 'ind...   \n",
       "2  [{'entity': 'B-LOC', 'score': 0.9976654, 'inde...   \n",
       "3  [{'entity': 'B-LOC', 'score': 0.9998572, 'inde...   \n",
       "4  [{'entity': 'B-LOC', 'score': 0.9998673, 'inde...   \n",
       "\n",
       "                                     bert_prediction  bert_successes  \\\n",
       "0               [0, 0, 0, 0, 0, 7, 6, 0, 0, 0, 1, 6]               6   \n",
       "1                                             [1, 1]               1   \n",
       "2                                 [5, 6, 6, 6, 0, 5]               2   \n",
       "3  [5, 0, 0, 0, 0, 0, 7, 8, 0, 0, 0, 0, 0, 0, 0, ...              21   \n",
       "4  [0, 5, 0, 0, 0, 0, 0, 0, 0, 0, 0, 0, 0, 0, 0, ...              24   \n",
       "\n",
       "   bert_prediction_length                                          llm_1_raw  \\\n",
       "0                      12  [{'raw_response': '[{\"word\": \"SOCCER\", \"entity...   \n",
       "1                       2  [{'raw_response': '[{\"word\": \"Nadim\", \"entity\"...   \n",
       "2                       6  [{'raw_response': '[{\"word\": \"AL-AIN\", \"entity...   \n",
       "3                      25  [{'raw_response': '[{\"word\": \"Japan\", \"entity\"...   \n",
       "4                      25  [{'raw_response': '[{\"word\": \"But\", \"entity\": ...   \n",
       "\n",
       "                                    llm_1_prediction  llm_1_successes  \\\n",
       "0               [0, 0, 5, 0, 0, 0, 0, 5, 0, 0, 0, 0]               11   \n",
       "1                                             [1, 2]                2   \n",
       "2                                 [5, 0, 3, 4, 4, 0]                3   \n",
       "3  [5, 0, 0, 0, 0, 0, 7, 8, 0, 0, 0, 0, 0, 0, 0, ...               22   \n",
       "4  [0, 5, 0, 0, 0, 0, 0, 0, 0, 0, 0, 0, 0, 0, 0, ...               25   \n",
       "\n",
       "   llm_1_prediction_length                                          llm_3_raw  \\\n",
       "0                       12  [{'raw_response': '[{\"word\": \"SOCCER\", \"entity...   \n",
       "1                        2  [{'raw_response': '[{\"word\": \"Nadim\", \"entity\"...   \n",
       "2                        6  [{'raw_response': '[{\"word\":\"AL-AIN\",\"entity\":...   \n",
       "3                       25  [{'raw_response': '[{\"word\": \"Japan\", \"entity\"...   \n",
       "4                       25  [{'raw_response': '[{\"word\": \"But\", \"entity\": ...   \n",
       "\n",
       "                                    llm_3_prediction  llm_3_successes  \\\n",
       "0               [7, 0, 5, 0, 0, 0, 0, 5, 0, 0, 0, 0]               10   \n",
       "1                                             [1, 2]                2   \n",
       "2                                 [5, 0, 3, 4, 4, 0]                3   \n",
       "3  [5, 0, 0, 0, 0, 0, 7, 8, 0, 0, 0, 0, 0, 0, 0, ...               23   \n",
       "4  [0, 5, 0, 0, 0, 0, 0, 0, 0, 0, 0, 0, 0, 0, 0, ...               25   \n",
       "\n",
       "   llm_3_prediction_length  \n",
       "0                       12  \n",
       "1                        2  \n",
       "2                        6  \n",
       "3                       25  \n",
       "4                       25  "
      ]
     },
     "execution_count": 27,
     "metadata": {},
     "output_type": "execute_result"
    }
   ],
   "source": [
    "results.head()"
   ]
  },
  {
   "cell_type": "code",
   "execution_count": 28,
   "metadata": {},
   "outputs": [
    {
     "data": {
      "image/png": "[encoded data removed]",
      "text/plain": [
       "<Figure size 1000x600 with 1 Axes>"
      ]
     },
     "metadata": {},
     "output_type": "display_data"
    }
   ],
   "source": [
    "plot_overall_accuracy(results)"
   ]
  },
  {
   "cell_type": "code",
   "execution_count": 29,
   "metadata": {},
   "outputs": [
    {
     "data": {
      "image/png": "[encoded data removed]",
      "text/plain": [
       "<Figure size 1000x600 with 1 Axes>"
      ]
     },
     "metadata": {},
     "output_type": "display_data"
    }
   ],
   "source": [
    "plot_prediction_length_accuracy(results)\n"
   ]
  },
  {
   "cell_type": "markdown",
   "metadata": {},
   "source": [
    "## All tokens identified"
   ]
  },
  {
   "cell_type": "code",
   "execution_count": 30,
   "metadata": {},
   "outputs": [
    {
     "data": {
      "text/plain": [
       "(2874, 15)"
      ]
     },
     "execution_count": 30,
     "metadata": {},
     "output_type": "execute_result"
    }
   ],
   "source": [
    "def filter_matching_predictions(df):\n",
    "    \"\"\"\n",
    "    Filters dataframe to keep only rows where all prediction lengths match total_words.\n",
    "    \n",
    "    Args:\n",
    "        df (pd.DataFrame): DataFrame containing prediction columns ending with '_prediction_length'\n",
    "        \n",
    "    Returns:\n",
    "        pd.DataFrame: Filtered DataFrame where all prediction lengths match total_words\n",
    "    \"\"\"\n",
    "    # Get all columns that end with 'prediction_length'\n",
    "    prediction_length_cols = [col for col in df.columns if col.endswith('prediction_length')]\n",
    "    \n",
    "    # Create a condition that checks if total_words equals each prediction length\n",
    "    conditions = [df['total_words'] == df[col] for col in prediction_length_cols]\n",
    "    \n",
    "    # Combine all conditions with & operator\n",
    "    final_condition = conditions[0]\n",
    "    for condition in conditions[1:]:\n",
    "        final_condition = final_condition & condition\n",
    "        \n",
    "    return df[final_condition]\n",
    "\n",
    "filtered_df = filter_matching_predictions(results)\n",
    "filtered_df.shape"
   ]
  },
  {
   "cell_type": "code",
   "execution_count": 31,
   "metadata": {},
   "outputs": [
    {
     "data": {
      "image/png": "[encoded data removed]",
      "text/plain": [
       "<Figure size 1000x600 with 1 Axes>"
      ]
     },
     "metadata": {},
     "output_type": "display_data"
    }
   ],
   "source": [
    "plot_overall_accuracy(filtered_df, title=\"Accuracy Comparison when all Tokens were Identified\")"
   ]
  },
  {
   "cell_type": "code",
   "execution_count": 32,
   "metadata": {},
   "outputs": [],
   "source": [
    "def plot_failed_ner_tags(df):\n",
    "    \"\"\"\n",
    "    Identifies the number of failures for each NER tag and plots a bar chart with multiple colors per bar.\n",
    "    Dynamically handles any number of LLM prediction columns.\n",
    "\n",
    "    Args:\n",
    "        df (pd.DataFrame): A DataFrame with columns 'ground_truth', various '*_prediction' columns.\n",
    "\n",
    "    Returns:\n",
    "        None: Displays a bar plot of NER tag failures.\n",
    "    \"\"\"\n",
    "    # Define NER tag mapping for readable labels\n",
    "    ner_tag_map = {\n",
    "        '0': 'O',\n",
    "        '1': 'B-PER',\n",
    "        '2': 'I-PER',\n",
    "        '3': 'B-ORG', \n",
    "        '4': 'I-ORG',\n",
    "        '5': 'B-LOC',\n",
    "        '6': 'I-LOC',\n",
    "        '7': 'B-MISC',\n",
    "        '8': 'I-MISC'\n",
    "    }\n",
    "\n",
    "    # Find all prediction columns (excluding length and raw columns)\n",
    "    pred_cols = [col for col in df.columns if col.endswith('_prediction') \n",
    "                and not col.endswith('_length') \n",
    "                and not col.endswith('_raw')]\n",
    "    \n",
    "    # Find corresponding length columns\n",
    "    length_cols = [col.replace('prediction', 'prediction_length') for col in pred_cols]\n",
    "\n",
    "    # Create length matching condition\n",
    "    length_condition = df['total_words'] == df[length_cols[0]]\n",
    "    for col in length_cols[1:]:\n",
    "        length_condition = length_condition & (df['total_words'] == df[col])\n",
    "\n",
    "    # Filter out rows where lengths don't match\n",
    "    df = df[length_condition]\n",
    "\n",
    "    # Initialize dictionary for predictions\n",
    "    all_predictions = {\n",
    "        'ground_truth': []\n",
    "    }\n",
    "    for col in pred_cols:\n",
    "        all_predictions[col] = []\n",
    "\n",
    "    # Flatten lists\n",
    "    for row in df.itertuples(index=False):\n",
    "        # Parse ground truth\n",
    "        ground_truth_list = ast.literal_eval(row.ground_truth)\n",
    "        all_predictions['ground_truth'].extend(ground_truth_list)\n",
    "        \n",
    "        # Parse predictions for each model\n",
    "        for col in pred_cols:\n",
    "            pred_list = ast.literal_eval(getattr(row, col))\n",
    "            all_predictions[col].extend(pred_list)\n",
    "\n",
    "    # Create analysis DataFrame\n",
    "    analysis_df = pd.DataFrame(all_predictions)\n",
    "\n",
    "    # Calculate failures for each model\n",
    "    failure_cols = []\n",
    "    for col in pred_cols:\n",
    "        failure_col = f\"{col.replace('prediction', 'failure')}\"\n",
    "        analysis_df[failure_col] = analysis_df['ground_truth'] != analysis_df[col]\n",
    "        failure_cols.append(failure_col)\n",
    "\n",
    "    # Count failures for each NER tag\n",
    "    agg_dict = {col: 'sum' for col in failure_cols}\n",
    "    failure_counts = analysis_df.groupby('ground_truth').agg(agg_dict).reset_index()\n",
    "\n",
    "    # Add total failures column\n",
    "    failure_counts['total_failures'] = failure_counts[failure_cols].sum(axis=1)\n",
    "\n",
    "    # Sort by total failures\n",
    "    failure_counts = failure_counts.sort_values(by='total_failures', ascending=False)\n",
    "\n",
    "    # Convert numeric tags to readable labels\n",
    "    failure_counts['ground_truth'] = failure_counts['ground_truth'].astype(str)\n",
    "    failure_counts['ground_truth_label'] = failure_counts['ground_truth'].map(ner_tag_map)\n",
    "\n",
    "    # Plot setup\n",
    "    plt.figure(figsize=(12, 6))\n",
    "    bar_width = 0.5\n",
    "    x = range(len(failure_counts))\n",
    "\n",
    "    # Generate colors for each model\n",
    "    colors = plt.cm.rainbow(np.linspace(0, 1, len(failure_cols)))\n",
    "\n",
    "    # Plot stacked bars\n",
    "    bottom = np.zeros(len(failure_counts))\n",
    "    for i, (col, color) in enumerate(zip(failure_cols, colors)):\n",
    "        # Create readable label from column name\n",
    "        if col.startswith('llm'):\n",
    "            # Extract number of examples from column name\n",
    "            num_examples = col.split('_')[1]\n",
    "            label = f'LLM ({num_examples} examples) Failures'\n",
    "        else:\n",
    "            label = col.replace('_failure', '').upper() + ' Failures'\n",
    "        \n",
    "        plt.bar(x, failure_counts[col], width=bar_width, \n",
    "                bottom=bottom, label=label, color=color, alpha=0.7)\n",
    "        bottom += failure_counts[col]\n",
    "\n",
    "    # Add labels and title\n",
    "    plt.xlabel('NER Tags')\n",
    "    plt.ylabel('Number of Failures')\n",
    "    plt.title('Failures by NER Tag')\n",
    "    \n",
    "    # Set x-axis ticks\n",
    "    plt.xticks(x, failure_counts['ground_truth_label'], rotation=45)\n",
    "\n",
    "    # Annotate total failures\n",
    "    for i, total in enumerate(failure_counts['total_failures']):\n",
    "        plt.text(i, total + 0.5, str(int(total)), ha='center', fontsize=10)\n",
    "\n",
    "    # Add legend\n",
    "    plt.legend(bbox_to_anchor=(1.05, 1), loc='upper left')\n",
    "\n",
    "    plt.tight_layout()\n",
    "    plt.show()"
   ]
  },
  {
   "cell_type": "code",
   "execution_count": 33,
   "metadata": {},
   "outputs": [
    {
     "data": {
      "image/png": "[encoded data removed]",
      "text/plain": [
       "<Figure size 1200x600 with 1 Axes>"
      ]
     },
     "metadata": {},
     "output_type": "display_data"
    }
   ],
   "source": [
    "plot_failed_ner_tags(results)"
   ]
  }
 ],
 "metadata": {
  "kernelspec": {
   "display_name": "base",
   "language": "python",
   "name": "python3"
  },
  "language_info": {
   "codemirror_mode": {
    "name": "ipython",
    "version": 3
   },
   "file_extension": ".py",
   "mimetype": "text/x-python",
   "name": "python",
   "nbconvert_exporter": "python",
   "pygments_lexer": "ipython3",
   "version": "3.11.10"
  }
 },
 "nbformat": 4,
 "nbformat_minor": 2
}
