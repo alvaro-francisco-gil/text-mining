{
 "cells": [
  {
   "cell_type": "markdown",
   "metadata": {},
   "source": [
    "# Imports"
   ]
  },
  {
   "cell_type": "markdown",
   "metadata": {},
   "source": [
    "## Libraries"
   ]
  },
  {
   "cell_type": "code",
   "execution_count": 2,
   "metadata": {},
   "outputs": [],
   "source": [
    "from transformers import AutoTokenizer, AutoModelForTokenClassification, TokenClassificationPipeline\n",
    "from transformers import pipeline\n",
    "from datasets import load_dataset\n",
    "import openai\n",
    "import json\n",
    "import os\n",
    "import re\n",
    "import random\n",
    "import matplotlib.pyplot as plt\n",
    "\n",
    "from dotenv import load_dotenv\n",
    "load_dotenv()\n",
    "openai_api_key = os.getenv('OPENAI_API_KEY')\n",
    "openai.api_key = openai_api_key\n",
    "\n",
    "import torch\n",
    "print(\"Torch version:\", torch.__version__)\n",
    "print(\"CUDA available:\", torch.cuda.is_available())\n",
    "print(\"CUDA device name:\", torch.cuda.get_device_name(0) if torch.cuda.is_available() else \"No CUDA device detected\")\n",
    "\n",
    "import logging\n",
    "logging.basicConfig(level=logging.INFO, format='%(asctime)s - %(levelname)s - %(message)s')\n",
    "\n",
    "import pandas as pd\n",
    "# pd.set_option('display.max_colwidth', None)\n",
    "pd.set_option('display.max_rows', None)\n",
    "pd.set_option('display.max_columns', None)"
   ]
  },
  {
   "cell_type": "markdown",
   "metadata": {},
   "source": [
    "## Functions"
   ]
  },
  {
   "cell_type": "code",
   "execution_count": 20,
   "metadata": {},
   "outputs": [],
   "source": [
    "def convert_ner_ids_to_labels(ner_tag_ids, ner_tags):\n",
    "    \"\"\"\n",
    "    Converts NER tag IDs to their corresponding label names.\n",
    "    \n",
    "    Args:\n",
    "        ner_tag_ids: List or list of lists containing NER tag IDs\n",
    "        ner_tags: List of NER tag labels in order matching the IDs\n",
    "        \n",
    "    Returns:\n",
    "        List or list of lists containing NER tag labels\n",
    "    \"\"\"\n",
    "    # Handle single list case\n",
    "    if isinstance(ner_tag_ids[0], int):\n",
    "        return [ner_tags[id] for id in ner_tag_ids]\n",
    "    \n",
    "    # Handle list of lists case\n",
    "    return [[ner_tags[id] for id in tag_sequence] for tag_sequence in ner_tag_ids]\n"
   ]
  },
  {
   "cell_type": "code",
   "execution_count": 25,
   "metadata": {},
   "outputs": [],
   "source": [
    "def join_words(words):\n",
    "    \"\"\"\n",
    "    Joins a list of words into a properly formatted sentence.\n",
    "    Ensures no extra spaces between words or punctuation.\n",
    "\n",
    "    Args:\n",
    "        words (list): A list of words to join.\n",
    "\n",
    "    Returns:\n",
    "        str: A properly formatted sentence.\n",
    "    \"\"\"\n",
    "    # Join the words with a single space\n",
    "    sentence = \" \".join(words)\n",
    "    \n",
    "    # Use regex to clean up spaces before punctuation marks\n",
    "    sentence = re.sub(r'\\s+([?.!,])', r'\\1', sentence)\n",
    "    \n",
    "    # Optionally, strip leading and trailing spaces (if needed)\n",
    "    return sentence.strip()\n"
   ]
  },
  {
   "cell_type": "code",
   "execution_count": null,
   "metadata": {},
   "outputs": [],
   "source": [
    "def extract_json(raw_output):\n",
    "    try:\n",
    "        # Use regex to extract the JSON array from the response\n",
    "        json_match = re.search(r'\\[.*\\]', raw_output, re.DOTALL)\n",
    "        if json_match:\n",
    "            return json_match.group(0)  # Return the matched JSON string\n",
    "        else:\n",
    "            raise ValueError(\"No JSON array found in the output.\")\n",
    "    except Exception as e:\n",
    "        raise ValueError(f\"Error extracting JSON: {e}\")\n",
    "#################"
   ]
  },
  {
   "cell_type": "code",
   "execution_count": 53,
   "metadata": {},
   "outputs": [],
   "source": [
    "def convert_ner_results_to_tags(ner_results, text, ner_tags):\n",
    "    # Split text into words, handling periods at end of sentences\n",
    "    words = []\n",
    "    for word in text.split():\n",
    "        if word.endswith('.') and len(word) > 1:\n",
    "            # Split word with period into word and period\n",
    "            words.append(word[:-1])\n",
    "            words.append('.')\n",
    "        else:\n",
    "            words.append(word)\n",
    "    \n",
    "    # Initialize tags list with O (0) for all words\n",
    "    tags = [0] * len(words)\n",
    "    \n",
    "    # For each entity found\n",
    "    for result in ner_results:\n",
    "        # Find the word index from the result's index (subtract 1 since model uses 1-based indexing)\n",
    "        word_index = result['index'] - 1\n",
    "        # Convert entity type to numeric tag using position in ner_tags list\n",
    "        tag = ner_tags.index(result['entity']) if result['entity'] in ner_tags else 0\n",
    "        if word_index >= 0 and word_index < len(tags):\n",
    "            tags[word_index] = tag\n",
    "            \n",
    "    return tags"
   ]
  },
  {
   "cell_type": "markdown",
   "metadata": {},
   "source": [
    "## Data"
   ]
  },
  {
   "cell_type": "code",
   "execution_count": 16,
   "metadata": {},
   "outputs": [
    {
     "name": "stdout",
     "output_type": "stream",
     "text": [
      "Dataset example: {'id': '0', 'tokens': ['EU', 'rejects', 'German', 'call', 'to', 'boycott', 'British', 'lamb', '.'], 'pos_tags': [22, 42, 16, 21, 35, 37, 16, 21, 7], 'chunk_tags': [11, 21, 11, 12, 21, 22, 11, 12, 0], 'ner_tags': [3, 0, 7, 0, 0, 0, 7, 0, 0]}\n"
     ]
    }
   ],
   "source": [
    "dataset = load_dataset(\"conll2003\")\n",
    "\n",
    "train_dataset = dataset['train']\n",
    "test_dataset = dataset['test']\n",
    "print(\"Train dataset length:\", len(train_dataset))\n",
    "print(\"Test dataset length:\", len(test_dataset))"
   ]
  },
  {
   "cell_type": "code",
   "execution_count": 15,
   "metadata": {},
   "outputs": [
    {
     "name": "stdout",
     "output_type": "stream",
     "text": [
      "ner_tags: ['O', 'B-PER', 'I-PER', 'B-ORG', 'I-ORG', 'B-LOC', 'I-LOC', 'B-MISC', 'I-MISC']\n"
     ]
    }
   ],
   "source": [
    "features = train_dataset.features\n",
    "ner_tags = features['ner_tags'].feature.names\n",
    "\n",
    "print(\"ner_tags:\", ner_tags)"
   ]
  },
  {
   "cell_type": "code",
   "execution_count": null,
   "metadata": {},
   "outputs": [
    {
     "name": "stdout",
     "output_type": "stream",
     "text": [
      "Example sentence: ['EU', 'rejects', 'German', 'call', 'to', 'boycott', 'British', 'lamb', '.']\n",
      "Example NER tags: [3, 0, 7, 0, 0, 0, 7, 0, 0]\n",
      "Example NER labels: ['B-ORG', 'O', 'B-MISC', 'O', 'O', 'O', 'B-MISC', 'O', 'O']\n"
     ]
    }
   ],
   "source": [
    "train_tokens = train_dataset['tokens']\n",
    "train_ner_tags = train_dataset['ner_tags']\n",
    "\n",
    "test_tokens = test_dataset['tokens']\n",
    "test_ner_tags = test_dataset['ner_tags']\n",
    "\n",
    "example_sentence = train_tokens[0]\n",
    "example_ner_tags = train_ner_tags[0]\n",
    "\n",
    "print(\"Example sentence:\", example_sentence)\n",
    "print(\"Example NER tags:\", example_ner_tags)\n",
    "print(\"Example NER labels:\", convert_ner_ids_to_labels(example_ner_tags, ner_tags))"
   ]
  },
  {
   "cell_type": "code",
   "execution_count": 56,
   "metadata": {},
   "outputs": [
    {
     "name": "stdout",
     "output_type": "stream",
     "text": [
      "Training set:\n",
      "Number of sentences ending with period: 6973\n",
      "Total number of sentences: 14041\n",
      "Percentage: 49.66%\n",
      "\n",
      "Test set:\n",
      "Number of sentences ending with period: 1559\n",
      "Total number of sentences: 3453\n",
      "Percentage: 45.15%\n"
     ]
    }
   ],
   "source": [
    "# Count sentences ending with period\n",
    "# Count sentences ending with period in train set\n",
    "train_period_count = 0\n",
    "train_total = len(train_tokens)\n",
    "\n",
    "for sentence in train_tokens:\n",
    "    if sentence[-1] == '.':\n",
    "        train_period_count += 1\n",
    "\n",
    "# Count sentences ending with period in test set\n",
    "test_period_count = 0 \n",
    "test_total = len(test_tokens)\n",
    "\n",
    "for sentence in test_tokens:\n",
    "    if sentence[-1] == '.':\n",
    "        test_period_count += 1\n",
    "\n",
    "print(\"Training set:\")\n",
    "print(f\"Number of sentences ending with period: {train_period_count}\")\n",
    "print(f\"Total number of sentences: {train_total}\")\n",
    "print(f\"Percentage: {(train_period_count/train_total)*100:.2f}%\")\n",
    "\n",
    "print(\"\\nTest set:\")\n",
    "print(f\"Number of sentences ending with period: {test_period_count}\")\n",
    "print(f\"Total number of sentences: {test_total}\")\n",
    "print(f\"Percentage: {(test_period_count/test_total)*100:.2f}%\")\n"
   ]
  },
  {
   "cell_type": "markdown",
   "metadata": {},
   "source": [
    "## Models"
   ]
  },
  {
   "cell_type": "code",
   "execution_count": null,
   "metadata": {},
   "outputs": [
    {
     "name": "stderr",
     "output_type": "stream",
     "text": [
      "/opt/conda/lib/python3.11/site-packages/huggingface_hub/file_download.py:797: FutureWarning: `resume_download` is deprecated and will be removed in version 1.0.0. Downloads always resume when possible. If you want to force a new download, use `force_download=True`.\n",
      "  warnings.warn(\n",
      "Some weights of the model checkpoint at dslim/bert-base-NER were not used when initializing BertForTokenClassification: ['bert.pooler.dense.weight', 'bert.pooler.dense.bias']\n",
      "- This IS expected if you are initializing BertForTokenClassification from the checkpoint of a model trained on another task or with another architecture (e.g. initializing a BertForSequenceClassification model from a BertForPreTraining model).\n",
      "- This IS NOT expected if you are initializing BertForTokenClassification from the checkpoint of a model that you expect to be exactly identical (initializing a BertForSequenceClassification model from a BertForSequenceClassification model).\n"
     ]
    },
    {
     "ename": "TypeError",
     "evalue": "TokenClassificationPipeline._sanitize_parameters() got an unexpected keyword argument 'model'",
     "output_type": "error",
     "traceback": [
      "\u001b[0;31m---------------------------------------------------------------------------\u001b[0m",
      "\u001b[0;31mTypeError\u001b[0m                                 Traceback (most recent call last)",
      "Cell \u001b[0;32mIn[57], line 3\u001b[0m\n\u001b[1;32m      1\u001b[0m tokenizer \u001b[38;5;241m=\u001b[39m AutoTokenizer\u001b[38;5;241m.\u001b[39mfrom_pretrained(\u001b[38;5;124m\"\u001b[39m\u001b[38;5;124mdslim/bert-base-NER\u001b[39m\u001b[38;5;124m\"\u001b[39m)\n\u001b[1;32m      2\u001b[0m model \u001b[38;5;241m=\u001b[39m AutoModelForTokenClassification\u001b[38;5;241m.\u001b[39mfrom_pretrained(\u001b[38;5;124m\"\u001b[39m\u001b[38;5;124mdslim/bert-base-NER\u001b[39m\u001b[38;5;124m\"\u001b[39m)\n\u001b[0;32m----> 3\u001b[0m nlp \u001b[38;5;241m=\u001b[39m \u001b[43mpipeline\u001b[49m\u001b[43m(\u001b[49m\u001b[38;5;124;43m\"\u001b[39;49m\u001b[38;5;124;43mner\u001b[39;49m\u001b[38;5;124;43m\"\u001b[39;49m\u001b[43m,\u001b[49m\u001b[43m \u001b[49m\u001b[43mmodel\u001b[49m\u001b[38;5;241;43m=\u001b[39;49m\u001b[43mmodel\u001b[49m\u001b[43m,\u001b[49m\u001b[43m \u001b[49m\u001b[43mtokenizer\u001b[49m\u001b[38;5;241;43m=\u001b[39;49m\u001b[43mtokenizer\u001b[49m\u001b[43m)\u001b[49m\n",
      "File \u001b[0;32m/opt/conda/lib/python3.11/site-packages/transformers/pipelines/token_classification.py:249\u001b[0m, in \u001b[0;36mTokenClassificationPipeline.__call__\u001b[0;34m(self, inputs, **kwargs)\u001b[0m\n\u001b[1;32m    246\u001b[0m \u001b[38;5;28;01mif\u001b[39;00m offset_mapping:\n\u001b[1;32m    247\u001b[0m     kwargs[\u001b[38;5;124m\"\u001b[39m\u001b[38;5;124moffset_mapping\u001b[39m\u001b[38;5;124m\"\u001b[39m] \u001b[38;5;241m=\u001b[39m offset_mapping\n\u001b[0;32m--> 249\u001b[0m \u001b[38;5;28;01mreturn\u001b[39;00m \u001b[38;5;28;43msuper\u001b[39;49m\u001b[43m(\u001b[49m\u001b[43m)\u001b[49m\u001b[38;5;241;43m.\u001b[39;49m\u001b[38;5;21;43m__call__\u001b[39;49m\u001b[43m(\u001b[49m\u001b[43minputs\u001b[49m\u001b[43m,\u001b[49m\u001b[43m \u001b[49m\u001b[38;5;241;43m*\u001b[39;49m\u001b[38;5;241;43m*\u001b[39;49m\u001b[43mkwargs\u001b[49m\u001b[43m)\u001b[49m\n",
      "File \u001b[0;32m/opt/conda/lib/python3.11/site-packages/transformers/pipelines/base.py:1074\u001b[0m, in \u001b[0;36mPipeline.__call__\u001b[0;34m(self, inputs, num_workers, batch_size, *args, **kwargs)\u001b[0m\n\u001b[1;32m   1071\u001b[0m     \u001b[38;5;28;01melse\u001b[39;00m:\n\u001b[1;32m   1072\u001b[0m         batch_size \u001b[38;5;241m=\u001b[39m \u001b[38;5;28mself\u001b[39m\u001b[38;5;241m.\u001b[39m_batch_size\n\u001b[0;32m-> 1074\u001b[0m preprocess_params, forward_params, postprocess_params \u001b[38;5;241m=\u001b[39m \u001b[38;5;28;43mself\u001b[39;49m\u001b[38;5;241;43m.\u001b[39;49m\u001b[43m_sanitize_parameters\u001b[49m\u001b[43m(\u001b[49m\u001b[38;5;241;43m*\u001b[39;49m\u001b[38;5;241;43m*\u001b[39;49m\u001b[43mkwargs\u001b[49m\u001b[43m)\u001b[49m\n\u001b[1;32m   1076\u001b[0m \u001b[38;5;66;03m# Fuse __init__ params and __call__ params without modifying the __init__ ones.\u001b[39;00m\n\u001b[1;32m   1077\u001b[0m preprocess_params \u001b[38;5;241m=\u001b[39m {\u001b[38;5;241m*\u001b[39m\u001b[38;5;241m*\u001b[39m\u001b[38;5;28mself\u001b[39m\u001b[38;5;241m.\u001b[39m_preprocess_params, \u001b[38;5;241m*\u001b[39m\u001b[38;5;241m*\u001b[39mpreprocess_params}\n",
      "\u001b[0;31mTypeError\u001b[0m: TokenClassificationPipeline._sanitize_parameters() got an unexpected keyword argument 'model'"
     ]
    }
   ],
   "source": [
    "tokenizer = AutoTokenizer.from_pretrained(\"dslim/bert-base-NER\")\n",
    "model = AutoModelForTokenClassification.from_pretrained(\"dslim/bert-base-NER\")\n",
    "nlp = pipeline(\"ner\", model=model, tokenizer=tokenizer)"
   ]
  },
  {
   "cell_type": "code",
   "execution_count": 36,
   "metadata": {},
   "outputs": [
    {
     "name": "stdout",
     "output_type": "stream",
     "text": [
      "The European Commission said on Thursday it disagreed with German advice to consumers to shun British lamb until scientists determine whether mad cow disease can be transmitted to sheep.\n"
     ]
    }
   ],
   "source": [
    "example_string_sentence = join_words(example_sentence)\n",
    "print(example_string_sentence)"
   ]
  },
  {
   "cell_type": "code",
   "execution_count": null,
   "metadata": {},
   "outputs": [
    {
     "name": "stdout",
     "output_type": "stream",
     "text": [
      "[{'entity': 'B-ORG', 'score': 0.9994203, 'index': 2, 'word': 'European', 'start': 4, 'end': 12}, {'entity': 'I-ORG', 'score': 0.99918646, 'index': 3, 'word': 'Commission', 'start': 13, 'end': 23}, {'entity': 'B-MISC', 'score': 0.9997527, 'index': 10, 'word': 'German', 'start': 59, 'end': 65}, {'entity': 'B-MISC', 'score': 0.9997396, 'index': 17, 'word': 'British', 'start': 94, 'end': 101}]\n",
      "[0, 3, 4, 0, 0, 0, 0, 0, 0, 7, 0, 0, 0, 0, 0, 0, 7, 0, 0, 0, 0, 0, 0, 0, 0, 0, 0, 0, 0, 0]\n"
     ]
    }
   ],
   "source": [
    "ner_results = nlp(example_string_sentence)\n",
    "example_tags = convert_ner_results_to_tags(ner_results, example_string_sentence, ner_tags)\n",
    "print(ner_results)\n",
    "print(example_tags)"
   ]
  },
  {
   "cell_type": "markdown",
   "metadata": {},
   "source": [
    "### mixtral 8x7b"
   ]
  },
  {
   "cell_type": "code",
   "execution_count": null,
   "metadata": {},
   "outputs": [],
   "source": [
    "klk"
   ]
  },
  {
   "cell_type": "code",
   "execution_count": null,
   "metadata": {},
   "outputs": [
    {
     "ename": "APIConnectionError",
     "evalue": "Error communicating with OpenAI: HTTPConnectionPool(host='192.168.0.43', port=1234): Max retries exceeded with url: /v1/completions (Caused by NewConnectionError('<urllib3.connection.HTTPConnection object at 0x7ff89ab1c090>: Failed to establish a new connection: [Errno 113] No route to host'))",
     "output_type": "error",
     "traceback": [
      "\u001b[0;31m---------------------------------------------------------------------------\u001b[0m",
      "\u001b[0;31mOSError\u001b[0m                                   Traceback (most recent call last)",
      "File \u001b[0;32m/opt/conda/lib/python3.11/site-packages/urllib3/connection.py:199\u001b[0m, in \u001b[0;36mHTTPConnection._new_conn\u001b[0;34m(self)\u001b[0m\n\u001b[1;32m    198\u001b[0m \u001b[38;5;28;01mtry\u001b[39;00m:\n\u001b[0;32m--> 199\u001b[0m     sock \u001b[38;5;241m=\u001b[39m \u001b[43mconnection\u001b[49m\u001b[38;5;241;43m.\u001b[39;49m\u001b[43mcreate_connection\u001b[49m\u001b[43m(\u001b[49m\n\u001b[1;32m    200\u001b[0m \u001b[43m        \u001b[49m\u001b[43m(\u001b[49m\u001b[38;5;28;43mself\u001b[39;49m\u001b[38;5;241;43m.\u001b[39;49m\u001b[43m_dns_host\u001b[49m\u001b[43m,\u001b[49m\u001b[43m \u001b[49m\u001b[38;5;28;43mself\u001b[39;49m\u001b[38;5;241;43m.\u001b[39;49m\u001b[43mport\u001b[49m\u001b[43m)\u001b[49m\u001b[43m,\u001b[49m\n\u001b[1;32m    201\u001b[0m \u001b[43m        \u001b[49m\u001b[38;5;28;43mself\u001b[39;49m\u001b[38;5;241;43m.\u001b[39;49m\u001b[43mtimeout\u001b[49m\u001b[43m,\u001b[49m\n\u001b[1;32m    202\u001b[0m \u001b[43m        \u001b[49m\u001b[43msource_address\u001b[49m\u001b[38;5;241;43m=\u001b[39;49m\u001b[38;5;28;43mself\u001b[39;49m\u001b[38;5;241;43m.\u001b[39;49m\u001b[43msource_address\u001b[49m\u001b[43m,\u001b[49m\n\u001b[1;32m    203\u001b[0m \u001b[43m        \u001b[49m\u001b[43msocket_options\u001b[49m\u001b[38;5;241;43m=\u001b[39;49m\u001b[38;5;28;43mself\u001b[39;49m\u001b[38;5;241;43m.\u001b[39;49m\u001b[43msocket_options\u001b[49m\u001b[43m,\u001b[49m\n\u001b[1;32m    204\u001b[0m \u001b[43m    \u001b[49m\u001b[43m)\u001b[49m\n\u001b[1;32m    205\u001b[0m \u001b[38;5;28;01mexcept\u001b[39;00m socket\u001b[38;5;241m.\u001b[39mgaierror \u001b[38;5;28;01mas\u001b[39;00m e:\n",
      "File \u001b[0;32m/opt/conda/lib/python3.11/site-packages/urllib3/util/connection.py:85\u001b[0m, in \u001b[0;36mcreate_connection\u001b[0;34m(address, timeout, source_address, socket_options)\u001b[0m\n\u001b[1;32m     84\u001b[0m \u001b[38;5;28;01mtry\u001b[39;00m:\n\u001b[0;32m---> 85\u001b[0m     \u001b[38;5;28;01mraise\u001b[39;00m err\n\u001b[1;32m     86\u001b[0m \u001b[38;5;28;01mfinally\u001b[39;00m:\n\u001b[1;32m     87\u001b[0m     \u001b[38;5;66;03m# Break explicitly a reference cycle\u001b[39;00m\n",
      "File \u001b[0;32m/opt/conda/lib/python3.11/site-packages/urllib3/util/connection.py:73\u001b[0m, in \u001b[0;36mcreate_connection\u001b[0;34m(address, timeout, source_address, socket_options)\u001b[0m\n\u001b[1;32m     72\u001b[0m     sock\u001b[38;5;241m.\u001b[39mbind(source_address)\n\u001b[0;32m---> 73\u001b[0m \u001b[43msock\u001b[49m\u001b[38;5;241;43m.\u001b[39;49m\u001b[43mconnect\u001b[49m\u001b[43m(\u001b[49m\u001b[43msa\u001b[49m\u001b[43m)\u001b[49m\n\u001b[1;32m     74\u001b[0m \u001b[38;5;66;03m# Break explicitly a reference cycle\u001b[39;00m\n",
      "\u001b[0;31mOSError\u001b[0m: [Errno 113] No route to host",
      "\nThe above exception was the direct cause of the following exception:\n",
      "\u001b[0;31mNewConnectionError\u001b[0m                        Traceback (most recent call last)",
      "File \u001b[0;32m/opt/conda/lib/python3.11/site-packages/urllib3/connectionpool.py:789\u001b[0m, in \u001b[0;36mHTTPConnectionPool.urlopen\u001b[0;34m(self, method, url, body, headers, retries, redirect, assert_same_host, timeout, pool_timeout, release_conn, chunked, body_pos, preload_content, decode_content, **response_kw)\u001b[0m\n\u001b[1;32m    788\u001b[0m \u001b[38;5;66;03m# Make the request on the HTTPConnection object\u001b[39;00m\n\u001b[0;32m--> 789\u001b[0m response \u001b[38;5;241m=\u001b[39m \u001b[38;5;28;43mself\u001b[39;49m\u001b[38;5;241;43m.\u001b[39;49m\u001b[43m_make_request\u001b[49m\u001b[43m(\u001b[49m\n\u001b[1;32m    790\u001b[0m \u001b[43m    \u001b[49m\u001b[43mconn\u001b[49m\u001b[43m,\u001b[49m\n\u001b[1;32m    791\u001b[0m \u001b[43m    \u001b[49m\u001b[43mmethod\u001b[49m\u001b[43m,\u001b[49m\n\u001b[1;32m    792\u001b[0m \u001b[43m    \u001b[49m\u001b[43murl\u001b[49m\u001b[43m,\u001b[49m\n\u001b[1;32m    793\u001b[0m \u001b[43m    \u001b[49m\u001b[43mtimeout\u001b[49m\u001b[38;5;241;43m=\u001b[39;49m\u001b[43mtimeout_obj\u001b[49m\u001b[43m,\u001b[49m\n\u001b[1;32m    794\u001b[0m \u001b[43m    \u001b[49m\u001b[43mbody\u001b[49m\u001b[38;5;241;43m=\u001b[39;49m\u001b[43mbody\u001b[49m\u001b[43m,\u001b[49m\n\u001b[1;32m    795\u001b[0m \u001b[43m    \u001b[49m\u001b[43mheaders\u001b[49m\u001b[38;5;241;43m=\u001b[39;49m\u001b[43mheaders\u001b[49m\u001b[43m,\u001b[49m\n\u001b[1;32m    796\u001b[0m \u001b[43m    \u001b[49m\u001b[43mchunked\u001b[49m\u001b[38;5;241;43m=\u001b[39;49m\u001b[43mchunked\u001b[49m\u001b[43m,\u001b[49m\n\u001b[1;32m    797\u001b[0m \u001b[43m    \u001b[49m\u001b[43mretries\u001b[49m\u001b[38;5;241;43m=\u001b[39;49m\u001b[43mretries\u001b[49m\u001b[43m,\u001b[49m\n\u001b[1;32m    798\u001b[0m \u001b[43m    \u001b[49m\u001b[43mresponse_conn\u001b[49m\u001b[38;5;241;43m=\u001b[39;49m\u001b[43mresponse_conn\u001b[49m\u001b[43m,\u001b[49m\n\u001b[1;32m    799\u001b[0m \u001b[43m    \u001b[49m\u001b[43mpreload_content\u001b[49m\u001b[38;5;241;43m=\u001b[39;49m\u001b[43mpreload_content\u001b[49m\u001b[43m,\u001b[49m\n\u001b[1;32m    800\u001b[0m \u001b[43m    \u001b[49m\u001b[43mdecode_content\u001b[49m\u001b[38;5;241;43m=\u001b[39;49m\u001b[43mdecode_content\u001b[49m\u001b[43m,\u001b[49m\n\u001b[1;32m    801\u001b[0m \u001b[43m    \u001b[49m\u001b[38;5;241;43m*\u001b[39;49m\u001b[38;5;241;43m*\u001b[39;49m\u001b[43mresponse_kw\u001b[49m\u001b[43m,\u001b[49m\n\u001b[1;32m    802\u001b[0m \u001b[43m\u001b[49m\u001b[43m)\u001b[49m\n\u001b[1;32m    804\u001b[0m \u001b[38;5;66;03m# Everything went great!\u001b[39;00m\n",
      "File \u001b[0;32m/opt/conda/lib/python3.11/site-packages/urllib3/connectionpool.py:495\u001b[0m, in \u001b[0;36mHTTPConnectionPool._make_request\u001b[0;34m(self, conn, method, url, body, headers, retries, timeout, chunked, response_conn, preload_content, decode_content, enforce_content_length)\u001b[0m\n\u001b[1;32m    494\u001b[0m \u001b[38;5;28;01mtry\u001b[39;00m:\n\u001b[0;32m--> 495\u001b[0m     \u001b[43mconn\u001b[49m\u001b[38;5;241;43m.\u001b[39;49m\u001b[43mrequest\u001b[49m\u001b[43m(\u001b[49m\n\u001b[1;32m    496\u001b[0m \u001b[43m        \u001b[49m\u001b[43mmethod\u001b[49m\u001b[43m,\u001b[49m\n\u001b[1;32m    497\u001b[0m \u001b[43m        \u001b[49m\u001b[43murl\u001b[49m\u001b[43m,\u001b[49m\n\u001b[1;32m    498\u001b[0m \u001b[43m        \u001b[49m\u001b[43mbody\u001b[49m\u001b[38;5;241;43m=\u001b[39;49m\u001b[43mbody\u001b[49m\u001b[43m,\u001b[49m\n\u001b[1;32m    499\u001b[0m \u001b[43m        \u001b[49m\u001b[43mheaders\u001b[49m\u001b[38;5;241;43m=\u001b[39;49m\u001b[43mheaders\u001b[49m\u001b[43m,\u001b[49m\n\u001b[1;32m    500\u001b[0m \u001b[43m        \u001b[49m\u001b[43mchunked\u001b[49m\u001b[38;5;241;43m=\u001b[39;49m\u001b[43mchunked\u001b[49m\u001b[43m,\u001b[49m\n\u001b[1;32m    501\u001b[0m \u001b[43m        \u001b[49m\u001b[43mpreload_content\u001b[49m\u001b[38;5;241;43m=\u001b[39;49m\u001b[43mpreload_content\u001b[49m\u001b[43m,\u001b[49m\n\u001b[1;32m    502\u001b[0m \u001b[43m        \u001b[49m\u001b[43mdecode_content\u001b[49m\u001b[38;5;241;43m=\u001b[39;49m\u001b[43mdecode_content\u001b[49m\u001b[43m,\u001b[49m\n\u001b[1;32m    503\u001b[0m \u001b[43m        \u001b[49m\u001b[43menforce_content_length\u001b[49m\u001b[38;5;241;43m=\u001b[39;49m\u001b[43menforce_content_length\u001b[49m\u001b[43m,\u001b[49m\n\u001b[1;32m    504\u001b[0m \u001b[43m    \u001b[49m\u001b[43m)\u001b[49m\n\u001b[1;32m    506\u001b[0m \u001b[38;5;66;03m# We are swallowing BrokenPipeError (errno.EPIPE) since the server is\u001b[39;00m\n\u001b[1;32m    507\u001b[0m \u001b[38;5;66;03m# legitimately able to close the connection after sending a valid response.\u001b[39;00m\n\u001b[1;32m    508\u001b[0m \u001b[38;5;66;03m# With this behaviour, the received response is still readable.\u001b[39;00m\n",
      "File \u001b[0;32m/opt/conda/lib/python3.11/site-packages/urllib3/connection.py:441\u001b[0m, in \u001b[0;36mHTTPConnection.request\u001b[0;34m(self, method, url, body, headers, chunked, preload_content, decode_content, enforce_content_length)\u001b[0m\n\u001b[1;32m    440\u001b[0m     \u001b[38;5;28mself\u001b[39m\u001b[38;5;241m.\u001b[39mputheader(header, value)\n\u001b[0;32m--> 441\u001b[0m \u001b[38;5;28;43mself\u001b[39;49m\u001b[38;5;241;43m.\u001b[39;49m\u001b[43mendheaders\u001b[49m\u001b[43m(\u001b[49m\u001b[43m)\u001b[49m\n\u001b[1;32m    443\u001b[0m \u001b[38;5;66;03m# If we're given a body we start sending that in chunks.\u001b[39;00m\n",
      "File \u001b[0;32m/opt/conda/lib/python3.11/http/client.py:1298\u001b[0m, in \u001b[0;36mHTTPConnection.endheaders\u001b[0;34m(self, message_body, encode_chunked)\u001b[0m\n\u001b[1;32m   1297\u001b[0m     \u001b[38;5;28;01mraise\u001b[39;00m CannotSendHeader()\n\u001b[0;32m-> 1298\u001b[0m \u001b[38;5;28;43mself\u001b[39;49m\u001b[38;5;241;43m.\u001b[39;49m\u001b[43m_send_output\u001b[49m\u001b[43m(\u001b[49m\u001b[43mmessage_body\u001b[49m\u001b[43m,\u001b[49m\u001b[43m \u001b[49m\u001b[43mencode_chunked\u001b[49m\u001b[38;5;241;43m=\u001b[39;49m\u001b[43mencode_chunked\u001b[49m\u001b[43m)\u001b[49m\n",
      "File \u001b[0;32m/opt/conda/lib/python3.11/http/client.py:1058\u001b[0m, in \u001b[0;36mHTTPConnection._send_output\u001b[0;34m(self, message_body, encode_chunked)\u001b[0m\n\u001b[1;32m   1057\u001b[0m \u001b[38;5;28;01mdel\u001b[39;00m \u001b[38;5;28mself\u001b[39m\u001b[38;5;241m.\u001b[39m_buffer[:]\n\u001b[0;32m-> 1058\u001b[0m \u001b[38;5;28;43mself\u001b[39;49m\u001b[38;5;241;43m.\u001b[39;49m\u001b[43msend\u001b[49m\u001b[43m(\u001b[49m\u001b[43mmsg\u001b[49m\u001b[43m)\u001b[49m\n\u001b[1;32m   1060\u001b[0m \u001b[38;5;28;01mif\u001b[39;00m message_body \u001b[38;5;129;01mis\u001b[39;00m \u001b[38;5;129;01mnot\u001b[39;00m \u001b[38;5;28;01mNone\u001b[39;00m:\n\u001b[1;32m   1061\u001b[0m \n\u001b[1;32m   1062\u001b[0m     \u001b[38;5;66;03m# create a consistent interface to message_body\u001b[39;00m\n",
      "File \u001b[0;32m/opt/conda/lib/python3.11/http/client.py:996\u001b[0m, in \u001b[0;36mHTTPConnection.send\u001b[0;34m(self, data)\u001b[0m\n\u001b[1;32m    995\u001b[0m \u001b[38;5;28;01mif\u001b[39;00m \u001b[38;5;28mself\u001b[39m\u001b[38;5;241m.\u001b[39mauto_open:\n\u001b[0;32m--> 996\u001b[0m     \u001b[38;5;28;43mself\u001b[39;49m\u001b[38;5;241;43m.\u001b[39;49m\u001b[43mconnect\u001b[49m\u001b[43m(\u001b[49m\u001b[43m)\u001b[49m\n\u001b[1;32m    997\u001b[0m \u001b[38;5;28;01melse\u001b[39;00m:\n",
      "File \u001b[0;32m/opt/conda/lib/python3.11/site-packages/urllib3/connection.py:279\u001b[0m, in \u001b[0;36mHTTPConnection.connect\u001b[0;34m(self)\u001b[0m\n\u001b[1;32m    278\u001b[0m \u001b[38;5;28;01mdef\u001b[39;00m \u001b[38;5;21mconnect\u001b[39m(\u001b[38;5;28mself\u001b[39m) \u001b[38;5;241m-\u001b[39m\u001b[38;5;241m>\u001b[39m \u001b[38;5;28;01mNone\u001b[39;00m:\n\u001b[0;32m--> 279\u001b[0m     \u001b[38;5;28mself\u001b[39m\u001b[38;5;241m.\u001b[39msock \u001b[38;5;241m=\u001b[39m \u001b[38;5;28;43mself\u001b[39;49m\u001b[38;5;241;43m.\u001b[39;49m\u001b[43m_new_conn\u001b[49m\u001b[43m(\u001b[49m\u001b[43m)\u001b[49m\n\u001b[1;32m    280\u001b[0m     \u001b[38;5;28;01mif\u001b[39;00m \u001b[38;5;28mself\u001b[39m\u001b[38;5;241m.\u001b[39m_tunnel_host:\n\u001b[1;32m    281\u001b[0m         \u001b[38;5;66;03m# If we're tunneling it means we're connected to our proxy.\u001b[39;00m\n",
      "File \u001b[0;32m/opt/conda/lib/python3.11/site-packages/urllib3/connection.py:214\u001b[0m, in \u001b[0;36mHTTPConnection._new_conn\u001b[0;34m(self)\u001b[0m\n\u001b[1;32m    213\u001b[0m \u001b[38;5;28;01mexcept\u001b[39;00m \u001b[38;5;167;01mOSError\u001b[39;00m \u001b[38;5;28;01mas\u001b[39;00m e:\n\u001b[0;32m--> 214\u001b[0m     \u001b[38;5;28;01mraise\u001b[39;00m NewConnectionError(\n\u001b[1;32m    215\u001b[0m         \u001b[38;5;28mself\u001b[39m, \u001b[38;5;124mf\u001b[39m\u001b[38;5;124m\"\u001b[39m\u001b[38;5;124mFailed to establish a new connection: \u001b[39m\u001b[38;5;132;01m{\u001b[39;00me\u001b[38;5;132;01m}\u001b[39;00m\u001b[38;5;124m\"\u001b[39m\n\u001b[1;32m    216\u001b[0m     ) \u001b[38;5;28;01mfrom\u001b[39;00m \u001b[38;5;21;01me\u001b[39;00m\n\u001b[1;32m    218\u001b[0m \u001b[38;5;66;03m# Audit hooks are only available in Python 3.8+\u001b[39;00m\n",
      "\u001b[0;31mNewConnectionError\u001b[0m: <urllib3.connection.HTTPConnection object at 0x7ff89ab1c090>: Failed to establish a new connection: [Errno 113] No route to host",
      "\nThe above exception was the direct cause of the following exception:\n",
      "\u001b[0;31mMaxRetryError\u001b[0m                             Traceback (most recent call last)",
      "File \u001b[0;32m/opt/conda/lib/python3.11/site-packages/requests/adapters.py:667\u001b[0m, in \u001b[0;36mHTTPAdapter.send\u001b[0;34m(self, request, stream, timeout, verify, cert, proxies)\u001b[0m\n\u001b[1;32m    666\u001b[0m \u001b[38;5;28;01mtry\u001b[39;00m:\n\u001b[0;32m--> 667\u001b[0m     resp \u001b[38;5;241m=\u001b[39m \u001b[43mconn\u001b[49m\u001b[38;5;241;43m.\u001b[39;49m\u001b[43murlopen\u001b[49m\u001b[43m(\u001b[49m\n\u001b[1;32m    668\u001b[0m \u001b[43m        \u001b[49m\u001b[43mmethod\u001b[49m\u001b[38;5;241;43m=\u001b[39;49m\u001b[43mrequest\u001b[49m\u001b[38;5;241;43m.\u001b[39;49m\u001b[43mmethod\u001b[49m\u001b[43m,\u001b[49m\n\u001b[1;32m    669\u001b[0m \u001b[43m        \u001b[49m\u001b[43murl\u001b[49m\u001b[38;5;241;43m=\u001b[39;49m\u001b[43murl\u001b[49m\u001b[43m,\u001b[49m\n\u001b[1;32m    670\u001b[0m \u001b[43m        \u001b[49m\u001b[43mbody\u001b[49m\u001b[38;5;241;43m=\u001b[39;49m\u001b[43mrequest\u001b[49m\u001b[38;5;241;43m.\u001b[39;49m\u001b[43mbody\u001b[49m\u001b[43m,\u001b[49m\n\u001b[1;32m    671\u001b[0m \u001b[43m        \u001b[49m\u001b[43mheaders\u001b[49m\u001b[38;5;241;43m=\u001b[39;49m\u001b[43mrequest\u001b[49m\u001b[38;5;241;43m.\u001b[39;49m\u001b[43mheaders\u001b[49m\u001b[43m,\u001b[49m\n\u001b[1;32m    672\u001b[0m \u001b[43m        \u001b[49m\u001b[43mredirect\u001b[49m\u001b[38;5;241;43m=\u001b[39;49m\u001b[38;5;28;43;01mFalse\u001b[39;49;00m\u001b[43m,\u001b[49m\n\u001b[1;32m    673\u001b[0m \u001b[43m        \u001b[49m\u001b[43massert_same_host\u001b[49m\u001b[38;5;241;43m=\u001b[39;49m\u001b[38;5;28;43;01mFalse\u001b[39;49;00m\u001b[43m,\u001b[49m\n\u001b[1;32m    674\u001b[0m \u001b[43m        \u001b[49m\u001b[43mpreload_content\u001b[49m\u001b[38;5;241;43m=\u001b[39;49m\u001b[38;5;28;43;01mFalse\u001b[39;49;00m\u001b[43m,\u001b[49m\n\u001b[1;32m    675\u001b[0m \u001b[43m        \u001b[49m\u001b[43mdecode_content\u001b[49m\u001b[38;5;241;43m=\u001b[39;49m\u001b[38;5;28;43;01mFalse\u001b[39;49;00m\u001b[43m,\u001b[49m\n\u001b[1;32m    676\u001b[0m \u001b[43m        \u001b[49m\u001b[43mretries\u001b[49m\u001b[38;5;241;43m=\u001b[39;49m\u001b[38;5;28;43mself\u001b[39;49m\u001b[38;5;241;43m.\u001b[39;49m\u001b[43mmax_retries\u001b[49m\u001b[43m,\u001b[49m\n\u001b[1;32m    677\u001b[0m \u001b[43m        \u001b[49m\u001b[43mtimeout\u001b[49m\u001b[38;5;241;43m=\u001b[39;49m\u001b[43mtimeout\u001b[49m\u001b[43m,\u001b[49m\n\u001b[1;32m    678\u001b[0m \u001b[43m        \u001b[49m\u001b[43mchunked\u001b[49m\u001b[38;5;241;43m=\u001b[39;49m\u001b[43mchunked\u001b[49m\u001b[43m,\u001b[49m\n\u001b[1;32m    679\u001b[0m \u001b[43m    \u001b[49m\u001b[43m)\u001b[49m\n\u001b[1;32m    681\u001b[0m \u001b[38;5;28;01mexcept\u001b[39;00m (ProtocolError, \u001b[38;5;167;01mOSError\u001b[39;00m) \u001b[38;5;28;01mas\u001b[39;00m err:\n",
      "File \u001b[0;32m/opt/conda/lib/python3.11/site-packages/urllib3/connectionpool.py:843\u001b[0m, in \u001b[0;36mHTTPConnectionPool.urlopen\u001b[0;34m(self, method, url, body, headers, retries, redirect, assert_same_host, timeout, pool_timeout, release_conn, chunked, body_pos, preload_content, decode_content, **response_kw)\u001b[0m\n\u001b[1;32m    841\u001b[0m     new_e \u001b[38;5;241m=\u001b[39m ProtocolError(\u001b[38;5;124m\"\u001b[39m\u001b[38;5;124mConnection aborted.\u001b[39m\u001b[38;5;124m\"\u001b[39m, new_e)\n\u001b[0;32m--> 843\u001b[0m retries \u001b[38;5;241m=\u001b[39m \u001b[43mretries\u001b[49m\u001b[38;5;241;43m.\u001b[39;49m\u001b[43mincrement\u001b[49m\u001b[43m(\u001b[49m\n\u001b[1;32m    844\u001b[0m \u001b[43m    \u001b[49m\u001b[43mmethod\u001b[49m\u001b[43m,\u001b[49m\u001b[43m \u001b[49m\u001b[43murl\u001b[49m\u001b[43m,\u001b[49m\u001b[43m \u001b[49m\u001b[43merror\u001b[49m\u001b[38;5;241;43m=\u001b[39;49m\u001b[43mnew_e\u001b[49m\u001b[43m,\u001b[49m\u001b[43m \u001b[49m\u001b[43m_pool\u001b[49m\u001b[38;5;241;43m=\u001b[39;49m\u001b[38;5;28;43mself\u001b[39;49m\u001b[43m,\u001b[49m\u001b[43m \u001b[49m\u001b[43m_stacktrace\u001b[49m\u001b[38;5;241;43m=\u001b[39;49m\u001b[43msys\u001b[49m\u001b[38;5;241;43m.\u001b[39;49m\u001b[43mexc_info\u001b[49m\u001b[43m(\u001b[49m\u001b[43m)\u001b[49m\u001b[43m[\u001b[49m\u001b[38;5;241;43m2\u001b[39;49m\u001b[43m]\u001b[49m\n\u001b[1;32m    845\u001b[0m \u001b[43m\u001b[49m\u001b[43m)\u001b[49m\n\u001b[1;32m    846\u001b[0m retries\u001b[38;5;241m.\u001b[39msleep()\n",
      "File \u001b[0;32m/opt/conda/lib/python3.11/site-packages/urllib3/util/retry.py:519\u001b[0m, in \u001b[0;36mRetry.increment\u001b[0;34m(self, method, url, response, error, _pool, _stacktrace)\u001b[0m\n\u001b[1;32m    518\u001b[0m     reason \u001b[38;5;241m=\u001b[39m error \u001b[38;5;129;01mor\u001b[39;00m ResponseError(cause)\n\u001b[0;32m--> 519\u001b[0m     \u001b[38;5;28;01mraise\u001b[39;00m MaxRetryError(_pool, url, reason) \u001b[38;5;28;01mfrom\u001b[39;00m \u001b[38;5;21;01mreason\u001b[39;00m  \u001b[38;5;66;03m# type: ignore[arg-type]\u001b[39;00m\n\u001b[1;32m    521\u001b[0m log\u001b[38;5;241m.\u001b[39mdebug(\u001b[38;5;124m\"\u001b[39m\u001b[38;5;124mIncremented Retry for (url=\u001b[39m\u001b[38;5;124m'\u001b[39m\u001b[38;5;132;01m%s\u001b[39;00m\u001b[38;5;124m'\u001b[39m\u001b[38;5;124m): \u001b[39m\u001b[38;5;132;01m%r\u001b[39;00m\u001b[38;5;124m\"\u001b[39m, url, new_retry)\n",
      "\u001b[0;31mMaxRetryError\u001b[0m: HTTPConnectionPool(host='192.168.0.43', port=1234): Max retries exceeded with url: /v1/completions (Caused by NewConnectionError('<urllib3.connection.HTTPConnection object at 0x7ff89ab1c090>: Failed to establish a new connection: [Errno 113] No route to host'))",
      "\nDuring handling of the above exception, another exception occurred:\n",
      "\u001b[0;31mConnectionError\u001b[0m                           Traceback (most recent call last)",
      "File \u001b[0;32m/opt/conda/lib/python3.11/site-packages/openai/api_requestor.py:596\u001b[0m, in \u001b[0;36mAPIRequestor.request_raw\u001b[0;34m(self, method, url, params, supplied_headers, files, stream, request_id, request_timeout)\u001b[0m\n\u001b[1;32m    595\u001b[0m \u001b[38;5;28;01mtry\u001b[39;00m:\n\u001b[0;32m--> 596\u001b[0m     result \u001b[38;5;241m=\u001b[39m \u001b[43m_thread_context\u001b[49m\u001b[38;5;241;43m.\u001b[39;49m\u001b[43msession\u001b[49m\u001b[38;5;241;43m.\u001b[39;49m\u001b[43mrequest\u001b[49m\u001b[43m(\u001b[49m\n\u001b[1;32m    597\u001b[0m \u001b[43m        \u001b[49m\u001b[43mmethod\u001b[49m\u001b[43m,\u001b[49m\n\u001b[1;32m    598\u001b[0m \u001b[43m        \u001b[49m\u001b[43mabs_url\u001b[49m\u001b[43m,\u001b[49m\n\u001b[1;32m    599\u001b[0m \u001b[43m        \u001b[49m\u001b[43mheaders\u001b[49m\u001b[38;5;241;43m=\u001b[39;49m\u001b[43mheaders\u001b[49m\u001b[43m,\u001b[49m\n\u001b[1;32m    600\u001b[0m \u001b[43m        \u001b[49m\u001b[43mdata\u001b[49m\u001b[38;5;241;43m=\u001b[39;49m\u001b[43mdata\u001b[49m\u001b[43m,\u001b[49m\n\u001b[1;32m    601\u001b[0m \u001b[43m        \u001b[49m\u001b[43mfiles\u001b[49m\u001b[38;5;241;43m=\u001b[39;49m\u001b[43mfiles\u001b[49m\u001b[43m,\u001b[49m\n\u001b[1;32m    602\u001b[0m \u001b[43m        \u001b[49m\u001b[43mstream\u001b[49m\u001b[38;5;241;43m=\u001b[39;49m\u001b[43mstream\u001b[49m\u001b[43m,\u001b[49m\n\u001b[1;32m    603\u001b[0m \u001b[43m        \u001b[49m\u001b[43mtimeout\u001b[49m\u001b[38;5;241;43m=\u001b[39;49m\u001b[43mrequest_timeout\u001b[49m\u001b[43m \u001b[49m\u001b[38;5;28;43;01mif\u001b[39;49;00m\u001b[43m \u001b[49m\u001b[43mrequest_timeout\u001b[49m\u001b[43m \u001b[49m\u001b[38;5;28;43;01melse\u001b[39;49;00m\u001b[43m \u001b[49m\u001b[43mTIMEOUT_SECS\u001b[49m\u001b[43m,\u001b[49m\n\u001b[1;32m    604\u001b[0m \u001b[43m        \u001b[49m\u001b[43mproxies\u001b[49m\u001b[38;5;241;43m=\u001b[39;49m\u001b[43m_thread_context\u001b[49m\u001b[38;5;241;43m.\u001b[39;49m\u001b[43msession\u001b[49m\u001b[38;5;241;43m.\u001b[39;49m\u001b[43mproxies\u001b[49m\u001b[43m,\u001b[49m\n\u001b[1;32m    605\u001b[0m \u001b[43m    \u001b[49m\u001b[43m)\u001b[49m\n\u001b[1;32m    606\u001b[0m \u001b[38;5;28;01mexcept\u001b[39;00m requests\u001b[38;5;241m.\u001b[39mexceptions\u001b[38;5;241m.\u001b[39mTimeout \u001b[38;5;28;01mas\u001b[39;00m e:\n",
      "File \u001b[0;32m/opt/conda/lib/python3.11/site-packages/requests/sessions.py:589\u001b[0m, in \u001b[0;36mSession.request\u001b[0;34m(self, method, url, params, data, headers, cookies, files, auth, timeout, allow_redirects, proxies, hooks, stream, verify, cert, json)\u001b[0m\n\u001b[1;32m    588\u001b[0m send_kwargs\u001b[38;5;241m.\u001b[39mupdate(settings)\n\u001b[0;32m--> 589\u001b[0m resp \u001b[38;5;241m=\u001b[39m \u001b[38;5;28;43mself\u001b[39;49m\u001b[38;5;241;43m.\u001b[39;49m\u001b[43msend\u001b[49m\u001b[43m(\u001b[49m\u001b[43mprep\u001b[49m\u001b[43m,\u001b[49m\u001b[43m \u001b[49m\u001b[38;5;241;43m*\u001b[39;49m\u001b[38;5;241;43m*\u001b[39;49m\u001b[43msend_kwargs\u001b[49m\u001b[43m)\u001b[49m\n\u001b[1;32m    591\u001b[0m \u001b[38;5;28;01mreturn\u001b[39;00m resp\n",
      "File \u001b[0;32m/opt/conda/lib/python3.11/site-packages/requests/sessions.py:703\u001b[0m, in \u001b[0;36mSession.send\u001b[0;34m(self, request, **kwargs)\u001b[0m\n\u001b[1;32m    702\u001b[0m \u001b[38;5;66;03m# Send the request\u001b[39;00m\n\u001b[0;32m--> 703\u001b[0m r \u001b[38;5;241m=\u001b[39m \u001b[43madapter\u001b[49m\u001b[38;5;241;43m.\u001b[39;49m\u001b[43msend\u001b[49m\u001b[43m(\u001b[49m\u001b[43mrequest\u001b[49m\u001b[43m,\u001b[49m\u001b[43m \u001b[49m\u001b[38;5;241;43m*\u001b[39;49m\u001b[38;5;241;43m*\u001b[39;49m\u001b[43mkwargs\u001b[49m\u001b[43m)\u001b[49m\n\u001b[1;32m    705\u001b[0m \u001b[38;5;66;03m# Total elapsed time of the request (approximately)\u001b[39;00m\n",
      "File \u001b[0;32m/opt/conda/lib/python3.11/site-packages/requests/adapters.py:700\u001b[0m, in \u001b[0;36mHTTPAdapter.send\u001b[0;34m(self, request, stream, timeout, verify, cert, proxies)\u001b[0m\n\u001b[1;32m    698\u001b[0m         \u001b[38;5;28;01mraise\u001b[39;00m SSLError(e, request\u001b[38;5;241m=\u001b[39mrequest)\n\u001b[0;32m--> 700\u001b[0m     \u001b[38;5;28;01mraise\u001b[39;00m \u001b[38;5;167;01mConnectionError\u001b[39;00m(e, request\u001b[38;5;241m=\u001b[39mrequest)\n\u001b[1;32m    702\u001b[0m \u001b[38;5;28;01mexcept\u001b[39;00m ClosedPoolError \u001b[38;5;28;01mas\u001b[39;00m e:\n",
      "\u001b[0;31mConnectionError\u001b[0m: HTTPConnectionPool(host='192.168.0.43', port=1234): Max retries exceeded with url: /v1/completions (Caused by NewConnectionError('<urllib3.connection.HTTPConnection object at 0x7ff89ab1c090>: Failed to establish a new connection: [Errno 113] No route to host'))",
      "\nThe above exception was the direct cause of the following exception:\n",
      "\u001b[0;31mAPIConnectionError\u001b[0m                        Traceback (most recent call last)",
      "Cell \u001b[0;32mIn[43], line 1\u001b[0m\n\u001b[0;32m----> 1\u001b[0m response \u001b[38;5;241m=\u001b[39m \u001b[43mopenai\u001b[49m\u001b[38;5;241;43m.\u001b[39;49m\u001b[43mCompletion\u001b[49m\u001b[38;5;241;43m.\u001b[39;49m\u001b[43mcreate\u001b[49m\u001b[43m(\u001b[49m\n\u001b[1;32m      2\u001b[0m \u001b[43m    \u001b[49m\u001b[43mmodel\u001b[49m\u001b[38;5;241;43m=\u001b[39;49m\u001b[38;5;124;43m\"\u001b[39;49m\u001b[38;5;124;43mmixtral-8x7b-instruct-v0.1\u001b[39;49m\u001b[38;5;124;43m\"\u001b[39;49m\u001b[43m,\u001b[49m\n\u001b[1;32m      3\u001b[0m \u001b[43m    \u001b[49m\u001b[43mprompt\u001b[49m\u001b[38;5;241;43m=\u001b[39;49m\u001b[38;5;124;43m\"\u001b[39;49m\u001b[38;5;124;43mAnswer this: <Hello, good morning!>\u001b[39;49m\u001b[38;5;124;43m\"\u001b[39;49m\u001b[43m,\u001b[49m\n\u001b[1;32m      4\u001b[0m \u001b[43m    \u001b[49m\u001b[43mmax_tokens\u001b[49m\u001b[38;5;241;43m=\u001b[39;49m\u001b[38;5;241;43m20\u001b[39;49m\n\u001b[1;32m      5\u001b[0m \u001b[43m)\u001b[49m\n\u001b[1;32m      6\u001b[0m response[\u001b[38;5;124m\"\u001b[39m\u001b[38;5;124mchoices\u001b[39m\u001b[38;5;124m\"\u001b[39m][\u001b[38;5;241m0\u001b[39m][\u001b[38;5;124m\"\u001b[39m\u001b[38;5;124mtext\u001b[39m\u001b[38;5;124m\"\u001b[39m]\u001b[38;5;241m.\u001b[39mstrip()\n",
      "File \u001b[0;32m/opt/conda/lib/python3.11/site-packages/openai/api_resources/completion.py:25\u001b[0m, in \u001b[0;36mCompletion.create\u001b[0;34m(cls, *args, **kwargs)\u001b[0m\n\u001b[1;32m     23\u001b[0m \u001b[38;5;28;01mwhile\u001b[39;00m \u001b[38;5;28;01mTrue\u001b[39;00m:\n\u001b[1;32m     24\u001b[0m     \u001b[38;5;28;01mtry\u001b[39;00m:\n\u001b[0;32m---> 25\u001b[0m         \u001b[38;5;28;01mreturn\u001b[39;00m \u001b[38;5;28;43msuper\u001b[39;49m\u001b[43m(\u001b[49m\u001b[43m)\u001b[49m\u001b[38;5;241;43m.\u001b[39;49m\u001b[43mcreate\u001b[49m\u001b[43m(\u001b[49m\u001b[38;5;241;43m*\u001b[39;49m\u001b[43margs\u001b[49m\u001b[43m,\u001b[49m\u001b[43m \u001b[49m\u001b[38;5;241;43m*\u001b[39;49m\u001b[38;5;241;43m*\u001b[39;49m\u001b[43mkwargs\u001b[49m\u001b[43m)\u001b[49m\n\u001b[1;32m     26\u001b[0m     \u001b[38;5;28;01mexcept\u001b[39;00m TryAgain \u001b[38;5;28;01mas\u001b[39;00m e:\n\u001b[1;32m     27\u001b[0m         \u001b[38;5;28;01mif\u001b[39;00m timeout \u001b[38;5;129;01mis\u001b[39;00m \u001b[38;5;129;01mnot\u001b[39;00m \u001b[38;5;28;01mNone\u001b[39;00m \u001b[38;5;129;01mand\u001b[39;00m time\u001b[38;5;241m.\u001b[39mtime() \u001b[38;5;241m>\u001b[39m start \u001b[38;5;241m+\u001b[39m timeout:\n",
      "File \u001b[0;32m/opt/conda/lib/python3.11/site-packages/openai/api_resources/abstract/engine_api_resource.py:153\u001b[0m, in \u001b[0;36mEngineAPIResource.create\u001b[0;34m(cls, api_key, api_base, api_type, request_id, api_version, organization, **params)\u001b[0m\n\u001b[1;32m    127\u001b[0m \u001b[38;5;129m@classmethod\u001b[39m\n\u001b[1;32m    128\u001b[0m \u001b[38;5;28;01mdef\u001b[39;00m \u001b[38;5;21mcreate\u001b[39m(\n\u001b[1;32m    129\u001b[0m     \u001b[38;5;28mcls\u001b[39m,\n\u001b[0;32m   (...)\u001b[0m\n\u001b[1;32m    136\u001b[0m     \u001b[38;5;241m*\u001b[39m\u001b[38;5;241m*\u001b[39mparams,\n\u001b[1;32m    137\u001b[0m ):\n\u001b[1;32m    138\u001b[0m     (\n\u001b[1;32m    139\u001b[0m         deployment_id,\n\u001b[1;32m    140\u001b[0m         engine,\n\u001b[0;32m   (...)\u001b[0m\n\u001b[1;32m    150\u001b[0m         api_key, api_base, api_type, api_version, organization, \u001b[38;5;241m*\u001b[39m\u001b[38;5;241m*\u001b[39mparams\n\u001b[1;32m    151\u001b[0m     )\n\u001b[0;32m--> 153\u001b[0m     response, _, api_key \u001b[38;5;241m=\u001b[39m \u001b[43mrequestor\u001b[49m\u001b[38;5;241;43m.\u001b[39;49m\u001b[43mrequest\u001b[49m\u001b[43m(\u001b[49m\n\u001b[1;32m    154\u001b[0m \u001b[43m        \u001b[49m\u001b[38;5;124;43m\"\u001b[39;49m\u001b[38;5;124;43mpost\u001b[39;49m\u001b[38;5;124;43m\"\u001b[39;49m\u001b[43m,\u001b[49m\n\u001b[1;32m    155\u001b[0m \u001b[43m        \u001b[49m\u001b[43murl\u001b[49m\u001b[43m,\u001b[49m\n\u001b[1;32m    156\u001b[0m \u001b[43m        \u001b[49m\u001b[43mparams\u001b[49m\u001b[38;5;241;43m=\u001b[39;49m\u001b[43mparams\u001b[49m\u001b[43m,\u001b[49m\n\u001b[1;32m    157\u001b[0m \u001b[43m        \u001b[49m\u001b[43mheaders\u001b[49m\u001b[38;5;241;43m=\u001b[39;49m\u001b[43mheaders\u001b[49m\u001b[43m,\u001b[49m\n\u001b[1;32m    158\u001b[0m \u001b[43m        \u001b[49m\u001b[43mstream\u001b[49m\u001b[38;5;241;43m=\u001b[39;49m\u001b[43mstream\u001b[49m\u001b[43m,\u001b[49m\n\u001b[1;32m    159\u001b[0m \u001b[43m        \u001b[49m\u001b[43mrequest_id\u001b[49m\u001b[38;5;241;43m=\u001b[39;49m\u001b[43mrequest_id\u001b[49m\u001b[43m,\u001b[49m\n\u001b[1;32m    160\u001b[0m \u001b[43m        \u001b[49m\u001b[43mrequest_timeout\u001b[49m\u001b[38;5;241;43m=\u001b[39;49m\u001b[43mrequest_timeout\u001b[49m\u001b[43m,\u001b[49m\n\u001b[1;32m    161\u001b[0m \u001b[43m    \u001b[49m\u001b[43m)\u001b[49m\n\u001b[1;32m    163\u001b[0m     \u001b[38;5;28;01mif\u001b[39;00m stream:\n\u001b[1;32m    164\u001b[0m         \u001b[38;5;66;03m# must be an iterator\u001b[39;00m\n\u001b[1;32m    165\u001b[0m         \u001b[38;5;28;01massert\u001b[39;00m \u001b[38;5;129;01mnot\u001b[39;00m \u001b[38;5;28misinstance\u001b[39m(response, OpenAIResponse)\n",
      "File \u001b[0;32m/opt/conda/lib/python3.11/site-packages/openai/api_requestor.py:288\u001b[0m, in \u001b[0;36mAPIRequestor.request\u001b[0;34m(self, method, url, params, headers, files, stream, request_id, request_timeout)\u001b[0m\n\u001b[1;32m    277\u001b[0m \u001b[38;5;28;01mdef\u001b[39;00m \u001b[38;5;21mrequest\u001b[39m(\n\u001b[1;32m    278\u001b[0m     \u001b[38;5;28mself\u001b[39m,\n\u001b[1;32m    279\u001b[0m     method,\n\u001b[0;32m   (...)\u001b[0m\n\u001b[1;32m    286\u001b[0m     request_timeout: Optional[Union[\u001b[38;5;28mfloat\u001b[39m, Tuple[\u001b[38;5;28mfloat\u001b[39m, \u001b[38;5;28mfloat\u001b[39m]]] \u001b[38;5;241m=\u001b[39m \u001b[38;5;28;01mNone\u001b[39;00m,\n\u001b[1;32m    287\u001b[0m ) \u001b[38;5;241m-\u001b[39m\u001b[38;5;241m>\u001b[39m Tuple[Union[OpenAIResponse, Iterator[OpenAIResponse]], \u001b[38;5;28mbool\u001b[39m, \u001b[38;5;28mstr\u001b[39m]:\n\u001b[0;32m--> 288\u001b[0m     result \u001b[38;5;241m=\u001b[39m \u001b[38;5;28;43mself\u001b[39;49m\u001b[38;5;241;43m.\u001b[39;49m\u001b[43mrequest_raw\u001b[49m\u001b[43m(\u001b[49m\n\u001b[1;32m    289\u001b[0m \u001b[43m        \u001b[49m\u001b[43mmethod\u001b[49m\u001b[38;5;241;43m.\u001b[39;49m\u001b[43mlower\u001b[49m\u001b[43m(\u001b[49m\u001b[43m)\u001b[49m\u001b[43m,\u001b[49m\n\u001b[1;32m    290\u001b[0m \u001b[43m        \u001b[49m\u001b[43murl\u001b[49m\u001b[43m,\u001b[49m\n\u001b[1;32m    291\u001b[0m \u001b[43m        \u001b[49m\u001b[43mparams\u001b[49m\u001b[38;5;241;43m=\u001b[39;49m\u001b[43mparams\u001b[49m\u001b[43m,\u001b[49m\n\u001b[1;32m    292\u001b[0m \u001b[43m        \u001b[49m\u001b[43msupplied_headers\u001b[49m\u001b[38;5;241;43m=\u001b[39;49m\u001b[43mheaders\u001b[49m\u001b[43m,\u001b[49m\n\u001b[1;32m    293\u001b[0m \u001b[43m        \u001b[49m\u001b[43mfiles\u001b[49m\u001b[38;5;241;43m=\u001b[39;49m\u001b[43mfiles\u001b[49m\u001b[43m,\u001b[49m\n\u001b[1;32m    294\u001b[0m \u001b[43m        \u001b[49m\u001b[43mstream\u001b[49m\u001b[38;5;241;43m=\u001b[39;49m\u001b[43mstream\u001b[49m\u001b[43m,\u001b[49m\n\u001b[1;32m    295\u001b[0m \u001b[43m        \u001b[49m\u001b[43mrequest_id\u001b[49m\u001b[38;5;241;43m=\u001b[39;49m\u001b[43mrequest_id\u001b[49m\u001b[43m,\u001b[49m\n\u001b[1;32m    296\u001b[0m \u001b[43m        \u001b[49m\u001b[43mrequest_timeout\u001b[49m\u001b[38;5;241;43m=\u001b[39;49m\u001b[43mrequest_timeout\u001b[49m\u001b[43m,\u001b[49m\n\u001b[1;32m    297\u001b[0m \u001b[43m    \u001b[49m\u001b[43m)\u001b[49m\n\u001b[1;32m    298\u001b[0m     resp, got_stream \u001b[38;5;241m=\u001b[39m \u001b[38;5;28mself\u001b[39m\u001b[38;5;241m.\u001b[39m_interpret_response(result, stream)\n\u001b[1;32m    299\u001b[0m     \u001b[38;5;28;01mreturn\u001b[39;00m resp, got_stream, \u001b[38;5;28mself\u001b[39m\u001b[38;5;241m.\u001b[39mapi_key\n",
      "File \u001b[0;32m/opt/conda/lib/python3.11/site-packages/openai/api_requestor.py:609\u001b[0m, in \u001b[0;36mAPIRequestor.request_raw\u001b[0;34m(self, method, url, params, supplied_headers, files, stream, request_id, request_timeout)\u001b[0m\n\u001b[1;32m    607\u001b[0m     \u001b[38;5;28;01mraise\u001b[39;00m error\u001b[38;5;241m.\u001b[39mTimeout(\u001b[38;5;124m\"\u001b[39m\u001b[38;5;124mRequest timed out: \u001b[39m\u001b[38;5;132;01m{}\u001b[39;00m\u001b[38;5;124m\"\u001b[39m\u001b[38;5;241m.\u001b[39mformat(e)) \u001b[38;5;28;01mfrom\u001b[39;00m \u001b[38;5;21;01me\u001b[39;00m\n\u001b[1;32m    608\u001b[0m \u001b[38;5;28;01mexcept\u001b[39;00m requests\u001b[38;5;241m.\u001b[39mexceptions\u001b[38;5;241m.\u001b[39mRequestException \u001b[38;5;28;01mas\u001b[39;00m e:\n\u001b[0;32m--> 609\u001b[0m     \u001b[38;5;28;01mraise\u001b[39;00m error\u001b[38;5;241m.\u001b[39mAPIConnectionError(\n\u001b[1;32m    610\u001b[0m         \u001b[38;5;124m\"\u001b[39m\u001b[38;5;124mError communicating with OpenAI: \u001b[39m\u001b[38;5;132;01m{}\u001b[39;00m\u001b[38;5;124m\"\u001b[39m\u001b[38;5;241m.\u001b[39mformat(e)\n\u001b[1;32m    611\u001b[0m     ) \u001b[38;5;28;01mfrom\u001b[39;00m \u001b[38;5;21;01me\u001b[39;00m\n\u001b[1;32m    612\u001b[0m util\u001b[38;5;241m.\u001b[39mlog_debug(\n\u001b[1;32m    613\u001b[0m     \u001b[38;5;124m\"\u001b[39m\u001b[38;5;124mOpenAI API response\u001b[39m\u001b[38;5;124m\"\u001b[39m,\n\u001b[1;32m    614\u001b[0m     path\u001b[38;5;241m=\u001b[39mabs_url,\n\u001b[0;32m   (...)\u001b[0m\n\u001b[1;32m    617\u001b[0m     request_id\u001b[38;5;241m=\u001b[39mresult\u001b[38;5;241m.\u001b[39mheaders\u001b[38;5;241m.\u001b[39mget(\u001b[38;5;124m\"\u001b[39m\u001b[38;5;124mX-Request-Id\u001b[39m\u001b[38;5;124m\"\u001b[39m),\n\u001b[1;32m    618\u001b[0m )\n\u001b[1;32m    619\u001b[0m \u001b[38;5;66;03m# Don't read the whole stream for debug logging unless necessary.\u001b[39;00m\n",
      "\u001b[0;31mAPIConnectionError\u001b[0m: Error communicating with OpenAI: HTTPConnectionPool(host='192.168.0.43', port=1234): Max retries exceeded with url: /v1/completions (Caused by NewConnectionError('<urllib3.connection.HTTPConnection object at 0x7ff89ab1c090>: Failed to establish a new connection: [Errno 113] No route to host'))"
     ]
    }
   ],
   "source": [
    "response = openai.Completion.create(\n",
    "    model=\"mixtral-8x7b-instruct-v0.1\",\n",
    "    prompt=\"Answer this: <Hello, good morning!>\",\n",
    "    max_tokens=20\n",
    ")\n",
    "response[\"choices\"][0][\"text\"].strip()"
   ]
  },
  {
   "cell_type": "markdown",
   "metadata": {},
   "source": [
    "OpenAI"
   ]
  },
  {
   "cell_type": "code",
   "execution_count": null,
   "metadata": {},
   "outputs": [],
   "source": [
    "response = openai.ChatCompletion.create(\n",
    "    model=\"gpt-4o-mini\",\n",
    "    messages=[\n",
    "        {\"role\": \"user\", \"content\": \"Hello, how are you?\"}\n",
    "    ]\n",
    ")\n",
    "\n",
    "# Print the response\n",
    "print(response.choices[0].message.content)"
   ]
  },
  {
   "cell_type": "markdown",
   "metadata": {},
   "source": [
    "# Processing"
   ]
  },
  {
   "cell_type": "markdown",
   "metadata": {},
   "source": [
    "## BERT"
   ]
  },
  {
   "cell_type": "code",
   "execution_count": 15,
   "metadata": {},
   "outputs": [],
   "source": [
    "# Create a dictionary to map Penn Treebank tags to UDPOS tags\n",
    "penn_to_udpos = {\n",
    "    'O': 'X',\n",
    "    '``': 'PUNCT',\n",
    "    ',': 'PUNCT',\n",
    "    ':': 'PUNCT',\n",
    "    '.': 'PUNCT',\n",
    "    \"''\": 'PUNCT',\n",
    "    '$': 'SYM',\n",
    "    '#': 'SYM',\n",
    "    'CC': 'CCONJ',\n",
    "    'CD': 'NUM',\n",
    "    'DT': 'DET',\n",
    "    'EX': 'PRON',\n",
    "    'FW': 'X',\n",
    "    'IN': 'ADP',\n",
    "    'JJ': 'ADJ',\n",
    "    'JJR': 'ADJ',\n",
    "    'JJS': 'ADJ',\n",
    "    '-LRB-': 'PUNCT',\n",
    "    'LS': 'X',\n",
    "    'MD': 'AUX',\n",
    "    'NN': 'NOUN',\n",
    "    'NNP': 'PROPN',\n",
    "    'NNPS': 'PROPN',\n",
    "    'NNS': 'NOUN',\n",
    "    'PDT': 'DET',\n",
    "    'POS': 'PART',\n",
    "    'PRP': 'PRON',\n",
    "    'PRP$': 'PRON',\n",
    "    'RB': 'ADV',\n",
    "    'RBR': 'ADV',\n",
    "    'RBS': 'ADV',\n",
    "    'RP': 'PART',\n",
    "    '-RRB-': 'PUNCT',\n",
    "    'SYM': 'SYM',\n",
    "    'TO': 'PART',\n",
    "    'UH': 'INTJ',\n",
    "    'VB': 'VERB',\n",
    "    'VBD': 'VERB',\n",
    "    'VBG': 'VERB',\n",
    "    'VBN': 'VERB',\n",
    "    'VBP': 'VERB',\n",
    "    'VBZ': 'VERB',\n",
    "    'WDT': 'DET',\n",
    "    'WP': 'PRON',\n",
    "    'WP$': 'PRON',\n",
    "    'WRB' : 'ADV'\n",
    "}\n",
    "\n",
    "def convert_penn_to_udpos(predictions):\n",
    "    \"\"\"\n",
    "    Convert a list of predictions with Penn Treebank tags to UDPOS tags.\n",
    "\n",
    "    :param predictions: List of dictionaries with an `entity` key for Penn Treebank tag.\n",
    "                        Example: [{'entity':'DT', ...}, ...]\n",
    "    \n",
    "    :return: List of dictionaries with `entity` key converted to UDPOS tag.\n",
    "             Example: [{'entity':'DET', ...}, ...]\n",
    "    \"\"\"\n",
    "    # Ensure predictions is a list of dictionaries\n",
    "    if isinstance(predictions, dict):\n",
    "        predictions = [predictions]\n",
    "    elif isinstance(predictions[0], list):\n",
    "        predictions = [item for sublist in predictions for item in sublist]\n",
    "\n",
    "    for prediction in predictions:\n",
    "        penn_tag = prediction.get('entity_group')  # Safely get 'entity' key\n",
    "        if penn_tag is not None:\n",
    "            # Map Penn Treebank tag to UDPOS tag, defaulting to `X`\n",
    "            prediction['entity_group'] = penn_to_udpos.get(penn_tag, \"X\")\n",
    "    \n",
    "    return predictions\n",
    "\n",
    "def process_sentence_bert(example_sentence):\n",
    "    outputs = pipeline(example_sentence)\n",
    "\n",
    "    # Manual removal of bad tokenization\n",
    "    processed_outputs = []\n",
    "    for group in outputs:\n",
    "        filtered_group = [item for item in group if not item['word'].startswith('##')]\n",
    "        processed_outputs.append(filtered_group)\n",
    "\n",
    "    udpos_outputs = convert_penn_to_udpos(processed_outputs)\n",
    "    bert_prediction = [item['entity_group'] for item in udpos_outputs]\n",
    "    return bert_prediction, outputs"
   ]
  },
  {
   "cell_type": "code",
   "execution_count": 16,
   "metadata": {},
   "outputs": [
    {
     "name": "stdout",
     "output_type": "stream",
     "text": [
      "['PRON', 'ADP', 'PROPN', 'VERB', 'ADP', 'PROPN', 'PUNCT']\n"
     ]
    }
   ],
   "source": [
    "bert_prediction, _ = process_sentence_bert(example_sentence)\n",
    "print(bert_prediction)"
   ]
  },
  {
   "cell_type": "markdown",
   "metadata": {},
   "source": [
    "## LLM"
   ]
  },
  {
   "cell_type": "code",
   "execution_count": 17,
   "metadata": {},
   "outputs": [],
   "source": [
    "def generate_examples(n, train_sentences, train_ground_truth_tags, shuffle=False, format_sentence=True):\n",
    "    \"\"\"\n",
    "    Generate example input for POS tagging with dynamic examples.\n",
    "\n",
    "    Parameters:\n",
    "      - n (int): Number of examples to include.\n",
    "      - train_sentences (list of list of str): List of tokenized sentences.\n",
    "      - train_ground_truth_tags (list of list of str): List of corresponding POS tags for each sentence.\n",
    "      - shuffle (bool): Whether to shuffle the examples before selecting.\n",
    "      - format_sentence (bool): Whether to format the example sentence as a single string.\n",
    "\n",
    "    Returns:\n",
    "      - str: Formatted string containing `n` examples in the desired format.\n",
    "    \"\"\"\n",
    "    # Pair sentences with their corresponding tags\n",
    "    examples = list(zip(train_sentences, train_ground_truth_tags))\n",
    "    \n",
    "    # Shuffle examples if specified\n",
    "    if shuffle:\n",
    "        random.shuffle(examples)\n",
    "    \n",
    "    # Select the first n examples\n",
    "    selected_examples = examples[:n]\n",
    "    \n",
    "    # Format the selected examples into the desired output structure\n",
    "    formatted_examples = []\n",
    "    for sentence, tags in selected_examples:\n",
    "        if format_sentence:\n",
    "            # Join tokens into a single formatted sentence\n",
    "            formatted_sentence = join_words(sentence)\n",
    "        else:\n",
    "            # Keep sentence as a list\n",
    "            formatted_sentence = sentence\n",
    "        \n",
    "        # Format each word-tag pair into JSON-like structure\n",
    "        formatted_output = [\n",
    "            f'{{\"text\": \"{word}\", \"tag\": \"{tag}\"}}' for word, tag in zip(sentence, tags)\n",
    "        ]\n",
    "        \n",
    "        # Combine sentence and tags into an example\n",
    "        formatted_example = (\n",
    "            f\"Sentence: \\\"{formatted_sentence}\\\" \"\n",
    "            f\"Output: [\"\n",
    "            + \",\".join(formatted_output) + \n",
    "            f\"]\"\n",
    "        )\n",
    "        \n",
    "        # Append to list of formatted examples\n",
    "        formatted_examples.append(formatted_example)\n",
    "    \n",
    "    # Join all formatted examples into a single string\n",
    "    example_input = \"\\n\\n\".join(formatted_examples)\n",
    "    \n",
    "    return example_input\n",
    "\n",
    "\n",
    "def pos_tag_sentence(sentence, train_sentences, train_ground_truth_tags, examples_provided=0, preprocess=False, track_responses=None, formatted_sentence=True):\n",
    "    \"\"\"\n",
    "    Perform POS tagging on a given sentence using provided training examples.\n",
    "\n",
    "    Parameters:\n",
    "      - sentence (str): The sentence to tag.\n",
    "      - train_sentences (list of list of str): List of tokenized sentences for training examples.\n",
    "      - train_ground_truth_tags (list of list of str): Corresponding POS tags for training sentences.\n",
    "      - examples_provided (int): Number of training examples to include in the prompt.\n",
    "      - preprocess (bool): Whether to preprocess the model's raw output.\n",
    "      - track_responses (list): Optional list to track responses from the model.\n",
    "      - formatted_sentence (bool): Whether to format sentences as strings.\n",
    "\n",
    "    Returns:\n",
    "      - dict: Parsed JSON response from the model or an error message.\n",
    "    \"\"\"\n",
    "    logging.debug(f\"POS tagging sentence: \\\"{sentence}\\\" with {examples_provided} examples.\")\n",
    "    \n",
    "    # Define the POS tags with their descriptions\n",
    "    pos_labels = {\n",
    "        \"ADJ\": \"adjective\",\n",
    "        \"ADP\": \"adposition\",\n",
    "        \"ADV\": \"adverb\",\n",
    "        \"AUX\": \"auxiliary\",\n",
    "        \"CCONJ\": \"coordinating conjunction\",\n",
    "        \"DET\": \"determiner\",\n",
    "        \"INTJ\": \"interjection\",\n",
    "        \"NOUN\": \"noun\",\n",
    "        \"NUM\": \"numeral\",\n",
    "        \"PART\": \"particle\",\n",
    "        \"PRON\": \"pronoun\",\n",
    "        \"PROPN\": \"proper noun\",\n",
    "        \"PUNCT\": \"punctuation\",\n",
    "        \"SCONJ\": \"subordinating conjunction\",\n",
    "        \"SYM\": \"symbol\",\n",
    "        \"VERB\": \"verb\",\n",
    "        \"X\": \"other\"\n",
    "    }\n",
    "\n",
    "    # Generate example input for the model\n",
    "    example_input = generate_examples(examples_provided, train_sentences, train_ground_truth_tags, shuffle=True, format_sentence=formatted_sentence)\n",
    "\n",
    "    # Construct the prompt with instructions for POS tagging\n",
    "    prompt = (\n",
    "        f\"Perform POS tagging on the following sentence using these labels: {pos_labels}. \"\n",
    "        f\"These are examples of other sentences properly tagged: {example_input}\\n\\n\"\n",
    "        f\"Don't include any explanation, just output each word with its tag in JSON format of the following sentence.\\n\\nSentence: \\\"{sentence}\\\"\"\n",
    "    )\n",
    "    \n",
    "    logging.debug(f\"Constructed prompt:\\n{prompt}\")\n",
    "\n",
    "    # Simulate sending request to model (replace this with actual API call)\n",
    "    try:\n",
    "        response = openai.Completion.create(\n",
    "            model=\"mixtral-8x7b-instruct-v0.1\",\n",
    "            prompt=prompt,\n",
    "            max_tokens=250\n",
    "        )\n",
    "        \n",
    "        raw_output = response[\"choices\"][0][\"text\"].strip()\n",
    "        \n",
    "        logging.debug(f\"Raw output from model:\\n{raw_output}\")\n",
    "        \n",
    "        cleaned_output = extract_json(raw_output)\n",
    "        \n",
    "        try:\n",
    "            parsed_json = json.loads(cleaned_output)\n",
    "            logging.debug(f\"Parsed JSON output:\\n{parsed_json}\")\n",
    "        except json.JSONDecodeError:\n",
    "            parsed_json = {\"error\": \"Response could not be parsed as JSON\", \"raw_output\": raw_output}\n",
    "            logging.error(\"Failed to parse JSON output.\")\n",
    "        \n",
    "        if track_responses is not None:\n",
    "            track_responses.append({\"raw_response\": raw_output, \"parsed_json\": parsed_json})\n",
    "        \n",
    "        return parsed_json\n",
    "    \n",
    "    except Exception as e:\n",
    "        logging.error(f\"Error during API call or processing: {e}\")\n",
    "        return {\"error\": str(e)}\n",
    "\n",
    "\n",
    "def process_sentence_llm(sentence, train_sentences, train_ground_truth_tags, examples_provided=0, format_sentence=True):\n",
    "    \"\"\"\n",
    "    Processes a sentence to extract POS tags while tracking responses.\n",
    "\n",
    "    Args:\n",
    "      - sentence (str): The input sentence to process.\n",
    "      - train_sentences (list of list of str): List of tokenized sentences for training examples.\n",
    "      - train_ground_truth_tags (list of list of str): Corresponding POS tags for training sentences.\n",
    "      - examples_provided (int): Number of training examples provided for context (default is 0).\n",
    "      - format_sentence (bool): Whether to format sentences as strings.\n",
    "\n",
    "    Returns:\n",
    "      - tuple: A tuple containing a list of POS tags (or an empty list if retrieval fails) \n",
    "               and the response log.\n",
    "    \"\"\"\n",
    "    responses_log = []  # Initialize the log\n",
    "\n",
    "    try:\n",
    "        if format_sentence:\n",
    "            sentence = join_words(sentence)\n",
    "\n",
    "        pos_tags_json = pos_tag_sentence(\n",
    "            sentence,\n",
    "            train_sentences,\n",
    "            train_ground_truth_tags,\n",
    "            track_responses=responses_log,\n",
    "            examples_provided=examples_provided,\n",
    "            formatted_sentence=format_sentence\n",
    "        )\n",
    "        \n",
    "        if isinstance(pos_tags_json, list) and all(isinstance(item, dict) and 'tag' in item for item in pos_tags_json):\n",
    "            mixtral_prediction = [item['tag'] for item in pos_tags_json]\n",
    "        else:\n",
    "            mixtral_prediction = []\n",
    "            logging.warning(f\"Unexpected structure for pos_tags_json: {pos_tags_json}\")\n",
    "    \n",
    "    except Exception as e:\n",
    "        mixtral_prediction = []\n",
    "        logging.error(f\"Error processing sentence: {e}\")\n",
    "    \n",
    "    return mixtral_prediction, responses_log"
   ]
  },
  {
   "cell_type": "code",
   "execution_count": 18,
   "metadata": {},
   "outputs": [
    {
     "name": "stdout",
     "output_type": "stream",
     "text": [
      "['ADJ', 'SCONJ', 'PROPN', 'VERB', 'ADP', 'PROPN', 'PUNCT']\n"
     ]
    }
   ],
   "source": [
    "mixtral_prediction, mixtral_raw = process_sentence_llm(example_sentence, train_sentences, train_ground_truth_tags, examples_provided= 3, format_sentence=False)\n",
    "print(mixtral_prediction)"
   ]
  },
  {
   "cell_type": "markdown",
   "metadata": {},
   "source": [
    "# Evaluation"
   ]
  },
  {
   "cell_type": "markdown",
   "metadata": {},
   "source": [
    "## Example"
   ]
  },
  {
   "cell_type": "code",
   "execution_count": 19,
   "metadata": {},
   "outputs": [
    {
     "name": "stdout",
     "output_type": "stream",
     "text": [
      "['What', 'if', 'Google', 'Morphed', 'Into', 'GoogleOS', '?']\n"
     ]
    }
   ],
   "source": [
    "print(example_sentence)"
   ]
  },
  {
   "cell_type": "code",
   "execution_count": 20,
   "metadata": {},
   "outputs": [
    {
     "name": "stdout",
     "output_type": "stream",
     "text": [
      "['PRON', 'SCONJ', 'PROPN', 'VERB', 'ADP', 'PROPN', 'PUNCT']\n"
     ]
    }
   ],
   "source": [
    "print(example_true_tag)"
   ]
  },
  {
   "cell_type": "code",
   "execution_count": 21,
   "metadata": {},
   "outputs": [
    {
     "name": "stdout",
     "output_type": "stream",
     "text": [
      "['PRON', 'ADP', 'PROPN', 'VERB', 'ADP', 'PROPN', 'PUNCT']\n"
     ]
    }
   ],
   "source": [
    "print(bert_prediction)"
   ]
  },
  {
   "cell_type": "code",
   "execution_count": 22,
   "metadata": {},
   "outputs": [
    {
     "name": "stdout",
     "output_type": "stream",
     "text": [
      "['ADJ', 'SCONJ', 'PROPN', 'VERB', 'ADP', 'PROPN', 'PUNCT']\n"
     ]
    }
   ],
   "source": [
    "print(mixtral_prediction)"
   ]
  },
  {
   "cell_type": "markdown",
   "metadata": {},
   "source": [
    "## Full Test"
   ]
  },
  {
   "cell_type": "code",
   "execution_count": 5,
   "metadata": {},
   "outputs": [],
   "source": [
    "def evaluate_predictions(sentences, ground_truth_tags, train_sentences, train_ground_truth_tags, examples_provided, format_sentence, output_csv=\"evaluation_results.csv\"):\n",
    "    \"\"\"\n",
    "    Evaluates predictions from BERT and LLM models against ground truth POS tags and stores results in a CSV file.\n",
    "\n",
    "    Args:\n",
    "        sentences (list): A list of tokenized sentences.\n",
    "        ground_truth_tags (list): A list of ground truth POS tags corresponding to the sentences.\n",
    "        train_sentences (list): Training sentences for LLM context.\n",
    "        train_ground_truth_tags (list): Ground truth tags for training sentences.\n",
    "        examples_provided (int): Number of examples provided to the LLM for context.\n",
    "        format_sentence (bool): Whether to format sentences as strings.\n",
    "        output_csv (str): Path to the CSV file where results will be stored.\n",
    "\n",
    "    Returns:\n",
    "        pd.DataFrame: A DataFrame containing evaluation results with columns:\n",
    "                      'sentences', 'ground_truth', 'total_words', 'llm_raw',\n",
    "                      'llm_prediction', 'llm_successes', 'llm_prediction_length',\n",
    "                      'bert_prediction', 'bert_successes', 'bert_prediction_length'.\n",
    "    \"\"\"\n",
    "    # Initialize lists for DataFrame columns\n",
    "    total_words = []\n",
    "    llm_raw_predictions = []\n",
    "    llm_predictions = []\n",
    "    llm_successes_list = []\n",
    "    llm_prediction_lengths = []  # New list for LLM prediction lengths\n",
    "    bert_raw_predictions = []\n",
    "    bert_predictions = []\n",
    "    bert_successes_list = []\n",
    "    bert_prediction_lengths = []  # New list for BERT prediction lengths\n",
    "\n",
    "    # Check if the CSV file exists\n",
    "    if not os.path.exists(output_csv):\n",
    "        # If not, create the file with headers\n",
    "        pd.DataFrame(columns=[\n",
    "            'sentences', 'ground_truth', 'total_words', 'llm_raw',\n",
    "            'llm_prediction', 'llm_successes', 'llm_prediction_length',\n",
    "            'bert_raw', 'bert_prediction', 'bert_successes', 'bert_prediction_length'\n",
    "        ]).to_csv(output_csv, index=False)\n",
    "\n",
    "    # Iterate through sentences and their corresponding ground truth tags\n",
    "    for sentence, true_tags in zip(sentences, ground_truth_tags):\n",
    "        total_words.append(len(sentence))  # Calculate total words\n",
    "\n",
    "        # Get LLM predictions and log\n",
    "        llm_prediction, responses_log = process_sentence_llm(\n",
    "            sentence,\n",
    "            train_sentences,\n",
    "            train_ground_truth_tags,\n",
    "            examples_provided=examples_provided,\n",
    "            format_sentence=format_sentence\n",
    "        )\n",
    "        llm_raw_predictions.append(responses_log)  # Store raw responses in log\n",
    "        llm_predictions.append(llm_prediction)\n",
    "        llm_prediction_lengths.append(len(llm_prediction))  # Store length of LLM predictions\n",
    "\n",
    "        # Calculate LLM successes\n",
    "        llm_successes = sum([1 for pred, true in zip(llm_prediction, true_tags) if pred == true])\n",
    "        llm_successes_list.append(llm_successes)\n",
    "\n",
    "        # Get BERT predictions and log\n",
    "        bert_prediction, bert_raw = process_sentence_bert(sentence)\n",
    "        bert_raw_predictions.append(bert_raw)  # Store raw responses in log\n",
    "        bert_predictions.append(bert_prediction)\n",
    "        bert_prediction_lengths.append(len(bert_prediction))  # Store length of BERT predictions\n",
    "\n",
    "        # Calculate BERT successes\n",
    "        bert_successes = sum([1 for pred, true in zip(bert_prediction, true_tags) if pred == true])\n",
    "        bert_successes_list.append(bert_successes)\n",
    "\n",
    "        # Append the current iteration's results to the CSV file\n",
    "        iteration_results = pd.DataFrame({\n",
    "            'sentences': [sentence],\n",
    "            'ground_truth': [true_tags],\n",
    "            'total_words': [len(sentence)],\n",
    "            'llm_raw': [responses_log],\n",
    "            'llm_prediction': [llm_prediction],\n",
    "            'llm_successes': [llm_successes],\n",
    "            'llm_prediction_length': [len(llm_prediction)],\n",
    "            'bert_raw': [bert_raw],\n",
    "            'bert_prediction': [bert_prediction],\n",
    "            'bert_successes': [bert_successes],\n",
    "            'bert_prediction_length': [len(bert_prediction)]\n",
    "        })\n",
    "\n",
    "        iteration_results.to_csv(output_csv, mode='a', header=False, index=False)\n",
    "\n",
    "    # Create final DataFrame\n",
    "    results_df = pd.DataFrame({\n",
    "        'sentences': sentences,\n",
    "        'ground_truth': ground_truth_tags,\n",
    "        'total_words': total_words,\n",
    "        'llm_raw': llm_raw_predictions,\n",
    "        'llm_prediction': llm_predictions,\n",
    "        'llm_successes': llm_successes_list,\n",
    "        'llm_prediction_length': llm_prediction_lengths,  # New column for LLM prediction lengths\n",
    "        'bert_raw': bert_raw_predictions,\n",
    "        'bert_prediction': bert_predictions,\n",
    "        'bert_successes': bert_successes_list,\n",
    "        'bert_prediction_length': bert_prediction_lengths  # New column for BERT prediction lengths\n",
    "    })\n",
    "\n",
    "    return results_df"
   ]
  },
  {
   "cell_type": "code",
   "execution_count": 25,
   "metadata": {},
   "outputs": [],
   "source": [
    "examples_provided=3\n",
    "format_sentence=False"
   ]
  },
  {
   "cell_type": "code",
   "execution_count": null,
   "metadata": {},
   "outputs": [],
   "source": [
    "df = evaluate_predictions(\n",
    "    sentences=sentences,\n",
    "    ground_truth_tags=ground_truth_tags,\n",
    "    train_sentences=train_sentences,\n",
    "    train_ground_truth_tags=train_ground_truth_tags,\n",
    "    examples_provided=examples_provided,\n",
    "    format_sentence=format_sentence,\n",
    "    output_csv=\"01_results.csv\"\n",
    ")"
   ]
  },
  {
   "cell_type": "code",
   "execution_count": 6,
   "metadata": {},
   "outputs": [
    {
     "data": {
      "text/plain": [
       "(1136, 11)"
      ]
     },
     "execution_count": 6,
     "metadata": {},
     "output_type": "execute_result"
    }
   ],
   "source": [
    "df = pd.read_csv('/text-mining/notebooks/01_results.csv')\n",
    "df.shape"
   ]
  },
  {
   "cell_type": "code",
   "execution_count": 7,
   "metadata": {},
   "outputs": [
    {
     "data": {
      "text/html": [
       "<div>\n",
       "<style scoped>\n",
       "    .dataframe tbody tr th:only-of-type {\n",
       "        vertical-align: middle;\n",
       "    }\n",
       "\n",
       "    .dataframe tbody tr th {\n",
       "        vertical-align: top;\n",
       "    }\n",
       "\n",
       "    .dataframe thead th {\n",
       "        text-align: right;\n",
       "    }\n",
       "</style>\n",
       "<table border=\"1\" class=\"dataframe\">\n",
       "  <thead>\n",
       "    <tr style=\"text-align: right;\">\n",
       "      <th></th>\n",
       "      <th>sentences</th>\n",
       "      <th>ground_truth</th>\n",
       "      <th>total_words</th>\n",
       "      <th>llm_raw</th>\n",
       "      <th>llm_prediction</th>\n",
       "      <th>llm_successes</th>\n",
       "      <th>llm_prediction_length</th>\n",
       "      <th>bert_raw</th>\n",
       "      <th>bert_prediction</th>\n",
       "      <th>bert_successes</th>\n",
       "      <th>bert_prediction_length</th>\n",
       "    </tr>\n",
       "  </thead>\n",
       "  <tbody>\n",
       "    <tr>\n",
       "      <th>0</th>\n",
       "      <td>['What', 'if', 'Google', 'Morphed', 'Into', 'G...</td>\n",
       "      <td>['PRON', 'SCONJ', 'PROPN', 'VERB', 'ADP', 'PRO...</td>\n",
       "      <td>7</td>\n",
       "      <td>[{'raw_response': 'Output: [{\"text\": \"What\", \"...</td>\n",
       "      <td>[]</td>\n",
       "      <td>0</td>\n",
       "      <td>0</td>\n",
       "      <td>[[{'entity_group': 'PRON', 'score': 0.99849296...</td>\n",
       "      <td>['PRON', 'ADP', 'PROPN', 'VERB', 'ADP', 'PROPN...</td>\n",
       "      <td>6</td>\n",
       "      <td>7</td>\n",
       "    </tr>\n",
       "    <tr>\n",
       "      <th>1</th>\n",
       "      <td>['What', 'if', 'Google', 'expanded', 'on', 'it...</td>\n",
       "      <td>['PRON', 'SCONJ', 'PROPN', 'VERB', 'ADP', 'PRO...</td>\n",
       "      <td>23</td>\n",
       "      <td>[{'raw_response': 'Output: [{\"text\": \"What\", \"...</td>\n",
       "      <td>['WHADV', 'SCONJ', 'PROPN', 'VERB', 'ADP', 'PR...</td>\n",
       "      <td>17</td>\n",
       "      <td>23</td>\n",
       "      <td>[[{'entity_group': 'PRON', 'score': 0.99849296...</td>\n",
       "      <td>['PRON', 'ADP', 'PROPN', 'VERB', 'ADP', 'PRON'...</td>\n",
       "      <td>14</td>\n",
       "      <td>25</td>\n",
       "    </tr>\n",
       "    <tr>\n",
       "      <th>2</th>\n",
       "      <td>['[', 'via', 'Microsoft', 'Watch', 'from', 'Ma...</td>\n",
       "      <td>['PUNCT', 'ADP', 'PROPN', 'PROPN', 'ADP', 'PRO...</td>\n",
       "      <td>9</td>\n",
       "      <td>[{'raw_response': 'Output: [{\"text\": \"[\", \"tag...</td>\n",
       "      <td>['PUNCT', 'ADP', 'PROPN', 'NOUN', 'ADP', 'PROP...</td>\n",
       "      <td>8</td>\n",
       "      <td>9</td>\n",
       "      <td>[[{'entity_group': 'X', 'score': 0.5511233, 'w...</td>\n",
       "      <td>['X', 'ADP', 'PROPN', 'VERB', 'ADP', 'PROPN', ...</td>\n",
       "      <td>5</td>\n",
       "      <td>9</td>\n",
       "    </tr>\n",
       "    <tr>\n",
       "      <th>3</th>\n",
       "      <td>['(', 'And', ',', 'by', 'the', 'way', ',', 'is...</td>\n",
       "      <td>['PUNCT', 'CCONJ', 'PUNCT', 'ADP', 'DET', 'NOU...</td>\n",
       "      <td>25</td>\n",
       "      <td>[{'raw_response': 'Output:\\n[{\"text\": \"(\", \"ta...</td>\n",
       "      <td>['PUNCT', 'CCONJ', 'PUNCT', 'ADP', 'DET', 'NOU...</td>\n",
       "      <td>22</td>\n",
       "      <td>25</td>\n",
       "      <td>[[{'entity_group': 'X', 'score': 0.9887328, 'w...</td>\n",
       "      <td>['X', 'CCONJ', 'PUNCT', 'ADP', 'DET', 'NOUN', ...</td>\n",
       "      <td>15</td>\n",
       "      <td>25</td>\n",
       "    </tr>\n",
       "    <tr>\n",
       "      <th>4</th>\n",
       "      <td>['This', 'BuzzMachine', 'post', 'argues', 'tha...</td>\n",
       "      <td>['DET', 'PROPN', 'NOUN', 'VERB', 'SCONJ', 'PRO...</td>\n",
       "      <td>31</td>\n",
       "      <td>[{'raw_response': 'Output: [{\"text\": \"This\", \"...</td>\n",
       "      <td>['DET', 'PROPN', 'NOUN', 'VERB', 'SCONJ', 'PRO...</td>\n",
       "      <td>28</td>\n",
       "      <td>31</td>\n",
       "      <td>[[{'entity_group': 'DET', 'score': 0.9979962, ...</td>\n",
       "      <td>['DET', 'PROPN', 'NOUN', 'VERB', 'ADP', 'PROPN...</td>\n",
       "      <td>6</td>\n",
       "      <td>33</td>\n",
       "    </tr>\n",
       "  </tbody>\n",
       "</table>\n",
       "</div>"
      ],
      "text/plain": [
       "                                           sentences  \\\n",
       "0  ['What', 'if', 'Google', 'Morphed', 'Into', 'G...   \n",
       "1  ['What', 'if', 'Google', 'expanded', 'on', 'it...   \n",
       "2  ['[', 'via', 'Microsoft', 'Watch', 'from', 'Ma...   \n",
       "3  ['(', 'And', ',', 'by', 'the', 'way', ',', 'is...   \n",
       "4  ['This', 'BuzzMachine', 'post', 'argues', 'tha...   \n",
       "\n",
       "                                        ground_truth  total_words  \\\n",
       "0  ['PRON', 'SCONJ', 'PROPN', 'VERB', 'ADP', 'PRO...            7   \n",
       "1  ['PRON', 'SCONJ', 'PROPN', 'VERB', 'ADP', 'PRO...           23   \n",
       "2  ['PUNCT', 'ADP', 'PROPN', 'PROPN', 'ADP', 'PRO...            9   \n",
       "3  ['PUNCT', 'CCONJ', 'PUNCT', 'ADP', 'DET', 'NOU...           25   \n",
       "4  ['DET', 'PROPN', 'NOUN', 'VERB', 'SCONJ', 'PRO...           31   \n",
       "\n",
       "                                             llm_raw  \\\n",
       "0  [{'raw_response': 'Output: [{\"text\": \"What\", \"...   \n",
       "1  [{'raw_response': 'Output: [{\"text\": \"What\", \"...   \n",
       "2  [{'raw_response': 'Output: [{\"text\": \"[\", \"tag...   \n",
       "3  [{'raw_response': 'Output:\\n[{\"text\": \"(\", \"ta...   \n",
       "4  [{'raw_response': 'Output: [{\"text\": \"This\", \"...   \n",
       "\n",
       "                                      llm_prediction  llm_successes  \\\n",
       "0                                                 []              0   \n",
       "1  ['WHADV', 'SCONJ', 'PROPN', 'VERB', 'ADP', 'PR...             17   \n",
       "2  ['PUNCT', 'ADP', 'PROPN', 'NOUN', 'ADP', 'PROP...              8   \n",
       "3  ['PUNCT', 'CCONJ', 'PUNCT', 'ADP', 'DET', 'NOU...             22   \n",
       "4  ['DET', 'PROPN', 'NOUN', 'VERB', 'SCONJ', 'PRO...             28   \n",
       "\n",
       "   llm_prediction_length                                           bert_raw  \\\n",
       "0                      0  [[{'entity_group': 'PRON', 'score': 0.99849296...   \n",
       "1                     23  [[{'entity_group': 'PRON', 'score': 0.99849296...   \n",
       "2                      9  [[{'entity_group': 'X', 'score': 0.5511233, 'w...   \n",
       "3                     25  [[{'entity_group': 'X', 'score': 0.9887328, 'w...   \n",
       "4                     31  [[{'entity_group': 'DET', 'score': 0.9979962, ...   \n",
       "\n",
       "                                     bert_prediction  bert_successes  \\\n",
       "0  ['PRON', 'ADP', 'PROPN', 'VERB', 'ADP', 'PROPN...               6   \n",
       "1  ['PRON', 'ADP', 'PROPN', 'VERB', 'ADP', 'PRON'...              14   \n",
       "2  ['X', 'ADP', 'PROPN', 'VERB', 'ADP', 'PROPN', ...               5   \n",
       "3  ['X', 'CCONJ', 'PUNCT', 'ADP', 'DET', 'NOUN', ...              15   \n",
       "4  ['DET', 'PROPN', 'NOUN', 'VERB', 'ADP', 'PROPN...               6   \n",
       "\n",
       "   bert_prediction_length  \n",
       "0                       7  \n",
       "1                      25  \n",
       "2                       9  \n",
       "3                      25  \n",
       "4                      33  "
      ]
     },
     "execution_count": 7,
     "metadata": {},
     "output_type": "execute_result"
    }
   ],
   "source": [
    "df.head()"
   ]
  },
  {
   "cell_type": "code",
   "execution_count": 19,
   "metadata": {},
   "outputs": [
    {
     "data": {
      "text/plain": [
       "14632"
      ]
     },
     "execution_count": 19,
     "metadata": {},
     "output_type": "execute_result"
    }
   ],
   "source": [
    "df['total_words'].sum()"
   ]
  },
  {
   "cell_type": "markdown",
   "metadata": {},
   "source": [
    "# Results"
   ]
  },
  {
   "cell_type": "code",
   "execution_count": 16,
   "metadata": {},
   "outputs": [],
   "source": [
    "def plot_overall_accuracy(df, title=\"Overall Accuracy Comparison\"):\n",
    "    \"\"\"\n",
    "    Calculates overall accuracy for LLM and BERT models and plots a bar chart.\n",
    "\n",
    "    Args:\n",
    "        df (pd.DataFrame): A DataFrame with columns 'total_words', 'llm_successes', and 'bert_successes'.\n",
    "        title (str): The title of the plot. Defaults to \"Overall Accuracy Comparison\".\n",
    "\n",
    "    Returns:\n",
    "        None: Displays a bar plot of overall accuracies.\n",
    "    \"\"\"\n",
    "    # Calculate total words and successes\n",
    "    total_words = df['total_words'].sum()\n",
    "    total_llm_successes = df['llm_successes'].sum()\n",
    "    total_bert_successes = df['bert_successes'].sum()\n",
    "\n",
    "    # Calculate overall accuracy\n",
    "    llm_accuracy = total_llm_successes / total_words\n",
    "    bert_accuracy = total_bert_successes / total_words\n",
    "\n",
    "    # Prepare data for plotting\n",
    "    accuracies = [llm_accuracy, bert_accuracy]\n",
    "    labels = ['LLM Accuracy', 'BERT Accuracy']\n",
    "\n",
    "    # Plot the bar chart\n",
    "    plt.figure(figsize=(8, 5))\n",
    "    plt.bar(labels, accuracies, color=['blue', 'orange'])\n",
    "    \n",
    "    # Add labels and title\n",
    "    plt.ylabel('Accuracy')\n",
    "    plt.title(title)  # Use the provided title\n",
    "    \n",
    "    # Display the plot\n",
    "    plt.ylim(0, 1)  # Ensure y-axis is between 0 and 1 for accuracy\n",
    "    for i, acc in enumerate(accuracies):\n",
    "        plt.text(i, acc + 0.02, f\"{acc:.2%}\", ha='center', fontsize=12)  # Add percentage labels above bars\n",
    "    \n",
    "    plt.tight_layout()\n",
    "    plt.show()"
   ]
  },
  {
   "cell_type": "code",
   "execution_count": 17,
   "metadata": {},
   "outputs": [
    {
     "data": {
      "image/png": "[encoded data removed]",
      "text/plain": [
       "<Figure size 800x500 with 1 Axes>"
      ]
     },
     "metadata": {},
     "output_type": "display_data"
    }
   ],
   "source": [
    "plot_overall_accuracy(df)"
   ]
  },
  {
   "cell_type": "markdown",
   "metadata": {},
   "source": [
    "## All tokens identified"
   ]
  },
  {
   "cell_type": "code",
   "execution_count": 10,
   "metadata": {},
   "outputs": [
    {
     "data": {
      "text/plain": [
       "(617, 11)"
      ]
     },
     "execution_count": 10,
     "metadata": {},
     "output_type": "execute_result"
    }
   ],
   "source": [
    "filtered_df = df[df.apply(lambda row: row['total_words'] == row['llm_prediction_length'] == row['bert_prediction_length'], axis=1)]\n",
    "filtered_df.shape"
   ]
  },
  {
   "cell_type": "code",
   "execution_count": 20,
   "metadata": {},
   "outputs": [
    {
     "data": {
      "image/png": "[encoded data removed]",
      "text/plain": [
       "<Figure size 800x500 with 1 Axes>"
      ]
     },
     "metadata": {},
     "output_type": "display_data"
    }
   ],
   "source": [
    "plot_overall_accuracy(filtered_df, title=\"Accuracy Comparison when all Tokens were Identified\")"
   ]
  },
  {
   "cell_type": "code",
   "execution_count": 21,
   "metadata": {},
   "outputs": [],
   "source": [
    "import pandas as pd\n",
    "import matplotlib.pyplot as plt\n",
    "import ast\n",
    "\n",
    "def plot_failed_udpos_tags(df):\n",
    "    \"\"\"\n",
    "    Identifies the number of failures for each UD POS tag and plots a bar chart with two colors per bar.\n",
    "\n",
    "    Args:\n",
    "        df (pd.DataFrame): A DataFrame with columns 'ground_truth', 'llm_prediction', and 'bert_prediction'.\n",
    "\n",
    "    Returns:\n",
    "        None: Displays a bar plot of UD POS tag failures.\n",
    "    \"\"\"\n",
    "    # Filter out rows where lengths of ground_truth, llm_prediction, or bert_prediction do not match\n",
    "    df = df[df.apply(lambda row: row['total_words'] == row['llm_prediction_length'] == row['bert_prediction_length'], axis=1)]\n",
    "\n",
    "    # Correctly flatten the lists of ground truth and predictions\n",
    "    ground_truth_tags = []\n",
    "    llm_predictions = []\n",
    "    bert_predictions = []\n",
    "\n",
    "    for row in df.itertuples(index=False):\n",
    "        # Parse the strings into lists\n",
    "        ground_truth_list = ast.literal_eval(row.ground_truth)\n",
    "        llm_prediction_list = ast.literal_eval(row.llm_prediction)\n",
    "        bert_prediction_list = ast.literal_eval(row.bert_prediction)\n",
    "\n",
    "        # Extend lists for analysis\n",
    "        ground_truth_tags.extend(ground_truth_list)\n",
    "        llm_predictions.extend(llm_prediction_list)\n",
    "        bert_predictions.extend(bert_prediction_list)\n",
    "\n",
    "    # Create a DataFrame for analysis\n",
    "    analysis_df = pd.DataFrame({\n",
    "        'ground_truth': ground_truth_tags,\n",
    "        'llm_prediction': llm_predictions,\n",
    "        'bert_prediction': bert_predictions\n",
    "    })\n",
    "\n",
    "    # Calculate failures for LLM and BERT\n",
    "    analysis_df['llm_failure'] = analysis_df['ground_truth'] != analysis_df['llm_prediction']\n",
    "    analysis_df['bert_failure'] = analysis_df['ground_truth'] != analysis_df['bert_prediction']\n",
    "\n",
    "    # Count failures for each UD POS tag\n",
    "    failure_counts = analysis_df.groupby('ground_truth').agg({\n",
    "        'llm_failure': 'sum',\n",
    "        'bert_failure': 'sum'\n",
    "    }).reset_index()\n",
    "\n",
    "    # Add a total failure column\n",
    "    failure_counts['total_failures'] = failure_counts['llm_failure'] + failure_counts['bert_failure']\n",
    "\n",
    "    # Sort by total failures\n",
    "    failure_counts = failure_counts.sort_values(by='total_failures', ascending=False)\n",
    "\n",
    "    # Plot the data with stacked bars\n",
    "    plt.figure(figsize=(12, 6))\n",
    "    bar_width = 0.5\n",
    "    x = range(len(failure_counts))\n",
    "\n",
    "    # Plot LLM and BERT failures as stacked bars\n",
    "    plt.bar(x, failure_counts['llm_failure'], width=bar_width, label='LLM Failures', color='blue', alpha=0.7)\n",
    "    plt.bar(x, failure_counts['bert_failure'], width=bar_width, bottom=failure_counts['llm_failure'], label='BERT Failures', color='orange', alpha=0.7)\n",
    "\n",
    "    # Add labels and title\n",
    "    plt.xlabel('UD POS Tags')\n",
    "    plt.ylabel('Number of Failures')\n",
    "    plt.title('Failures by UD POS Tag')\n",
    "    \n",
    "    # Set x-axis ticks to show UD POS tags\n",
    "    plt.xticks(x, failure_counts['ground_truth'], rotation=45)\n",
    "\n",
    "    # Annotate bars with total failure counts on top\n",
    "    for i, total in enumerate(failure_counts['total_failures']):\n",
    "        plt.text(i, total + 0.5, str(int(total)), ha='center', fontsize=10)\n",
    "\n",
    "    # Add legend to distinguish between LLM and BERT failures\n",
    "    plt.legend()\n",
    "\n",
    "    plt.tight_layout()\n",
    "    plt.show()\n"
   ]
  },
  {
   "cell_type": "code",
   "execution_count": 22,
   "metadata": {},
   "outputs": [
    {
     "data": {
      "image/png": "[encoded data removed]",
      "text/plain": [
       "<Figure size 1200x600 with 1 Axes>"
      ]
     },
     "metadata": {},
     "output_type": "display_data"
    }
   ],
   "source": [
    "plot_failed_udpos_tags(df)"
   ]
  }
 ],
 "metadata": {
  "kernelspec": {
   "display_name": "base",
   "language": "python",
   "name": "python3"
  },
  "language_info": {
   "codemirror_mode": {
    "name": "ipython",
    "version": 3
   },
   "file_extension": ".py",
   "mimetype": "text/x-python",
   "name": "python",
   "nbconvert_exporter": "python",
   "pygments_lexer": "ipython3",
   "version": "3.11.10"
  }
 },
 "nbformat": 4,
 "nbformat_minor": 2
}
